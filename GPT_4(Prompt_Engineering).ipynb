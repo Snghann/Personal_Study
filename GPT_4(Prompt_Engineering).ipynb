{
 "cells": [
  {
   "cell_type": "code",
   "execution_count": null,
   "metadata": {
    "id": "r3ik6PwGkhwp"
   },
   "outputs": [],
   "source": [
    "import os\n",
    "from dotenv import load_dotenv\n",
    "import openai\n",
    "\n",
    "# .env 파일에서 환경 변수를 불러옵니다.\n",
    "load_dotenv()\n",
    "\n",
    "# 'OPENAI_API_KEY'라는 이름의 환경 변수 값을 가져옵니다.\n",
    "api_key = os.getenv(\"OPENAI_API_KEY\")\n",
    "\n",
    "# 가져온 API Key를 사용하여 클라이언트를 초기화합니다.\n",
    "client = openai.OpenAI(api_key = api_key)"
   ]
  },
  {
   "cell_type": "code",
   "execution_count": null,
   "metadata": {
    "colab": {
     "base_uri": "https://localhost:8080/"
    },
    "executionInfo": {
     "elapsed": 4967,
     "status": "ok",
     "timestamp": 1751694705203,
     "user": {
      "displayName": "김성한",
      "userId": "01456461380721472549"
     },
     "user_tz": -540
    },
    "id": "5ElAyxsGk1fW",
    "outputId": "463d1e55-1f82-4389-cd28-1818f2d09f0d"
   },
   "outputs": [],
   "source": [
    "response = client.chat.completions.create(\n",
    "    model = 'gpt-4o',\n",
    "    messages = [{\"role\" : \"user\",\n",
    "                \"content\" : \"2020년 월드시리즈는 누가 우승했어?\"}]\n",
    ")\n",
    "\n",
    "print(response.choices[0].message.content)"
   ]
  },
  {
   "cell_type": "code",
   "execution_count": null,
   "metadata": {
    "id": "VMdIIyenlmJM"
   },
   "outputs": [],
   "source": [
    "response1 = client.chat.completions.create(\n",
    "    model = \"gpt-4o\",\n",
    "    messages = [\n",
    "        {\"role\" : \"system\", \"content\" : '너는 친절하게 답해주는 비서야. 답변은 반말로 해줘'},\n",
    "        {\"role\" : \"user\", \"content\" : \"2020년 월드시리즈는 누가 우승했어?\"}\n",
    "    ]\n",
    ")"
   ]
  },
  {
   "cell_type": "code",
   "execution_count": null,
   "metadata": {
    "colab": {
     "base_uri": "https://localhost:8080/"
    },
    "executionInfo": {
     "elapsed": 11,
     "status": "ok",
     "timestamp": 1751694932823,
     "user": {
      "displayName": "김성한",
      "userId": "01456461380721472549"
     },
     "user_tz": -540
    },
    "id": "G5EM1oBuJp2J",
    "outputId": "fcef6e17-3129-473b-8c7d-201dc6001477"
   },
   "outputs": [],
   "source": [
    "print(response1.choices[0].message.content)"
   ]
  },
  {
   "cell_type": "code",
   "execution_count": null,
   "metadata": {
    "id": "-CnlTeMXJsUL"
   },
   "outputs": [],
   "source": [
    "response3 = client.chat.completions.create(\n",
    "    model = \"gpt-4o\",\n",
    "    messages = [\n",
    "        {\"role\" : \"user\", \"content\" : \"2002년 월드컵에서 가장 화제가 되었던 나라는 어디야?\"},\n",
    "        {\"role\": \"assistant\", \"content\" : \"바로 예상을 뚫고 4강 진출 신화를 일으킨 한국입니다.\"},\n",
    "        {\"role\" : \"user\", \"content\" : \"그 나라가 화제가 되었던 이유를 자세히 설명해줘\"}\n",
    "    ]\n",
    ")"
   ]
  },
  {
   "cell_type": "code",
   "execution_count": null,
   "metadata": {
    "colab": {
     "base_uri": "https://localhost:8080/"
    },
    "executionInfo": {
     "elapsed": 18,
     "status": "ok",
     "timestamp": 1751695220949,
     "user": {
      "displayName": "김성한",
      "userId": "01456461380721472549"
     },
     "user_tz": -540
    },
    "id": "x6fchd3gK4vb",
    "outputId": "f2688280-4f01-4db9-99fd-bf5ac3c3567c"
   },
   "outputs": [],
   "source": [
    "print(response3.choices[0].message.content)"
   ]
  },
  {
   "cell_type": "markdown",
   "metadata": {
    "id": "H7CQX109Oiy3"
   },
   "source": [
    "# 뉴스 요약 서비스"
   ]
  },
  {
   "cell_type": "code",
   "execution_count": null,
   "metadata": {
    "id": "cSA8cROzK9-W"
   },
   "outputs": [],
   "source": [
    "def return_news_answers(input_text):\n",
    "  system_prompt = \"\"\" 특정 문서가 입력되면 다음과 같은 형태로 문서를 분석하십시오.\n",
    "\n",
    "  1. 주어진 입력 : 에 대해서 반드시 주제 : , 요약 : , 가능한 질문 : 이 세가지를 순차적으로 작성해야 합니다.\n",
    "  2. 주제 : 는 입력 문서의 주제를 한 줄로 요약합니다.\n",
    "  3. 요약 : 은 입력 문서를 5줄로 요약합니다.\n",
    "  4. 가능한 질문 : 은 입력 문서로부터 사람들이 할 수 있는 질문 세 가지를 파이썬 리스트 형태로 작성합니다.\n",
    "  5. 가능한 질문 : 이 반드시 [\"질문1\", \"질문2\", \"질문3\"]과 같이 파이썬 리스트 형태로 작성되어야 하는 점에 유의하십시오.\n",
    "\n",
    "  이제 시작합니다.\"\"\"\n",
    "\n",
    "  user_content = \"입력 : \" + input_text + \"\\n 주제 : \"\n",
    "\n",
    "  res = client.chat.completions.create(\n",
    "      model = \"gpt-4o\",\n",
    "      messages = [\n",
    "          {\"role\" : \"system\", \"content\" : system_prompt},\n",
    "          {\"role\" : \"user\", \"content\" : user_content}\n",
    "      ]\n",
    "  )\n",
    "\n",
    "  return res.choices[0].message.content"
   ]
  },
  {
   "cell_type": "code",
   "execution_count": null,
   "metadata": {
    "id": "JUjO06eANkIz"
   },
   "outputs": [],
   "source": [
    "test= '''새처럼 움직이는 항공 로봇 '레이븐'.\n",
    "\n",
    "스위스 로진 연방 공대(EPFL) 신원동 박사팀이 개발했는데요.\n",
    "\n",
    "연구 팀은 새의 엉덩이와 발목, 발을 참고해 뒷다리를 만들었습니다.\n",
    "\n",
    "실제 새처럼 땅에서 걷고, 틈새를 건너뛰고, 위로 뛰어오릅니다.\n",
    "\n",
    "껑총 뛰면서 날아오르는 이 기능이 핵심인데요.\n",
    "\n",
    "기존 고정의 항공기처럼 지상을 달리지 않고 제자리에서 날아오릅니다.\n",
    "\n",
    "연구팀은 레인븐의 점프 이륙이 점프하지 않고 날아오를 때보다 에너지 효율이 더 높다고 설명했는데요.\n",
    "\n",
    "또 기존 고정익 항공기에 이 기능을 도입하면 복잡한 지형에서도 효율적으로 쓸 수 있을거라고 덧붙였습니다.\n",
    "\n",
    "#새 #로봇 #항공 #공대 #스위스 #신원동 #박사 #점프'''"
   ]
  },
  {
   "cell_type": "code",
   "execution_count": null,
   "metadata": {
    "colab": {
     "base_uri": "https://localhost:8080/"
    },
    "executionInfo": {
     "elapsed": 5270,
     "status": "ok",
     "timestamp": 1751696233351,
     "user": {
      "displayName": "김성한",
      "userId": "01456461380721472549"
     },
     "user_tz": -540
    },
    "id": "zMTbBVcwORgC",
    "outputId": "7720ae09-fb28-493e-f34d-92b6c1020c4a"
   },
   "outputs": [],
   "source": [
    "result = return_news_answers(input_text = test)\n",
    "print(result)"
   ]
  },
  {
   "cell_type": "markdown",
   "metadata": {
    "id": "Y3tzp4VfOmvp"
   },
   "source": [
    "# 키워드 추출 서비스"
   ]
  },
  {
   "cell_type": "code",
   "execution_count": null,
   "metadata": {
    "id": "MmxItKHAOeqV"
   },
   "outputs": [],
   "source": [
    "def return_keyword_answer(input_text):\n",
    "  system_prompt =  \"\"\"Youare anexpert atextracting keywords froma given sentence.\n",
    "  Extract keywords from agiven sentence thatarekey to the context.\n",
    "\n",
    "  [Example]\n",
    "  input: '외신에따르면중국이카이글로벌보도를인용해모더나가중국전용mRNA백신개발을위해중국에최대\n",
    "  10억달러(약1조3017억원)를투자하기로했다고보도했다.'\n",
    "\n",
    "  keyword: ['모더나', 'mRNA', '1조3017억원']\n",
    "  Now thesentence you wantto extract keywords from.\n",
    "  The output format mustbe a listin Python.\n",
    "  \"\"\"\n",
    "\n",
    "  user_content = 'input : ' + input_text + '\\nkeyword'\n",
    "  res = client.chat.completions.create(\n",
    "      model = \"gpt-4o\",\n",
    "      messages = [\n",
    "          {'role' : 'system', 'content' : system_prompt},\n",
    "          {'role' : 'user', 'content' : user_content}\n",
    "      ]\n",
    "  )\n",
    "\n",
    "  return res.choices[0].message.content"
   ]
  },
  {
   "cell_type": "code",
   "execution_count": null,
   "metadata": {
    "id": "wJJGJyScPt0S"
   },
   "outputs": [],
   "source": [
    " text= '''3일업계에따르면서울신라호텔의더파크뷰는12월120일저녁가격을19\n",
    "만5000원으로, 2131일저녁가격을21만5000원으로각각인상한다.평소평일·주\n",
    "말저녁가격이18만5000원이던것을고려하면각각1만원과3만원올랐다.가격인\n",
    "상에도불구하고더파크뷰의12월주말예약은대부분찼고12월평일예약역시\n",
    "빠르게마감되고있다고신라호텔측은전했다.\n",
    "롯데호텔서울의뷔페라세느는12월평일·주말저녁가격을19만원으로기존대비1만\n",
    "원올린다.크리스마스연휴때인2325일과연말3031일저녁가격은20만5000원\n",
    "이다.롯데호텔서울의라세느도현재크리스마스이브인12월24일과크리스마스\n",
    "당일인12월25일예약은대부분마감됐다.\n",
    "워커힐호텔앤리조트는그랜드워커힐에서운영하던더뷔페를비스타워커힐로확장이\n",
    "전해이날가격을올렸다.평일·주말저녁가격은15만9000원에서18만9000원으로3\n",
    "만원인상됐다.다만워커힐은이번가격책정에인플레이션(물가상승)을미리반\n",
    "영한만큼연말을앞두고추가인상을단행하지않을계획이라고밝혔다.\n",
    "그랜드인터컨티넨탈서울파르나스와인터컨티넨탈서울코엑스도다음주께인상된가\n",
    "격을공지할계획이다.'''"
   ]
  },
  {
   "cell_type": "code",
   "execution_count": null,
   "metadata": {
    "colab": {
     "base_uri": "https://localhost:8080/"
    },
    "executionInfo": {
     "elapsed": 1263,
     "status": "ok",
     "timestamp": 1751696521882,
     "user": {
      "displayName": "김성한",
      "userId": "01456461380721472549"
     },
     "user_tz": -540
    },
    "id": "CS5Yr02MPzp-",
    "outputId": "8ab61f8b-5a66-4e55-d093-ce85b95b35e0"
   },
   "outputs": [],
   "source": [
    "result = return_keyword_answer(text)\n",
    "print(result)"
   ]
  },
  {
   "cell_type": "markdown",
   "metadata": {
    "id": "PTh2FufnP9pC"
   },
   "source": [
    "# 감성 분석 서비스"
   ]
  },
  {
   "cell_type": "code",
   "execution_count": null,
   "metadata": {
    "id": "84KvV4iPP7Sy"
   },
   "outputs": [],
   "source": [
    "def return_label(input_text):\n",
    "  system_prompt = '''주어진 텍스트가 긍정인지 중립인지 부정인지 예측하시오. 당신의 답변\n",
    "은 오로지 [positive, negative, neutral] 셋 중 하나여야만 합니다.\n",
    " ex) 'SK하이닉스가 2분기 실적에서 역대 최고를 기록하였다' => \"positive\"'''\n",
    "\n",
    "  res = client.chat.completions.create(\n",
    "      model = 'gpt-4o',\n",
    "      messages = [\n",
    "          {'role' : 'system', 'content' : system_prompt},\n",
    "          {'role' : 'user', 'content' : input_text + \" => \"}\n",
    "      ]\n",
    "  )\n",
    "\n",
    "  return res.choices[0].message.content"
   ]
  },
  {
   "cell_type": "code",
   "execution_count": null,
   "metadata": {
    "id": "HPOEgDVfQrIu"
   },
   "outputs": [],
   "source": [
    "text = '''씨 씨 에스 로고 씨씨에스 주가가 상한가다. 3일 기준 씨씨에스는\n",
    "29.84%(825원) 상승한 3590원에 거래를 마쳤다. 상온 초전도체 이슈가 부각되면서\n",
    "주가가 연일 영향을 받는 모양새다.'''"
   ]
  },
  {
   "cell_type": "code",
   "execution_count": null,
   "metadata": {
    "colab": {
     "base_uri": "https://localhost:8080/"
    },
    "executionInfo": {
     "elapsed": 691,
     "status": "ok",
     "timestamp": 1751696750978,
     "user": {
      "displayName": "김성한",
      "userId": "01456461380721472549"
     },
     "user_tz": -540
    },
    "id": "HJyAoetbQvYi",
    "outputId": "6ff7a0bc-0de4-438a-9aae-20cb23e95684"
   },
   "outputs": [],
   "source": [
    "result = return_label(text)\n",
    "print(result)"
   ]
  },
  {
   "cell_type": "markdown",
   "metadata": {
    "id": "kPag6e6GRhxH"
   },
   "source": [
    "# 공장 자동화"
   ]
  },
  {
   "cell_type": "code",
   "execution_count": null,
   "metadata": {
    "id": "GiujNUcfQzXM"
   },
   "outputs": [],
   "source": [
    "import pandas as pd\n",
    "import ast\n",
    "\n",
    "# 데이터를 리스트의 형태로 정리\n",
    "data = {\n",
    "    \"수리일자\": [\n",
    "        \"2023-09-07\", \"2021-10-08\", \"2022-02-23\", \"2022-04-06\",\n",
    "        \"2021-02-20\", \"2021-02-26\", \"2021-04-13\", \"2021-07-30\",\n",
    "        \"2022-07-12\", \"2022-07-13\", \"2022-07-18\", \"2022-07-18\",\n",
    "        \"2022-08-11\", \"2022-09-13\", \"2022-10-04\", \"2022-10-26\",\n",
    "        \"2022-11-11\", \"2022-11-14\"],\n",
    "    \"고장내용\": [\n",
    "        \"출하장 입구 에어 50A 유니온 에어리크 재조임\",\n",
    "        \"SHIELD ROOM 화풍기 철거부위 마감,판넬벽체문타공\",\n",
    "        \"F/P 기능상실 PLC 확인 및 클램프 감지센샤 조정\",\n",
    "        \"와이어 전진동작이상 점검 중 정상 작동됨\",\n",
    "        \"클램프기동이상 오일보충 에어 제거\",\n",
    "        \"피이더 조작판 매입 콘센트 고정\",\n",
    "        \"QDC 파손 클램프 교체\",\n",
    "        \"광세샤 고정블록 볼트 마모 600ton 것으로 대체\",\n",
    "        \"휠 회전 작동불량 점검 세기정공 AS 요청\",\n",
    "        \"클러치 ASS'Y 작동이상 분해출문(세기정공)\",\n",
    "        \"클러치 assy 불량으로 전자접촉기교체\",\n",
    "        \"클러치 밋션 기어오일보출 ATF-3\",\n",
    "        \"휨 가지센서 단선 교체\",\n",
    "        \"안전1행정 타발정지위치이상 리미트캠스위치교체및조정,상사점리미트스위치교체\",\n",
    "        \"QDC 클램프 기동이상 에어빼기\",\n",
    "        \"피이더 소재 진입이상 캠 스위치 조정\",\n",
    "        \"카운터 완료시 정지시점 불량 카운타 각도 조정\",\n",
    "        \"NC FEEDER 코일 이송거리 이상 재 셋팅\"\n",
    "        ],\n",
    "     \"고장부품\": [None if x in [2, 3, 4, 5, 6, 7, 8, 9, 10, 11, 12, 13, 14, 15, 16,17] else x for x in [\"50A 유니온\", \"SHIELD ROOM 화풍기\"] + [None]*16],\n",
    "     \"불량유형\": [None if x in [2, 3, 4, 5, 6, 7, 8, 9, 10, 11, 12, 13, 14, 15, 16,17] else x for x in [\"에어리크\", \"철거부위 마감\"] + [None]*16],\n",
    "     \"조치내용\": [None if x in [2, 3, 4, 5, 6, 7, 8, 9, 10, 11, 12, 13, 14, 15, 16,17] else x for x in [\"재조임\", \"판넬벽체문타공\"] + [None]*16]\n",
    "}\n",
    "\n",
    "df = pd.DataFrame(data)"
   ]
  },
  {
   "cell_type": "code",
   "execution_count": null,
   "metadata": {
    "colab": {
     "base_uri": "https://localhost:8080/",
     "height": 943
    },
    "executionInfo": {
     "elapsed": 118,
     "status": "ok",
     "timestamp": 1751697186264,
     "user": {
      "displayName": "김성한",
      "userId": "01456461380721472549"
     },
     "user_tz": -540
    },
    "id": "b36APp1vRgzf",
    "outputId": "53b4f1d4-edab-4483-8521-25ddebdc83fe"
   },
   "outputs": [],
   "source": [
    "df"
   ]
  },
  {
   "cell_type": "code",
   "execution_count": null,
   "metadata": {
    "colab": {
     "base_uri": "https://localhost:8080/",
     "height": 846
    },
    "executionInfo": {
     "elapsed": 112,
     "status": "ok",
     "timestamp": 1751697374290,
     "user": {
      "displayName": "김성한",
      "userId": "01456461380721472549"
     },
     "user_tz": -540
    },
    "id": "5td8kwTWSZ_Y",
    "outputId": "6c2ee0b3-ce80-40a9-c3e9-fc9760475690"
   },
   "outputs": [],
   "source": [
    "sub_df = df[df['고장부품'].isnull()]\n",
    "sub_df.reset_index(drop = True, inplace = True)\n",
    "sub_df"
   ]
  },
  {
   "cell_type": "code",
   "execution_count": null,
   "metadata": {
    "colab": {
     "base_uri": "https://localhost:8080/"
    },
    "executionInfo": {
     "elapsed": 13,
     "status": "ok",
     "timestamp": 1751697528666,
     "user": {
      "displayName": "김성한",
      "userId": "01456461380721472549"
     },
     "user_tz": -540
    },
    "id": "nabobZWJS1Uo",
    "outputId": "cb84890f-9751-4b72-87c9-aa3fab351c28"
   },
   "outputs": [],
   "source": [
    "inputs = sub_df['고장내용'].to_list()\n",
    "print(inputs)"
   ]
  },
  {
   "cell_type": "code",
   "execution_count": null,
   "metadata": {
    "id": "idu-o8N2TxYS"
   },
   "outputs": [],
   "source": [
    "def return_label(text):\n",
    "  prompt = '''주어진고장내용텍스트로부터고장부품,불량유형,조치사항을추출하시오.\n",
    "  이때파이썬의Dictionary형태로반환하시오.\n",
    "  ex)\n",
    "  고장내용: '출하장입구에어50A유니온에어리크재조임'\n",
    "  출력:{\"고장부품\": \"50A유니온\", \"불량유형\" : \"에어리크\", \"조치내용\" : \"재조임\"}\n",
    "\n",
    "  고장내용: 'SHIELD ROOM화풍기철거부위마감,판넬벽체문타공'\n",
    "  출력:{\"고장부품\": \"SHIELD ROOM화풍기\", \"불량유형\": \"철거부위마감\",\"조치내용\": \"판넬벽체문타공\"}'''\n",
    "\n",
    "  res = client.chat.completions.create(\n",
    "      model = 'gpt-4o',\n",
    "      messages = [\n",
    "          {'role' : 'system', 'content' : prompt},\n",
    "          {'role' : 'user', 'content' : '고장내용 : ' + text + '\\n출력 : '}\n",
    "      ]\n",
    "  )\n",
    "\n",
    "  return res.choices[0].message.content"
   ]
  },
  {
   "cell_type": "code",
   "execution_count": null,
   "metadata": {
    "id": "KHZFGRAEUdgj"
   },
   "outputs": [],
   "source": [
    "result = []\n",
    "for input in inputs:\n",
    "  result.append(return_label(input))"
   ]
  },
  {
   "cell_type": "code",
   "execution_count": null,
   "metadata": {
    "colab": {
     "base_uri": "https://localhost:8080/"
    },
    "executionInfo": {
     "elapsed": 19,
     "status": "ok",
     "timestamp": 1751697781085,
     "user": {
      "displayName": "김성한",
      "userId": "01456461380721472549"
     },
     "user_tz": -540
    },
    "id": "RnVZ4n70UnfM",
    "outputId": "02e33fcc-b818-46a0-ae55-b7bd58dd3b0c"
   },
   "outputs": [],
   "source": [
    "print(result)"
   ]
  },
  {
   "cell_type": "code",
   "execution_count": null,
   "metadata": {
    "id": "hoDER8W-UvAo"
   },
   "outputs": [],
   "source": []
  }
 ],
 "metadata": {
  "colab": {
   "authorship_tag": "ABX9TyPVQXH+x2OdupeZgbxNDtHC",
   "collapsed_sections": [
    "H7CQX109Oiy3",
    "Y3tzp4VfOmvp"
   ],
   "provenance": []
  },
  "kernelspec": {
   "display_name": "Python 3",
   "name": "python3"
  },
  "language_info": {
   "name": "python"
  }
 },
 "nbformat": 4,
 "nbformat_minor": 0
}
