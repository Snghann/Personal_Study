{
 "cells": [
  {
   "cell_type": "code",
   "execution_count": null,
   "metadata": {
    "id": "ZC_ocnMkJUl1"
   },
   "outputs": [],
   "source": [
    "import torch\n",
    "import datetime\n",
    "import random\n",
    "import time\n",
    "\n",
    "import pandas as pd\n",
    "import numpy as np\n",
    "\n",
    "from tqdm import tqdm\n",
    "from sklearn.model_selection import train_test_split\n",
    "from sklearn.metrics import f1_score, accuracy_score, roc_auc_score\n",
    "\n",
    "from torch.optim import AdamW\n",
    "from torch.utils.data import RandomSampler, SequentialSampler, TensorDataset, DataLoader\n",
    "from transformers import BertTokenizer\n",
    "from transformers import BertForSequenceClassification, BertConfig\n",
    "from transformers import get_linear_schedule_with_warmup\n",
    "\n",
    "from datasets import load_dataset\n",
    "from tensorflow.keras.preprocessing.sequence import pad_sequences"
   ]
  },
  {
   "cell_type": "code",
   "execution_count": null,
   "metadata": {
    "colab": {
     "base_uri": "https://localhost:8080/"
    },
    "executionInfo": {
     "elapsed": 70,
     "status": "ok",
     "timestamp": 1750998452223,
     "user": {
      "displayName": "김성한",
      "userId": "01456461380721472549"
     },
     "user_tz": -540
    },
    "id": "K0iUJQvLoZU7",
    "outputId": "f44a0bc2-ac93-4c52-d6fc-f8f6cc770bcc"
   },
   "outputs": [],
   "source": [
    "import datasets\n",
    "print(datasets.__version__)"
   ]
  },
  {
   "cell_type": "code",
   "execution_count": null,
   "metadata": {
    "id": "PeXZpLEqLtV5"
   },
   "outputs": [],
   "source": [
    "#!pip install -U datasets --quiet"
   ]
  },
  {
   "cell_type": "code",
   "execution_count": null,
   "metadata": {
    "colab": {
     "base_uri": "https://localhost:8080/",
     "height": 286,
     "referenced_widgets": [
      "4362c547afd04b89bf3f860ffe37586e",
      "2ca8e5f84d4d4f98bcfb430cb2ee358e",
      "f203bc45ebb54d2eadc66df0d1af86f1",
      "e0bdb82b3ee445bab3f7e6021ef352a5",
      "2a18815f33754135a04669f1b5302cf0",
      "1bc1cccb787245d081c7c6bbd4b7a594",
      "7c7db5543c2645989ddd8d541c315a93",
      "339d2142a50543e0befb603aa8f89c21",
      "b2a1b18f732c4ac284baad86ab05f2bc",
      "512e039504f946a481ab171e07c370df",
      "1024b979604246009bec39f127d665ef",
      "cc4ba783270446cf9b544a164a825f14",
      "c9cdf23e23454cf78355655909d4410d",
      "3b858064ce604ed791ccd18d710e66d1",
      "f91e7eb5ab3c49689b19d65372210a76",
      "834805eb262c4305ac929c2efc8ecf96",
      "53f48e677bb34d73b1d1e4e58b69b1c8",
      "f56bdae407424be0a3e25f1760f91194",
      "fcd896ac2a4948e8897a8dfdd581cedd",
      "4c03d038f52e4acba99356d513d3f1aa",
      "1917d54d93e34698ab6aea3008ea600f",
      "28206fb1d22541b6a0d78e2779bf9657",
      "678ea6f3f56e4246986a2e62acab73c2",
      "46c90d5c58df4462a7f1479e99dafcf9",
      "1cd3c44cf39d4adbafa050181692ea86",
      "6b8dba8cf7664e98b81538c69bf50b95",
      "3644841614e7497aa5bc78d1f6779b59",
      "928e8bffca7f468da898b1b4ef2cad81",
      "2492ef18a94f4a32a91710a7570b9919",
      "7edb63c3b1be481b9f413fda37c69758",
      "f5a11fdbc60545d69eeb0311c0366f2c",
      "4a240f2d732744e197f7cb6428c4096d",
      "2d392b10f0f344a4b9b15ffdfb3d0c60",
      "c1254ccd4e3e4efa8c5d7a7b43e449c1",
      "169632d2e77c41d8bfb632eec7dd0b64",
      "672144f89d424e2083a8d6c1ee8d5c40",
      "24ef19645321436eb6e5f870ad6e0ba4",
      "0254a52c89dd4323a6d424945cf015ae",
      "987b3a5c29294199846b56f1a8a1635b",
      "d9e15fe37369437ca67e8dd65866b2ec",
      "e6b08d8ada7d41a08edf7796bae34114",
      "024f927fec1c4ee98e42c5c7084a1362",
      "7fbb97f1974e4c669b3eb48aa0aaa3e2",
      "df0c675255554c91b88020abf3cb4b3a",
      "cff21032aff64b99860a57fe222ab1d0",
      "3d68e093a45c4a8389cc748faee1d753",
      "b548015f8462483b9e90de185789a047",
      "dea814e4c3c9489993332c03f42d73a2",
      "e047d4bf3ba44fb88442367fa4256d83",
      "d2ef76c353214c708d7be9e64980ffcb",
      "f4458991128647f1a7dc4dd5a42f81f3",
      "78f21ff9bcf849eda1ee2d6a164dae42",
      "a661e557570244c58212e6cf87376907",
      "e88125fa85ee4f078fb6cffa9590838f",
      "6f118b6e56914f15a3bd63e4b4be525b"
     ]
    },
    "executionInfo": {
     "elapsed": 16417,
     "status": "ok",
     "timestamp": 1750998478892,
     "user": {
      "displayName": "김성한",
      "userId": "01456461380721472549"
     },
     "user_tz": -540
    },
    "id": "CcMVIEdbKZsh",
    "outputId": "f75fdb9d-6700-4e53-a9c3-5a25ff12c829"
   },
   "outputs": [],
   "source": [
    "# NLI 데이터 중 학습데이터(split=\"train\")를 로드.\n",
    "cs = load_dataset('klue', name = 'nli', split = 'train')\n",
    "\n",
    "# NLI 데이터 중 테스트데이터(split=\"validation\")을 로드.\n",
    "test_cs = load_dataset('klue', name = 'nli', split = 'validation')\n",
    "\n",
    "cs = cs.train_test_split(0.1, seed = 777)\n",
    "train_cs = cs['train']\n",
    "valid_cs = cs['test']"
   ]
  },
  {
   "cell_type": "code",
   "execution_count": null,
   "metadata": {
    "colab": {
     "base_uri": "https://localhost:8080/"
    },
    "executionInfo": {
     "elapsed": 29,
     "status": "ok",
     "timestamp": 1750998478948,
     "user": {
      "displayName": "김성한",
      "userId": "01456461380721472549"
     },
     "user_tz": -540
    },
    "id": "8dldR3kNLpLK",
    "outputId": "c5ee402a-6afc-4545-dda3-5144cf4d7320"
   },
   "outputs": [],
   "source": [
    "train_cs[:2]"
   ]
  },
  {
   "cell_type": "code",
   "execution_count": null,
   "metadata": {
    "id": "zdKM_6-QMb0d"
   },
   "outputs": [],
   "source": [
    "train_sentence = list(map(lambda train_cs : '[CLS] ' + str(train_cs['premise']) + ' [SEP] ' + str(train_cs['hypothesis']) + ' [SEP]', train_cs))\n",
    "valid_sentence = list(map(lambda valid_cs : '[CLS] ' + str(valid_cs['premise']) + ' [SEP] ' + str(valid_cs['hypothesis']) + ' [SEP]', valid_cs))\n",
    "test_sentence = list(map(lambda test_cs : '[CLS] ' + str(test_cs['premise']) + ' [SEP] ' + str(test_cs['hypothesis']) + ' [SEP]', test_cs))"
   ]
  },
  {
   "cell_type": "code",
   "execution_count": null,
   "metadata": {
    "id": "bxvPWNa8NbZU"
   },
   "outputs": [],
   "source": [
    "train_labels = train_cs['label']\n",
    "valid_labels = valid_cs['label']\n",
    "test_labels = test_cs['label']"
   ]
  },
  {
   "cell_type": "code",
   "execution_count": null,
   "metadata": {
    "colab": {
     "base_uri": "https://localhost:8080/"
    },
    "executionInfo": {
     "elapsed": 42,
     "status": "ok",
     "timestamp": 1750998484913,
     "user": {
      "displayName": "김성한",
      "userId": "01456461380721472549"
     },
     "user_tz": -540
    },
    "id": "4oSXPzTvNihq",
    "outputId": "014ad10f-d946-4b62-b1c6-11241dfa1969"
   },
   "outputs": [],
   "source": [
    "valid_sentence[:2]"
   ]
  },
  {
   "cell_type": "code",
   "execution_count": null,
   "metadata": {
    "colab": {
     "base_uri": "https://localhost:8080/"
    },
    "executionInfo": {
     "elapsed": 17,
     "status": "ok",
     "timestamp": 1750998484934,
     "user": {
      "displayName": "김성한",
      "userId": "01456461380721472549"
     },
     "user_tz": -540
    },
    "id": "IRpXd0CYNonh",
    "outputId": "b2f7cc07-afbb-45e5-e700-34ef5a19cc4e"
   },
   "outputs": [],
   "source": [
    "valid_labels[:2]"
   ]
  },
  {
   "cell_type": "code",
   "execution_count": null,
   "metadata": {
    "id": "tghQV6nqN9kL"
   },
   "outputs": [],
   "source": [
    "tokenizer = BertTokenizer.from_pretrained('klue/bert-base')"
   ]
  },
  {
   "cell_type": "code",
   "execution_count": null,
   "metadata": {
    "id": "UVMIantENvBM"
   },
   "outputs": [],
   "source": [
    "max_len = 128\n",
    "\n",
    "def data_to_tensor(sentences, labels, max_len):\n",
    "\n",
    "  # 토큰화\n",
    "  tokenized_sentence = [tokenizer.tokenize(sent) for sent in sentences]\n",
    "\n",
    "  # 정수 인코딩\n",
    "  input_ids = [tokenizer.convert_tokens_to_ids(x) for x in tokenized_sentence]\n",
    "\n",
    "  # 패딩\n",
    "  input_ids = pad_sequences(input_ids, maxlen = max_len, dtype = 'long', truncating = 'post', padding = 'post')\n",
    "\n",
    "  # 어텐션 마스크\n",
    "  attention_mask = []\n",
    "\n",
    "  for seq in input_ids:\n",
    "    seq_mask = [float(i > 0) for i in seq]\n",
    "    attention_mask.append(seq_mask)\n",
    "\n",
    "  tensor_inputs = torch.tensor(input_ids)\n",
    "  tensor_labels = torch.tensor(labels)\n",
    "  tensor_masks = torch.tensor(attention_mask)\n",
    "\n",
    "  return tensor_inputs, tensor_labels, tensor_masks"
   ]
  },
  {
   "cell_type": "code",
   "execution_count": null,
   "metadata": {
    "id": "LPnA_DwSPUdp"
   },
   "outputs": [],
   "source": [
    "train_inputs, train_labels, train_masks = data_to_tensor(train_sentence, train_labels, max_len)\n",
    "valid_inputs, valid_labels, valid_masks = data_to_tensor(valid_sentence, valid_labels, max_len)\n",
    "test_inputs, test_labels, test_masks = data_to_tensor(test_sentence, test_labels, max_len)"
   ]
  },
  {
   "cell_type": "code",
   "execution_count": null,
   "metadata": {
    "colab": {
     "base_uri": "https://localhost:8080/"
    },
    "executionInfo": {
     "elapsed": 16,
     "status": "ok",
     "timestamp": 1750998514185,
     "user": {
      "displayName": "김성한",
      "userId": "01456461380721472549"
     },
     "user_tz": -540
    },
    "id": "JfJtgkipP5DL",
    "outputId": "fd7972f2-c084-44f9-f9ea-c0d15e73a5a3"
   },
   "outputs": [],
   "source": [
    "print('정수인코딩결과:',test_inputs[0])\n",
    "print('-'*20)\n",
    "print('원본문장복원결과:', tokenizer.decode(test_inputs[0]))\n",
    "print('-'*20)\n",
    "print('어텐션마스크:', test_masks[0])\n",
    "print('-'*20)\n",
    "print('샘플의길이:', len(test_inputs[0]))\n",
    "print('-'*20)\n",
    "print('레이블:', test_labels[0])"
   ]
  },
  {
   "cell_type": "code",
   "execution_count": null,
   "metadata": {
    "id": "C2Kkr_7xP_NZ"
   },
   "outputs": [],
   "source": [
    "batch_size = 32\n",
    "\n",
    "train_data = TensorDataset(train_inputs, train_masks, train_labels)\n",
    "train_sampler = RandomSampler(train_data)\n",
    "train_dataloader = DataLoader(train_data, sampler = train_sampler, batch_size = batch_size)\n",
    "\n",
    "valid_data = TensorDataset(valid_inputs, valid_masks, valid_labels)\n",
    "valid_sampler = SequentialSampler(valid_data)\n",
    "valid_dataloader = DataLoader(valid_data, sampler = valid_sampler, batch_size = batch_size)\n",
    "\n",
    "test_data = TensorDataset(test_inputs, test_masks, test_labels)\n",
    "test_sampler = RandomSampler(test_data)\n",
    "test_dataloader = DataLoader(test_data, sampler = test_sampler, batch_size = batch_size)"
   ]
  },
  {
   "cell_type": "code",
   "execution_count": null,
   "metadata": {
    "colab": {
     "base_uri": "https://localhost:8080/"
    },
    "executionInfo": {
     "elapsed": 49,
     "status": "ok",
     "timestamp": 1750998514247,
     "user": {
      "displayName": "김성한",
      "userId": "01456461380721472549"
     },
     "user_tz": -540
    },
    "id": "YoFh6_xsQ1W3",
    "outputId": "864472ae-d0a0-4b59-c565-b418f2095869"
   },
   "outputs": [],
   "source": [
    "device = torch.device('cuda' if torch.cuda.is_available() else 'cpu')\n",
    "print(device)"
   ]
  },
  {
   "cell_type": "code",
   "execution_count": null,
   "metadata": {
    "colab": {
     "base_uri": "https://localhost:8080/",
     "height": 906,
     "referenced_widgets": [
      "c4a90419ab4d442e8ab820e030477a69",
      "b23e211030fb4ee9adbf1d6efd9ba4eb",
      "8cbe7eefa1c0454f805b4b5e5e400283",
      "289267440e284dcd9671efb1ef905194",
      "e0655a2fadb64743ab36c66c4af84af1",
      "5b8d8f43c6854d3b92834b946d2574c2",
      "e8784df23f6e4c30bfc2ec490396cc7e",
      "1ea8638b187640bd80c625c4c1b230d0",
      "dae56e18636f404a9d814b9c041641ad",
      "5374a415b9764f74a5cfa330c23a00a0",
      "9cabb4440164487e9f67b70d5cf52bd0"
     ]
    },
    "executionInfo": {
     "elapsed": 15395,
     "status": "ok",
     "timestamp": 1750998529646,
     "user": {
      "displayName": "김성한",
      "userId": "01456461380721472549"
     },
     "user_tz": -540
    },
    "id": "xPQvdD_PRAlO",
    "outputId": "1ca3f7a3-d9f9-4f2c-eae6-8e55bfb4709b"
   },
   "outputs": [],
   "source": [
    "num_labels = 3\n",
    "model = BertForSequenceClassification.from_pretrained('klue/bert-base', num_labels = num_labels)\n",
    "model.to(device)"
   ]
  },
  {
   "cell_type": "code",
   "execution_count": null,
   "metadata": {
    "id": "xV-02qEYRL-J"
   },
   "outputs": [],
   "source": [
    "epochs = 3\n",
    "optimizer = AdamW(model.parameters(), lr = 2e-5)"
   ]
  },
  {
   "cell_type": "code",
   "execution_count": null,
   "metadata": {
    "id": "XQjY7f8uRqFD"
   },
   "outputs": [],
   "source": [
    "def metrics(prediction, labels):\n",
    "  y_pred = prediction\n",
    "  y_true = labels\n",
    "\n",
    "  accuracy = accuracy_score(y_pred = y_pred, y_true = y_true)\n",
    "  f1_micro = f1_score(y_pred = y_pred, y_true = y_true, average = 'micro', zero_division = 0)\n",
    "  f1_macro = f1_score(y_pred = y_pred, y_true = y_true, average = 'macro', zero_division = 0)\n",
    "  f1_weight = f1_score(y_pred = y_pred, y_true = y_true, average = 'weighted', zero_division = 0)\n",
    "\n",
    "  metrics = {'accuracy' : accuracy,\n",
    "             'f1_micro' : f1_micro,\n",
    "             'f1_macro' : f1_macro,\n",
    "             'f1_weight' : f1_weight}\n",
    "\n",
    "  return metrics"
   ]
  },
  {
   "cell_type": "code",
   "execution_count": null,
   "metadata": {
    "id": "aYODMI7YSWpZ"
   },
   "outputs": [],
   "source": [
    "def train_epoch(model, train_dataloader, optimzier, device):\n",
    "  total_loss = 0\n",
    "  model.train()\n",
    "\n",
    "  for step, batch in tqdm(enumerate(train_dataloader), desc = 'Training Batch'):\n",
    "    batch = tuple(t.to(device) for t in batch)\n",
    "    b_ids, b_mask, b_labels = batch\n",
    "\n",
    "    outputs = model(b_ids, token_type_ids = None, attention_mask = b_mask, labels = b_labels)\n",
    "    loss = outputs.loss\n",
    "\n",
    "    optimizer.zero_grad()\n",
    "    loss.backward()\n",
    "    optimizer.step()\n",
    "\n",
    "    total_loss += loss.item()\n",
    "\n",
    "  return total_loss / len(train_dataloader)"
   ]
  },
  {
   "cell_type": "code",
   "execution_count": null,
   "metadata": {
    "id": "RVsNSvv2kcYk"
   },
   "outputs": [],
   "source": [
    "def evaluation(model, valid_dataloader, device):\n",
    "  total_loss = 0\n",
    "  pred = []\n",
    "  true = []\n",
    "\n",
    "  model.eval()\n",
    "\n",
    "  for batch in valid_dataloader:\n",
    "    batch = tuple(t.to(device) for t in batch)\n",
    "    b_ids, b_mask, b_labels = batch\n",
    "\n",
    "    with torch.no_grad():\n",
    "      outputs = model(b_ids, token_type_ids = None, attention_mask = b_mask, labels = b_labels)\n",
    "\n",
    "    if outputs.loss is not None:\n",
    "      loss = outputs.loss\n",
    "      total_loss += loss.item()\n",
    "\n",
    "    logits = outputs.logits.detach().cpu().numpy()\n",
    "    labels_ids = b_labels.to('cpu').numpy()\n",
    "\n",
    "    pred.extend(np.argmax(logits, axis = 1).flatten())\n",
    "    true.extend(labels_ids.flatten())\n",
    "\n",
    "  eval_metrics = metrics(pred, true)\n",
    "\n",
    "  return total_loss / len(valid_dataloader), eval_metrics"
   ]
  },
  {
   "cell_type": "code",
   "execution_count": null,
   "metadata": {
    "colab": {
     "base_uri": "https://localhost:8080/"
    },
    "executionInfo": {
     "elapsed": 1397087,
     "status": "ok",
     "timestamp": 1751002076879,
     "user": {
      "displayName": "김성한",
      "userId": "01456461380721472549"
     },
     "user_tz": -540
    },
    "id": "HWYU7FVWmace",
    "outputId": "e88e493a-2250-4fd4-a737-c41904bc97b1"
   },
   "outputs": [],
   "source": [
    "min_val_loss = float('inf')\n",
    "\n",
    "for epoch in range(epochs):\n",
    "  print('======== Epoch {:} / {:} ========'.format(epoch + 1, epochs))\n",
    "  train_epoch(model, train_dataloader, optimizer, device)\n",
    "\n",
    "  print(\"\\nRunning Validation...\")\n",
    "  valid_loss, eval_metrics  = evaluation(model, valid_dataloader, device)\n",
    "  print(\" Validation Loss: {0:.2f}\".format(valid_loss))\n",
    "  print(\" Accuracy: {0:.2f}\".format(eval_metrics['accuracy']))\n",
    "  print(\" F1 Macro: {0:.2f}\".format(eval_metrics['f1_macro']))\n",
    "  print(\" F1 Micro: {0:.2f}\".format(eval_metrics['f1_micro']))\n",
    "  print(\" F1 Weighted: {0:.2f}\".format(eval_metrics['f1_weight']))\n",
    "\n",
    "  if valid_loss < min_val_loss:\n",
    "    print(f\"Validation loss decreased ({min_val_loss:.2f}--> {valid_loss:.2f}). Saving model ...\")\n",
    "    torch.save(model.state_dict(), 'best_model.pt')\n",
    "    min_val_loss = valid_loss"
   ]
  },
  {
   "cell_type": "code",
   "execution_count": null,
   "metadata": {
    "colab": {
     "base_uri": "https://localhost:8080/"
    },
    "executionInfo": {
     "elapsed": 20977,
     "status": "ok",
     "timestamp": 1751002132573,
     "user": {
      "displayName": "김성한",
      "userId": "01456461380721472549"
     },
     "user_tz": -540
    },
    "id": "3J9LNFvCno5Y",
    "outputId": "93bd9cb5-7e17-49f5-ed00-0d973c20ae3a"
   },
   "outputs": [],
   "source": [
    "model.load_state_dict(torch.load('best_model.pt'))\n",
    "\n",
    "valid_loss, eval_metrics = evaluation(model, test_dataloader, device)\n",
    "print(\" Test Loss: {0:.2f}\".format(valid_loss))\n",
    "print(\" Accuracy:{0:.2f}\".format(eval_metrics['accuracy']))\n",
    "print(\" F1 Macro:{0:.2f}\".format(eval_metrics['f1_macro']))\n",
    "print(\" F1 Micro:{0:.2f}\".format(eval_metrics['f1_micro']))\n",
    "print(\" F1 Weighted: {0:.2f}\".format(eval_metrics['f1_weight']))"
   ]
  },
  {
   "cell_type": "code",
   "execution_count": null,
   "metadata": {
    "colab": {
     "base_uri": "https://localhost:8080/"
    },
    "executionInfo": {
     "elapsed": 145,
     "status": "ok",
     "timestamp": 1751002285462,
     "user": {
      "displayName": "김성한",
      "userId": "01456461380721472549"
     },
     "user_tz": -540
    },
    "id": "CLHXcsBe23Em",
    "outputId": "bb1a18e1-ea62-4669-8142-158b2671e014"
   },
   "outputs": [],
   "source": [
    "from transformers import pipeline\n",
    "pipe2 = pipeline('text-classification', model = model.to(device), tokenizer = tokenizer, device = 0, max_length = 512, return_all_scores = True, function_to_apply = 'softmax')\n",
    "inputs2 = {\"text\" : \"흡연자분들은 발코니가 있는 방이면 발코니에서 흡연이 가능합니다.\", \"text_pair\" : \"어떤 방에서도 흡연은 금지됩니다.\"}\n",
    "result2 = pipe2([inputs2])\n",
    "print(result2)"
   ]
  },
  {
   "cell_type": "code",
   "execution_count": null,
   "metadata": {
    "colab": {
     "base_uri": "https://localhost:8080/"
    },
    "executionInfo": {
     "elapsed": 50,
     "status": "ok",
     "timestamp": 1751002362081,
     "user": {
      "displayName": "김성한",
      "userId": "01456461380721472549"
     },
     "user_tz": -540
    },
    "id": "hvBFifye3nmZ",
    "outputId": "22fd7157-9f79-4131-bf6b-c07be57cc59e"
   },
   "outputs": [],
   "source": [
    "pipe = pipeline('text-classification', model = model.to(device), tokenizer = tokenizer, device = 0, max_length = 512, function_to_apply = 'softmax')"
   ]
  },
  {
   "cell_type": "code",
   "execution_count": null,
   "metadata": {
    "id": "M6jMV6IK37Ap"
   },
   "outputs": [],
   "source": [
    "label_dict={'LABEL_0' :'얽힘','LABEL_1': '중립', 'LABEL_2' : '모순'}\n",
    "\n",
    "def prediction(sent1, sent2):\n",
    "  text = {\"text\" : sent1,\"text_pair\" : sent2}\n",
    "  result = pipe(text)\n",
    "  return [label_dict[result['label']]]"
   ]
  },
  {
   "cell_type": "code",
   "execution_count": null,
   "metadata": {
    "colab": {
     "base_uri": "https://localhost:8080/"
    },
    "executionInfo": {
     "elapsed": 20,
     "status": "ok",
     "timestamp": 1751002618530,
     "user": {
      "displayName": "김성한",
      "userId": "01456461380721472549"
     },
     "user_tz": -540
    },
    "id": "v_kZoj5z4RVH",
    "outputId": "56c9e752-196e-44af-8fb5-74e87a410b47"
   },
   "outputs": [],
   "source": [
    "sent1 = \"흡연자분들은 발코니가 있는 방이면 발코니에서 흡연이 가능합니다.\"\n",
    "sent2 = \"어떤 방에서도 흡연은 금지됩니다.\"\n",
    "\n",
    "prediction(sent1, sent2)"
   ]
  },
  {
   "cell_type": "code",
   "execution_count": null,
   "metadata": {
    "colab": {
     "base_uri": "https://localhost:8080/"
    },
    "executionInfo": {
     "elapsed": 26,
     "status": "ok",
     "timestamp": 1751002662671,
     "user": {
      "displayName": "김성한",
      "userId": "01456461380721472549"
     },
     "user_tz": -540
    },
    "id": "lv088Bc14V-L",
    "outputId": "6554bf34-8d8d-485d-b563-2969430128f4"
   },
   "outputs": [],
   "source": [
    "sent1 = \"저는,그냥알아내려고거기있었어요.\"\n",
    "sent2 = \"나는돈이어디로갔는지이해하려고했어요.\"\n",
    "\n",
    "prediction(sent1, sent2)"
   ]
  },
  {
   "cell_type": "code",
   "execution_count": null,
   "metadata": {
    "colab": {
     "base_uri": "https://localhost:8080/"
    },
    "executionInfo": {
     "elapsed": 34,
     "status": "ok",
     "timestamp": 1751002684996,
     "user": {
      "displayName": "김성한",
      "userId": "01456461380721472549"
     },
     "user_tz": -540
    },
    "id": "1GwuSd_i5Bnl",
    "outputId": "28cb00d5-37ed-4700-80f0-ed48aebdca13"
   },
   "outputs": [],
   "source": [
    "sent1 = \"저는 그것을 이해하려고 거기 있었어요.\"\n",
    "sent2 = \"저는 이해하려고 노력하고 있었어요.\"\n",
    "\n",
    "prediction(sent1, sent2)"
   ]
  },
  {
   "cell_type": "code",
   "execution_count": null,
   "metadata": {
    "id": "aRvhNV075J13"
   },
   "outputs": [],
   "source": []
  }
 ],
 "metadata": {
  "accelerator": "GPU",
  "colab": {
   "authorship_tag": "ABX9TyMsDXZUQDr5x6vYq8gBN/h5",
   "gpuType": "T4",
   "provenance": []
  },
  "kernelspec": {
   "display_name": "Python 3",
   "name": "python3"
  },
  "language_info": {
   "name": "python"
  }
 },
 "nbformat": 4,
 "nbformat_minor": 0
}
