{
 "cells": [
  {
   "cell_type": "code",
   "execution_count": null,
   "metadata": {
    "colab": {
     "base_uri": "https://localhost:8080/"
    },
    "executionInfo": {
     "elapsed": 11370,
     "status": "ok",
     "timestamp": 1751768584178,
     "user": {
      "displayName": "김성한",
      "userId": "01456461380721472549"
     },
     "user_tz": -540
    },
    "id": "CeJBL0UXirSy",
    "outputId": "7333542b-f6c9-4dda-81a4-60b2c6129a00"
   },
   "outputs": [],
   "source": [
    "!pip install langchain_community"
   ]
  },
  {
   "cell_type": "code",
   "execution_count": null,
   "metadata": {
    "colab": {
     "base_uri": "https://localhost:8080/"
    },
    "executionInfo": {
     "elapsed": 5576,
     "status": "ok",
     "timestamp": 1751768836432,
     "user": {
      "displayName": "김성한",
      "userId": "01456461380721472549"
     },
     "user_tz": -540
    },
    "id": "T4TYlTZfjwG8",
    "outputId": "31c170ae-e827-4a2f-de03-0366cb9ad249"
   },
   "outputs": [],
   "source": [
    "!pip install pypdf"
   ]
  },
  {
   "cell_type": "code",
   "execution_count": null,
   "metadata": {
    "colab": {
     "base_uri": "https://localhost:8080/"
    },
    "executionInfo": {
     "elapsed": 7757,
     "status": "ok",
     "timestamp": 1751769129552,
     "user": {
      "displayName": "김성한",
      "userId": "01456461380721472549"
     },
     "user_tz": -540
    },
    "id": "fULh_YMAk10h",
    "outputId": "3ba2b65d-fe7d-4c4e-c9b2-96f17a8d31a6"
   },
   "outputs": [],
   "source": [
    "!pip install pymupdf"
   ]
  },
  {
   "cell_type": "code",
   "execution_count": null,
   "metadata": {
    "colab": {
     "base_uri": "https://localhost:8080/"
    },
    "executionInfo": {
     "elapsed": 6932,
     "status": "ok",
     "timestamp": 1751769316224,
     "user": {
      "displayName": "김성한",
      "userId": "01456461380721472549"
     },
     "user_tz": -540
    },
    "id": "ciNUrzDTliz1",
    "outputId": "3b72eebf-5812-47d4-f7ae-f05cf64881c2"
   },
   "outputs": [],
   "source": [
    "!pip install pdfplumber"
   ]
  },
  {
   "cell_type": "code",
   "execution_count": null,
   "metadata": {
    "id": "IOaUZZt6hcs7"
   },
   "outputs": [],
   "source": [
    "import urllib.request\n",
    "\n",
    "from langchain.document_loaders import PyPDFLoader\n",
    "from langchain_community.document_loaders import PyMuPDFLoader\n",
    "from langchain.document_loaders import PDFPlumberLoader"
   ]
  },
  {
   "cell_type": "code",
   "execution_count": null,
   "metadata": {
    "colab": {
     "base_uri": "https://localhost:8080/"
    },
    "executionInfo": {
     "elapsed": 1812,
     "status": "ok",
     "timestamp": 1751768647968,
     "user": {
      "displayName": "김성한",
      "userId": "01456461380721472549"
     },
     "user_tz": -540
    },
    "id": "CZVxuQrpioLq",
    "outputId": "25e55c97-2980-4dbb-b45c-9a73ae27105a"
   },
   "outputs": [],
   "source": [
    "urllib.request.urlretrieve(\"https://github.com/chatgpt-kr/openai-api-tutorial/raw/main/ch06/2023_%EB%B6%81%ED%95%9C%EC%9D%B8%EA%B6%8C%EB%B3%B4%EA%B3%A0%EC%84%9C.pdf\", filename = \"2023_북한인권보고서.pdf\")"
   ]
  },
  {
   "cell_type": "markdown",
   "metadata": {
    "id": "mSkCc8sOjXmR"
   },
   "source": [
    "# PyPDFLoader"
   ]
  },
  {
   "cell_type": "code",
   "execution_count": null,
   "metadata": {
    "colab": {
     "base_uri": "https://localhost:8080/"
    },
    "executionInfo": {
     "elapsed": 15612,
     "status": "ok",
     "timestamp": 1751768871397,
     "user": {
      "displayName": "김성한",
      "userId": "01456461380721472549"
     },
     "user_tz": -540
    },
    "id": "VrOHH8AQjEGi",
    "outputId": "63c718e3-ae43-4e2f-c17f-115c849359d9"
   },
   "outputs": [],
   "source": [
    "%%time\n",
    "loader = PyPDFLoader('2023_북한인권보고서.pdf')\n",
    "pages = loader.load_and_split()\n",
    "print(\"청크의 수 :\", len(pages))"
   ]
  },
  {
   "cell_type": "code",
   "execution_count": null,
   "metadata": {
    "colab": {
     "base_uri": "https://localhost:8080/"
    },
    "executionInfo": {
     "elapsed": 40,
     "status": "ok",
     "timestamp": 1751768927774,
     "user": {
      "displayName": "김성한",
      "userId": "01456461380721472549"
     },
     "user_tz": -540
    },
    "id": "uYR5FZbnjkYj",
    "outputId": "abde0ada-eb12-4c07-a59d-1edd93d026c9"
   },
   "outputs": [],
   "source": [
    "pages[3]"
   ]
  },
  {
   "cell_type": "code",
   "execution_count": null,
   "metadata": {
    "colab": {
     "base_uri": "https://localhost:8080/",
     "height": 108
    },
    "executionInfo": {
     "elapsed": 53,
     "status": "ok",
     "timestamp": 1751769000834,
     "user": {
      "displayName": "김성한",
      "userId": "01456461380721472549"
     },
     "user_tz": -540
    },
    "id": "57_NFtkJkI16",
    "outputId": "056c630d-2f38-4858-d15d-3f03d9914fc3"
   },
   "outputs": [],
   "source": [
    "pages[3].page_content"
   ]
  },
  {
   "cell_type": "markdown",
   "metadata": {
    "id": "Ts6fFxIEkgDi"
   },
   "source": [
    "# PyMuPDFLoader 더 다양한 metadata 정보 and 속도 빠름"
   ]
  },
  {
   "cell_type": "code",
   "execution_count": null,
   "metadata": {
    "colab": {
     "base_uri": "https://localhost:8080/"
    },
    "executionInfo": {
     "elapsed": 2643,
     "status": "ok",
     "timestamp": 1751769140614,
     "user": {
      "displayName": "김성한",
      "userId": "01456461380721472549"
     },
     "user_tz": -540
    },
    "id": "8MPklO1Fkari",
    "outputId": "afd69180-2527-41a1-cc22-529b27107982"
   },
   "outputs": [],
   "source": [
    "%%time\n",
    "loader = PyMuPDFLoader(\"2023_북한인권보고서.pdf\")\n",
    "pages = loader.load_and_split()\n",
    "print(\"청크의 수 :\", len(pages))"
   ]
  },
  {
   "cell_type": "code",
   "execution_count": null,
   "metadata": {
    "colab": {
     "base_uri": "https://localhost:8080/"
    },
    "executionInfo": {
     "elapsed": 7,
     "status": "ok",
     "timestamp": 1751769163951,
     "user": {
      "displayName": "김성한",
      "userId": "01456461380721472549"
     },
     "user_tz": -540
    },
    "id": "HBNJtriKkvOR",
    "outputId": "bd5fcad4-ea4e-448b-b48c-fe109530c3ff"
   },
   "outputs": [],
   "source": [
    "pages[3]"
   ]
  },
  {
   "cell_type": "code",
   "execution_count": null,
   "metadata": {
    "colab": {
     "base_uri": "https://localhost:8080/",
     "height": 108
    },
    "executionInfo": {
     "elapsed": 21,
     "status": "ok",
     "timestamp": 1751769208609,
     "user": {
      "displayName": "김성한",
      "userId": "01456461380721472549"
     },
     "user_tz": -540
    },
    "id": "AkKwkyYnlCgv",
    "outputId": "9f53d107-28d7-43b9-8eff-c67254a31556"
   },
   "outputs": [],
   "source": [
    "pages[3].page_content"
   ]
  },
  {
   "cell_type": "markdown",
   "metadata": {
    "id": "WISZ8zJ4lQum"
   },
   "source": [
    "# PDFPlumberLoader 더 많은 metadata 정보 But, 속도 느림"
   ]
  },
  {
   "cell_type": "code",
   "execution_count": null,
   "metadata": {
    "colab": {
     "base_uri": "https://localhost:8080/"
    },
    "executionInfo": {
     "elapsed": 26939,
     "status": "ok",
     "timestamp": 1751769347972,
     "user": {
      "displayName": "김성한",
      "userId": "01456461380721472549"
     },
     "user_tz": -540
    },
    "id": "EsfGyeoXlNal",
    "outputId": "dba7c8e2-1301-4726-e6ac-a85beb6a3435"
   },
   "outputs": [],
   "source": [
    "%%time\n",
    "loader = PDFPlumberLoader(\"2023_북한인권보고서.pdf\")\n",
    "pages = loader.load_and_split()\n",
    "print('청크의 수 :', len(pages))"
   ]
  },
  {
   "cell_type": "code",
   "execution_count": null,
   "metadata": {
    "colab": {
     "base_uri": "https://localhost:8080/"
    },
    "executionInfo": {
     "elapsed": 51,
     "status": "ok",
     "timestamp": 1751769379674,
     "user": {
      "displayName": "김성한",
      "userId": "01456461380721472549"
     },
     "user_tz": -540
    },
    "id": "NvPbjz0_lhx9",
    "outputId": "b6d75cbd-61e7-4537-c238-892b93789dc0"
   },
   "outputs": [],
   "source": [
    "pages[3]"
   ]
  },
  {
   "cell_type": "code",
   "execution_count": null,
   "metadata": {
    "colab": {
     "base_uri": "https://localhost:8080/",
     "height": 108
    },
    "executionInfo": {
     "elapsed": 64,
     "status": "ok",
     "timestamp": 1751769395816,
     "user": {
      "displayName": "김성한",
      "userId": "01456461380721472549"
     },
     "user_tz": -540
    },
    "id": "jbbI1snfl3K2",
    "outputId": "333efccf-0128-4de0-af8f-a44f284dffc5"
   },
   "outputs": [],
   "source": [
    "pages[3].page_content"
   ]
  },
  {
   "cell_type": "code",
   "execution_count": null,
   "metadata": {
    "id": "UAWg5N_hl7G4"
   },
   "outputs": [],
   "source": []
  }
 ],
 "metadata": {
  "colab": {
   "authorship_tag": "ABX9TyMNBCvuc7MAZpgCXt1PNIvU",
   "provenance": []
  },
  "kernelspec": {
   "display_name": "Python 3",
   "name": "python3"
  },
  "language_info": {
   "name": "python"
  }
 },
 "nbformat": 4,
 "nbformat_minor": 0
}
