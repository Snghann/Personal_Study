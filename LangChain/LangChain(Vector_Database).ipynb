{
 "cells": [
  {
   "cell_type": "code",
   "execution_count": null,
   "metadata": {
    "colab": {
     "base_uri": "https://localhost:8080/"
    },
    "executionInfo": {
     "elapsed": 13058,
     "status": "ok",
     "timestamp": 1751771971447,
     "user": {
      "displayName": "김성한",
      "userId": "01456461380721472549"
     },
     "user_tz": -540
    },
    "id": "nF0Z2QCzvn8y",
    "outputId": "f4e24ae6-86bf-434c-b265-1f5f91ea4271"
   },
   "outputs": [],
   "source": [
    "!pip install -U langchain-community"
   ]
  },
  {
   "cell_type": "code",
   "execution_count": null,
   "metadata": {
    "colab": {
     "base_uri": "https://localhost:8080/"
    },
    "executionInfo": {
     "elapsed": 5834,
     "status": "ok",
     "timestamp": 1751772104959,
     "user": {
      "displayName": "김성한",
      "userId": "01456461380721472549"
     },
     "user_tz": -540
    },
    "id": "Y1MX04JKwM67",
    "outputId": "02fd50bc-e7a4-4ec3-f9fa-72e883b0c986"
   },
   "outputs": [],
   "source": [
    "!pip install pypdf"
   ]
  },
  {
   "cell_type": "code",
   "execution_count": null,
   "metadata": {
    "colab": {
     "base_uri": "https://localhost:8080/"
    },
    "executionInfo": {
     "elapsed": 26596,
     "status": "ok",
     "timestamp": 1751772796475,
     "user": {
      "displayName": "김성한",
      "userId": "01456461380721472549"
     },
     "user_tz": -540
    },
    "id": "YPrl3jXPyxJK",
    "outputId": "3e908074-9c63-446e-a47e-7d77a9eb2c48"
   },
   "outputs": [],
   "source": [
    "!pip install chromadb"
   ]
  },
  {
   "cell_type": "code",
   "execution_count": null,
   "metadata": {
    "colab": {
     "base_uri": "https://localhost:8080/"
    },
    "executionInfo": {
     "elapsed": 9825,
     "status": "ok",
     "timestamp": 1751774916429,
     "user": {
      "displayName": "김성한",
      "userId": "01456461380721472549"
     },
     "user_tz": -540
    },
    "id": "yYjUTrdb64oM",
    "outputId": "0910d749-f298-4ac7-f7bb-2dd29ba6c553"
   },
   "outputs": [],
   "source": [
    "!pip install faiss-cpu"
   ]
  },
  {
   "cell_type": "code",
   "execution_count": null,
   "metadata": {
    "id": "-UumbniKmpqB"
   },
   "outputs": [],
   "source": [
    "import os\n",
    "import urllib.request\n",
    "\n",
    "from langchain.document_loaders import PyPDFLoader\n",
    "from langchain.text_splitter import RecursiveCharacterTextSplitter\n",
    "from langchain.embeddings import OpenAIEmbeddings\n",
    "from langchain.vectorstores import Chroma\n",
    "from langchain.vectorstores import FAISS"
   ]
  },
  {
   "cell_type": "code",
   "execution_count": null,
   "metadata": {
    "id": "1QN85frYvihq"
   },
   "outputs": [],
   "source": [
    "import os\n",
    "from dotenv import load_dotenv\n",
    "\n",
    "load_dotenv()\n",
    "api_key = os.getenv(\"API_KEY_OPENAI\")"
   ]
  },
  {
   "cell_type": "code",
   "execution_count": null,
   "metadata": {
    "colab": {
     "base_uri": "https://localhost:8080/"
    },
    "executionInfo": {
     "elapsed": 829,
     "status": "ok",
     "timestamp": 1751772040296,
     "user": {
      "displayName": "김성한",
      "userId": "01456461380721472549"
     },
     "user_tz": -540
    },
    "id": "qSpxyGwFv3pj",
    "outputId": "c0a388b9-1f66-48db-aa10-399ba46672bc"
   },
   "outputs": [],
   "source": [
    "urllib.request.urlretrieve(\"https://github.com/chatgpt-kr/openai-api-tutorial/raw/main/ch06/2023_%EB%B6%81%ED%95%9C%EC%9D%B8%EA%B6%8C%EB%B3%B4%EA%B3%A0%EC%84%9C.pdf\", filename = \"2023_북한인권보고서.pdf\")"
   ]
  },
  {
   "cell_type": "markdown",
   "metadata": {
    "id": "g8ADZxic1oDG"
   },
   "source": [
    "# Chroma"
   ]
  },
  {
   "cell_type": "code",
   "execution_count": null,
   "metadata": {
    "colab": {
     "base_uri": "https://localhost:8080/"
    },
    "executionInfo": {
     "elapsed": 18507,
     "status": "ok",
     "timestamp": 1751775261855,
     "user": {
      "displayName": "김성한",
      "userId": "01456461380721472549"
     },
     "user_tz": -540
    },
    "id": "kN57ytq8wAg8",
    "outputId": "f8fa5abc-8b5d-4961-ed3d-5e179ed0925a"
   },
   "outputs": [],
   "source": [
    "loader = PyPDFLoader(\"2023_북한인권보고서.pdf\")\n",
    "pages = loader.load_and_split()\n",
    "print(\"청크의 수 :\", len(pages))"
   ]
  },
  {
   "cell_type": "code",
   "execution_count": null,
   "metadata": {
    "id": "zKICBldpwL9f"
   },
   "outputs": [],
   "source": [
    "text_splitter = RecursiveCharacterTextSplitter(chunk_size = 1000, chunk_overlap = 0)"
   ]
  },
  {
   "cell_type": "code",
   "execution_count": null,
   "metadata": {
    "colab": {
     "base_uri": "https://localhost:8080/"
    },
    "executionInfo": {
     "elapsed": 6,
     "status": "ok",
     "timestamp": 1751775274017,
     "user": {
      "displayName": "김성한",
      "userId": "01456461380721472549"
     },
     "user_tz": -540
    },
    "id": "AUdssmlLxKaz",
    "outputId": "a6e1a88b-efe6-414c-af5c-7d8249535b6d"
   },
   "outputs": [],
   "source": [
    "splitted_docs = text_splitter.split_documents(pages)\n",
    "print(\"분할된 청크의 수 :\", len(splitted_docs))"
   ]
  },
  {
   "cell_type": "code",
   "execution_count": null,
   "metadata": {
    "colab": {
     "base_uri": "https://localhost:8080/"
    },
    "executionInfo": {
     "elapsed": 23,
     "status": "ok",
     "timestamp": 1751775274938,
     "user": {
      "displayName": "김성한",
      "userId": "01456461380721472549"
     },
     "user_tz": -540
    },
    "id": "5qhusUo7xVQE",
    "outputId": "e0dbafa6-4b07-4643-b098-923a2b2f274d"
   },
   "outputs": [],
   "source": [
    "chunks = [splitted_doc.page_content for splitted_doc in splitted_docs]\n",
    "print('청크의 최대 길이 :', max(len(chunk) for chunk in chunks))\n",
    "print('청크의 최소 길이 :', min(len(chunk) for chunk in chunks))\n",
    "print('청크의 평균 길이 :', sum(map(len, chunks)) / len(chunks))"
   ]
  },
  {
   "cell_type": "code",
   "execution_count": null,
   "metadata": {
    "id": "bp-3q2hByGXL"
   },
   "outputs": [],
   "source": [
    "chunk_size = 400\n",
    "for i in range(0, len(splitted_docs), chunk_size):\n",
    "  chunk = splitted_docs[i : i + chunk_size]\n",
    "  db = Chroma.from_documents(chunk, OpenAIEmbeddings())"
   ]
  },
  {
   "cell_type": "code",
   "execution_count": null,
   "metadata": {
    "colab": {
     "base_uri": "https://localhost:8080/"
    },
    "executionInfo": {
     "elapsed": 7,
     "status": "ok",
     "timestamp": 1751775418757,
     "user": {
      "displayName": "김성한",
      "userId": "01456461380721472549"
     },
     "user_tz": -540
    },
    "id": "mAtfVBtdypVJ",
    "outputId": "ba4c9a66-b605-40f9-ddde-679a95d71b76"
   },
   "outputs": [],
   "source": [
    "print('문서의 수 :', db._collection.count())"
   ]
  },
  {
   "cell_type": "code",
   "execution_count": null,
   "metadata": {
    "colab": {
     "base_uri": "https://localhost:8080/"
    },
    "executionInfo": {
     "elapsed": 128,
     "status": "ok",
     "timestamp": 1751775422125,
     "user": {
      "displayName": "김성한",
      "userId": "01456461380721472549"
     },
     "user_tz": -540
    },
    "id": "AIeI-RwUz8w5",
    "outputId": "c63aab7d-a9b7-4f74-a8d5-59b269ae6ef1"
   },
   "outputs": [],
   "source": [
    "question = \"북한의 교육과정\"\n",
    "docs = db.similarity_search(question)\n",
    "print('문서의 수 :', len(docs))"
   ]
  },
  {
   "cell_type": "code",
   "execution_count": null,
   "metadata": {
    "colab": {
     "base_uri": "https://localhost:8080/"
    },
    "executionInfo": {
     "elapsed": 35,
     "status": "ok",
     "timestamp": 1751775424587,
     "user": {
      "displayName": "김성한",
      "userId": "01456461380721472549"
     },
     "user_tz": -540
    },
    "id": "hQIgsnbv0RtE",
    "outputId": "01573647-f21b-4bac-b9cb-b265eb5aaf1c"
   },
   "outputs": [],
   "source": [
    "for doc in docs:\n",
    "  print(doc)\n",
    "  print('--' * 50)"
   ]
  },
  {
   "cell_type": "code",
   "execution_count": null,
   "metadata": {
    "colab": {
     "base_uri": "https://localhost:8080/",
     "height": 316
    },
    "executionInfo": {
     "elapsed": 1191,
     "status": "error",
     "timestamp": 1751775432755,
     "user": {
      "displayName": "김성한",
      "userId": "01456461380721472549"
     },
     "user_tz": -540
    },
    "id": "9APGOfRD0Z5u",
    "outputId": "eacea7a8-03c0-4b99-91de-e3537489a523"
   },
   "outputs": [],
   "source": [
    "db_to_file = Chroma.from_documents(splitted_docs, OpenAIEmbeddings(), persist_directory = './chroma_test.db')\n",
    "print(db_to_file._collection.count())"
   ]
  },
  {
   "cell_type": "code",
   "execution_count": null,
   "metadata": {
    "id": "YCIK_ngu1MNF"
   },
   "outputs": [],
   "source": [
    "db_from_file = Chroma(persist_directory = 'chroma_test.db', embedding_function = OpenAIEmbeddings())\n",
    "print('문서의 수 :', db_from_file._collection.count())"
   ]
  },
  {
   "cell_type": "code",
   "execution_count": null,
   "metadata": {
    "id": "zQY1sqka3ADB"
   },
   "outputs": [],
   "source": [
    "question = '북한의 교육 과정'\n",
    "top_docs = db_from_file.similariry_search_with_relevance_scores(question, k = 3)\n",
    "\n",
    "for doc in top_docs:\n",
    "  print(doc)\n",
    "  print('--' * 50)"
   ]
  },
  {
   "cell_type": "markdown",
   "metadata": {
    "id": "JcmjLkdB3dbV"
   },
   "source": [
    "# FAISS"
   ]
  },
  {
   "cell_type": "code",
   "execution_count": null,
   "metadata": {
    "colab": {
     "base_uri": "https://localhost:8080/"
    },
    "executionInfo": {
     "elapsed": 16692,
     "status": "ok",
     "timestamp": 1751774367162,
     "user": {
      "displayName": "김성한",
      "userId": "01456461380721472549"
     },
     "user_tz": -540
    },
    "id": "gV_735gn3eRT",
    "outputId": "c372518e-36e1-42f8-d08d-3a65c10b6bf9"
   },
   "outputs": [],
   "source": [
    "loader = PyPDFLoader(\"2023_북한인권보고서.pdf\")\n",
    "pages = loader.load_and_split()\n",
    "print('청크의 수 :', len(pages))"
   ]
  },
  {
   "cell_type": "code",
   "execution_count": null,
   "metadata": {
    "id": "nRhmyiyY4yhq"
   },
   "outputs": [],
   "source": [
    "text_splitter = RecursiveCharacterTextSplitter(chunk_size = 1000, chunk_overlap = 0)"
   ]
  },
  {
   "cell_type": "code",
   "execution_count": null,
   "metadata": {
    "colab": {
     "base_uri": "https://localhost:8080/"
    },
    "executionInfo": {
     "elapsed": 12,
     "status": "ok",
     "timestamp": 1751774474834,
     "user": {
      "displayName": "김성한",
      "userId": "01456461380721472549"
     },
     "user_tz": -540
    },
    "id": "ZLEij7nN5Hgi",
    "outputId": "612641e6-eae8-4e54-b3d8-78a6ce870c01"
   },
   "outputs": [],
   "source": [
    "splitted_docs = text_splitter.split_documents(pages)\n",
    "print('분할된 청크의 수 :', len(splitted_docs))"
   ]
  },
  {
   "cell_type": "code",
   "execution_count": null,
   "metadata": {
    "colab": {
     "base_uri": "https://localhost:8080/"
    },
    "executionInfo": {
     "elapsed": 11,
     "status": "ok",
     "timestamp": 1751774664929,
     "user": {
      "displayName": "김성한",
      "userId": "01456461380721472549"
     },
     "user_tz": -540
    },
    "id": "Yxs8N68s5TFJ",
    "outputId": "e9a0ba3b-ebab-49fb-9be5-b4edee5f3d8d"
   },
   "outputs": [],
   "source": [
    "chunks = [splitted_doc.page_content for splitted_doc in splitted_docs]\n",
    "print('청크의 최대 길이 :', max(len(chunk) for chunk in chunks))\n",
    "print('청크의 최소 길이 :', min(len(chunk) for chunk in chunks))\n",
    "print('청크의 평균 길이 :', sum(map(len, chunks)) / len(chunks))"
   ]
  },
  {
   "cell_type": "code",
   "execution_count": null,
   "metadata": {
    "id": "_Voeqi6559-R"
   },
   "outputs": [],
   "source": [
    "chunk_size = 400\n",
    "\n",
    "for i in range(0, len(splitted_docs), chunk_size):\n",
    "  chunk = splitted_docs[i : i + chunk_size]\n",
    "  faiss_db = FAISS.from_documents(chunk, OpenAIEmbeddings())"
   ]
  },
  {
   "cell_type": "code",
   "execution_count": null,
   "metadata": {
    "colab": {
     "base_uri": "https://localhost:8080/"
    },
    "executionInfo": {
     "elapsed": 8,
     "status": "ok",
     "timestamp": 1751775030008,
     "user": {
      "displayName": "김성한",
      "userId": "01456461380721472549"
     },
     "user_tz": -540
    },
    "id": "KmnWZoNO6QpP",
    "outputId": "5defc0ba-1465-428a-b332-a5c4bbcd01e6"
   },
   "outputs": [],
   "source": [
    "print('문서의 수 :', faiss_db.index.ntotal)"
   ]
  },
  {
   "cell_type": "code",
   "execution_count": null,
   "metadata": {
    "id": "G7L9fAU87It7"
   },
   "outputs": [],
   "source": [
    "faiss_db.save_local('faiss_index')"
   ]
  },
  {
   "cell_type": "code",
   "execution_count": null,
   "metadata": {
    "id": "8s6xS7EK7sNH"
   },
   "outputs": [],
   "source": [
    "new_faiss = FAISS.load_local('faiss_index', OpenAIEmbeddings(), allow_dangerous_deserialization = True)"
   ]
  },
  {
   "cell_type": "code",
   "execution_count": null,
   "metadata": {
    "colab": {
     "base_uri": "https://localhost:8080/"
    },
    "executionInfo": {
     "elapsed": 321,
     "status": "ok",
     "timestamp": 1751775217260,
     "user": {
      "displayName": "김성한",
      "userId": "01456461380721472549"
     },
     "user_tz": -540
    },
    "id": "Of3vD1V9771V",
    "outputId": "cf70cf76-9f4c-42bb-ef93-12e87b625fcb"
   },
   "outputs": [],
   "source": [
    "question = \"북한의 교육과정\"\n",
    "docs = new_faiss.similarity_search(question)\n",
    "\n",
    "for doc in docs:\n",
    "  print(doc)\n",
    "  print('--' * 50)"
   ]
  },
  {
   "cell_type": "code",
   "execution_count": null,
   "metadata": {
    "id": "99YQTMU_8IOl"
   },
   "outputs": [],
   "source": []
  }
 ],
 "metadata": {
  "colab": {
   "authorship_tag": "ABX9TyNwBkwezpDufjhz0/ubDY/o",
   "provenance": []
  },
  "kernelspec": {
   "display_name": "Python 3",
   "name": "python3"
  },
  "language_info": {
   "name": "python"
  }
 },
 "nbformat": 4,
 "nbformat_minor": 0
}
