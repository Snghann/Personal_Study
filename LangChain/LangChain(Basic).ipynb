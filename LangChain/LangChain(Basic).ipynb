{
 "cells": [
  {
   "cell_type": "code",
   "execution_count": null,
   "metadata": {
    "colab": {
     "base_uri": "https://localhost:8080/"
    },
    "executionInfo": {
     "elapsed": 13647,
     "status": "ok",
     "timestamp": 1751705124643,
     "user": {
      "displayName": "김성한",
      "userId": "01456461380721472549"
     },
     "user_tz": -540
    },
    "id": "HFBx-JNDwfdb",
    "outputId": "be948ae0-baa1-4676-8712-fbecd5a1daf0"
   },
   "outputs": [],
   "source": [
    "!pip install -U langchain-community"
   ]
  },
  {
   "cell_type": "code",
   "execution_count": null,
   "metadata": {
    "id": "JmLS0HwnwrF4"
   },
   "outputs": [],
   "source": [
    "import os\n",
    "import pandas as pd\n",
    "import numpy as np\n",
    "\n",
    "from numpy import dot\n",
    "from numpy.linalg import norm\n",
    "from langchain.embeddings import OpenAIEmbeddings"
   ]
  },
  {
   "cell_type": "code",
   "execution_count": null,
   "metadata": {
    "id": "7dvdXEkMxBE-"
   },
   "outputs": [],
   "source": [
    "import os\n",
    "from dotenv import load_dotenv\n",
    "\n",
    "load_dotenv()\n",
    "api_key = os.getenv(\"API_KEY_OPENAI\")"
   ]
  },
  {
   "cell_type": "code",
   "execution_count": null,
   "metadata": {
    "colab": {
     "base_uri": "https://localhost:8080/"
    },
    "executionInfo": {
     "elapsed": 5939,
     "status": "ok",
     "timestamp": 1751705458891,
     "user": {
      "displayName": "김성한",
      "userId": "01456461380721472549"
     },
     "user_tz": -540
    },
    "id": "LD0VjvzzxsrM",
    "outputId": "3b33f56b-578a-42d8-c8d6-369376c8d7ff"
   },
   "outputs": [],
   "source": [
    "embeddings = OpenAIEmbeddings(model = \"text-embedding-ada-002\")\n",
    "query_embed = embeddings.embed_query('저는 배가 고파요')\n",
    "print(query_embed)"
   ]
  },
  {
   "cell_type": "code",
   "execution_count": null,
   "metadata": {
    "colab": {
     "base_uri": "https://localhost:8080/",
     "height": 237
    },
    "executionInfo": {
     "elapsed": 26,
     "status": "ok",
     "timestamp": 1751705762032,
     "user": {
      "displayName": "김성한",
      "userId": "01456461380721472549"
     },
     "user_tz": -540
    },
    "id": "xPQOV76XyAEl",
    "outputId": "3d2ee88f-abd6-4b4c-c941-d8e2c76c35ab"
   },
   "outputs": [],
   "source": [
    "data = [\n",
    "    '저는 배가 고파요',\n",
    "    '저기 배가 지나가네요',\n",
    "    '굶어서 허기가 지네요',\n",
    "    '허기 워기라는 게임이 있는데 즐거워',\n",
    "    '스팀에서 재밌는 거 해야지',\n",
    "    '스팀에어프라이어로 연어구이 해먹을거야'\n",
    "]\n",
    "\n",
    "df = pd.DataFrame(data, columns = ['text'])\n",
    "df"
   ]
  },
  {
   "cell_type": "code",
   "execution_count": null,
   "metadata": {
    "colab": {
     "base_uri": "https://localhost:8080/",
     "height": 237
    },
    "executionInfo": {
     "elapsed": 4066,
     "status": "ok",
     "timestamp": 1751705758514,
     "user": {
      "displayName": "김성한",
      "userId": "01456461380721472549"
     },
     "user_tz": -540
    },
    "id": "tOjq8b-IyfVG",
    "outputId": "2c76a205-c8ed-45eb-f6e6-af87d8372986"
   },
   "outputs": [],
   "source": [
    "def get_embeddings(text):\n",
    "  return embeddings.embed_query(text)\n",
    "\n",
    "df['embeddings'] = df.apply(lambda x : get_embeddings(x.text), axis = 1)\n",
    "df"
   ]
  },
  {
   "cell_type": "code",
   "execution_count": null,
   "metadata": {
    "colab": {
     "base_uri": "https://localhost:8080/",
     "height": 237
    },
    "executionInfo": {
     "elapsed": 3059,
     "status": "ok",
     "timestamp": 1751705807253,
     "user": {
      "displayName": "김성한",
      "userId": "01456461380721472549"
     },
     "user_tz": -540
    },
    "id": "E6wqSZomzFOG",
    "outputId": "aecaac1f-88b3-47fd-fbff-e19bf088668c"
   },
   "outputs": [],
   "source": [
    "df['embeddings'] = df.apply(lambda x : embeddings.embed_query(x.text), axis = 1)\n",
    "df"
   ]
  },
  {
   "cell_type": "code",
   "execution_count": null,
   "metadata": {
    "id": "h6MLRaEqzV0w"
   },
   "outputs": [],
   "source": [
    "def cos_sim(a, b):\n",
    "  return dot(a, b) / (norm(a)  * norm(b))\n",
    "\n",
    "def return_answer(df, query):\n",
    "  query_embedding = embeddings.embed_query(query)\n",
    "\n",
    "  df['simmilarity'] = df.embeddings.apply(lambda x : cos_sim(np.array(x), np.array(query_embedding)))\n",
    "  top_doc = df.sort_values('simmilarity', ascending = False).head(3)\n",
    "\n",
    "  return top_doc"
   ]
  },
  {
   "cell_type": "code",
   "execution_count": null,
   "metadata": {
    "colab": {
     "base_uri": "https://localhost:8080/",
     "height": 143
    },
    "executionInfo": {
     "elapsed": 585,
     "status": "ok",
     "timestamp": 1751706252847,
     "user": {
      "displayName": "김성한",
      "userId": "01456461380721472549"
     },
     "user_tz": -540
    },
    "id": "Xuvrm98G01c8",
    "outputId": "e0d002e1-be60-47c1-863b-4cf3e57cf717"
   },
   "outputs": [],
   "source": [
    "sim_result = return_answer(df, '아무것도 안 먹었더니 꼬르륵 소리가 나네')\n",
    "sim_result"
   ]
  },
  {
   "cell_type": "code",
   "execution_count": null,
   "metadata": {
    "id": "ehBoIkXs1A7F"
   },
   "outputs": [],
   "source": []
  }
 ],
 "metadata": {
  "colab": {
   "authorship_tag": "ABX9TyNPKYz8wJgcUuxIk5Py/4qZ",
   "provenance": []
  },
  "kernelspec": {
   "display_name": "Python 3",
   "name": "python3"
  },
  "language_info": {
   "name": "python"
  }
 },
 "nbformat": 4,
 "nbformat_minor": 0
}
