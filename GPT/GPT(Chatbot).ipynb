{
 "cells": [
  {
   "cell_type": "code",
   "execution_count": null,
   "metadata": {
    "id": "DG9a5esVAWKV"
   },
   "outputs": [],
   "source": [
    "from transformers import AutoTokenizer\n",
    "from transformers import GPT2LMHeadModel"
   ]
  },
  {
   "cell_type": "code",
   "execution_count": null,
   "metadata": {
    "id": "6LmS-4sTCa8T"
   },
   "outputs": [],
   "source": [
    "tokenizer = AutoTokenizer.from_pretrained('skt/kogpt2-base-v2', bos_token = '</s>', eos_token = '</s>', pad_token = '<pad>')\n",
    "model = GPT2LMHeadModel.from_pretrained('skt/kogpt2-base-v2')"
   ]
  },
  {
   "cell_type": "code",
   "execution_count": null,
   "metadata": {
    "colab": {
     "base_uri": "https://localhost:8080/"
    },
    "executionInfo": {
     "elapsed": 7,
     "status": "ok",
     "timestamp": 1751464168337,
     "user": {
      "displayName": "김성한",
      "userId": "01456461380721472549"
     },
     "user_tz": -540
    },
    "id": "WHZYjr_3CzgE",
    "outputId": "57db462c-c319-4263-a85a-99cc9220ad59"
   },
   "outputs": [],
   "source": [
    "print(tokenizer.bos_token_id)\n",
    "print(tokenizer.eos_token_id)\n",
    "print(tokenizer.pad_token_id)\n",
    "print('-' * 10)\n",
    "print(tokenizer.decode(1))\n",
    "print(tokenizer.decode(2))\n",
    "print(tokenizer.decode(3))\n",
    "print(tokenizer.decode(4))"
   ]
  },
  {
   "cell_type": "code",
   "execution_count": null,
   "metadata": {
    "id": "F513wE4tAkU9"
   },
   "outputs": [],
   "source": [
    "import urllib.request\n",
    "import pandas as pd"
   ]
  },
  {
   "cell_type": "code",
   "execution_count": null,
   "metadata": {
    "colab": {
     "base_uri": "https://localhost:8080/"
    },
    "executionInfo": {
     "elapsed": 94,
     "status": "ok",
     "timestamp": 1751464171199,
     "user": {
      "displayName": "김성한",
      "userId": "01456461380721472549"
     },
     "user_tz": -540
    },
    "id": "Q-qCrR8lAxem",
    "outputId": "8d1a5165-fd95-4de5-c5c6-0cdb727d9102"
   },
   "outputs": [],
   "source": [
    "urllib.request.urlretrieve(\"https://raw.githubusercontent.com/songys/Chatbot_data/master/ChatbotData.csv\", filename = 'ChatbotData.csv')"
   ]
  },
  {
   "cell_type": "code",
   "execution_count": null,
   "metadata": {
    "colab": {
     "base_uri": "https://localhost:8080/",
     "height": 206
    },
    "executionInfo": {
     "elapsed": 60,
     "status": "ok",
     "timestamp": 1751464171425,
     "user": {
      "displayName": "김성한",
      "userId": "01456461380721472549"
     },
     "user_tz": -540
    },
    "id": "VxzXrV1MA54x",
    "outputId": "3094bce7-bef1-4397-e511-b150f50026b0"
   },
   "outputs": [],
   "source": [
    "data = pd.read_csv('ChatbotData.csv')\n",
    "data.head()"
   ]
  },
  {
   "cell_type": "code",
   "execution_count": null,
   "metadata": {
    "colab": {
     "base_uri": "https://localhost:8080/"
    },
    "executionInfo": {
     "elapsed": 8,
     "status": "ok",
     "timestamp": 1751464172736,
     "user": {
      "displayName": "김성한",
      "userId": "01456461380721472549"
     },
     "user_tz": -540
    },
    "id": "d8OpkQq6A-C5",
    "outputId": "40c0ab2c-e492-4850-9903-fc6f983c93a1"
   },
   "outputs": [],
   "source": [
    "print(len(data))"
   ]
  },
  {
   "cell_type": "code",
   "execution_count": null,
   "metadata": {
    "id": "kcnRoGAHBILG"
   },
   "outputs": [],
   "source": [
    "from tqdm import tqdm\n",
    "import torch\n",
    "from torch.utils.data import Dataset, DataLoader"
   ]
  },
  {
   "cell_type": "code",
   "execution_count": null,
   "metadata": {
    "id": "9vhdPf-KBEcF"
   },
   "outputs": [],
   "source": [
    "batch_size = 32\n",
    "\n",
    "class ChatDataset(Dataset):\n",
    "  def __init__(self, data, tokenizer):\n",
    "    self.data = data\n",
    "    self.tokenizer = tokenizer\n",
    "\n",
    "  def __len__(self):\n",
    "    return len(self.data)\n",
    "\n",
    "  def __getitem__(self, idx):\n",
    "    question = self.data.Q.iloc[idx]\n",
    "    answer = self.data.A.iloc[idx]\n",
    "\n",
    "    bos_token = self.tokenizer.bos_token_id\n",
    "    eos_token = self.tokenizer.eos_token_id\n",
    "\n",
    "    sent = self.tokenizer.encode('' + question + '' + answer, add_special_tokens = False)\n",
    "    return torch.tensor([bos_token] + sent + [eos_token], dtype = torch.long)\n",
    "\n",
    "def collate_fn(batch):\n",
    "  return torch.nn.utils.rnn.pad_sequence(batch, batch_first = True, padding_value = tokenizer.pad_token_id)"
   ]
  },
  {
   "cell_type": "code",
   "execution_count": null,
   "metadata": {
    "id": "iFbeiP_OC3_J"
   },
   "outputs": [],
   "source": [
    "batch_size = 32\n",
    "chat_dataset = ChatDataset(data, tokenizer)\n",
    "data_loader = DataLoader(chat_dataset, batch_size = batch_size, collate_fn = collate_fn)"
   ]
  },
  {
   "cell_type": "code",
   "execution_count": null,
   "metadata": {
    "colab": {
     "base_uri": "https://localhost:8080/"
    },
    "executionInfo": {
     "elapsed": 15,
     "status": "ok",
     "timestamp": 1751464176814,
     "user": {
      "displayName": "김성한",
      "userId": "01456461380721472549"
     },
     "user_tz": -540
    },
    "id": "vVm2w7oHDNnA",
    "outputId": "0ae7d335-17c0-4899-a50a-76fa3ff6d009"
   },
   "outputs": [],
   "source": [
    "optimizer = torch.optim.Adam(model.parameters(), lr = 3e-5, eps = 1e-08)\n",
    "\n",
    "steps = len(data_loader) // batch_size + 1\n",
    "print(steps)"
   ]
  },
  {
   "cell_type": "code",
   "execution_count": null,
   "metadata": {
    "colab": {
     "base_uri": "https://localhost:8080/"
    },
    "executionInfo": {
     "elapsed": 153,
     "status": "ok",
     "timestamp": 1751464178618,
     "user": {
      "displayName": "김성한",
      "userId": "01456461380721472549"
     },
     "user_tz": -540
    },
    "id": "-CpB2W0PDZKv",
    "outputId": "8f5f123e-ec0b-4a7f-f3f8-58f9fb5dfe96"
   },
   "outputs": [],
   "source": [
    "device = torch.device('cuda' if torch.cuda.is_available() else 'cpu')\n",
    "model.to(device)"
   ]
  },
  {
   "cell_type": "code",
   "execution_count": null,
   "metadata": {
    "colab": {
     "base_uri": "https://localhost:8080/"
    },
    "id": "YnGgN917Di2R",
    "outputId": "b5e76875-047a-44d8-c6d4-1c8ff95ee444"
   },
   "outputs": [],
   "source": [
    "epochs = 3\n",
    "\n",
    "for epoch in range(0, epochs):\n",
    "  epoch_loss = 0\n",
    "\n",
    "  for batch in tqdm(data_loader, desc = f'Epoch {epoch + 1} / {epochs}'):\n",
    "    batch = batch.to(device)\n",
    "\n",
    "    labels = batch.clone()\n",
    "    optimizer.zero_grad()\n",
    "\n",
    "    outputs = model(input_ids = batch, labels = labels)\n",
    "    loss = outputs.loss\n",
    "    batch_loss = loss.mean()\n",
    "\n",
    "    batch_loss.backward()\n",
    "    optimizer.step()\n",
    "\n",
    "    epoch_loss += batch_loss.item()\n",
    "\n",
    "  print('[Epoch:{:>4}] cost = {:>.9}'.format(epoch+1, epoch_loss))"
   ]
  },
  {
   "cell_type": "code",
   "execution_count": null,
   "metadata": {
    "id": "ahW-aH-EEnid"
   },
   "outputs": [],
   "source": [
    "def return_answer(user_text):\n",
    "  sent = '' + user_text + ''\n",
    "  input_ids = [tokenizer.bos_token_id] + tokenizer.encode(sent, add_special_tokens = False)\n",
    "  input_ids = torch.tensor([input_ids], dtype = torch.long).to(device)\n",
    "  output = model.generate(input_ids, max_length = 50, do_sample = True, top_k = 2)\n",
    "  sentence = tokenizer.decode(output[0].tolist())\n",
    "  chatbot = sentence.split(' ')[1].replace('', '')\n",
    "  return chatbot"
   ]
  },
  {
   "cell_type": "code",
   "execution_count": null,
   "metadata": {
    "id": "igCJQ2QoHE7i"
   },
   "outputs": [],
   "source": [
    "return_answer('안녕!반가워~')"
   ]
  },
  {
   "cell_type": "code",
   "execution_count": null,
   "metadata": {
    "id": "zfeLPUijHHLv"
   },
   "outputs": [],
   "source": []
  }
 ],
 "metadata": {
  "accelerator": "GPU",
  "colab": {
   "authorship_tag": "ABX9TyN8maQe9KniukQoVuwmdGLj",
   "gpuType": "T4",
   "provenance": []
  },
  "kernelspec": {
   "display_name": "Python 3",
   "name": "python3"
  },
  "language_info": {
   "name": "python"
  }
 },
 "nbformat": 4,
 "nbformat_minor": 0
}
