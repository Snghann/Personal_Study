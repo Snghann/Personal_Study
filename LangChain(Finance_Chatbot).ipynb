{
 "cells": [
  {
   "cell_type": "code",
   "execution_count": null,
   "metadata": {
    "colab": {
     "base_uri": "https://localhost:8080/"
    },
    "executionInfo": {
     "elapsed": 56238,
     "status": "ok",
     "timestamp": 1751801991077,
     "user": {
      "displayName": "김성한",
      "userId": "01456461380721472549"
     },
     "user_tz": -540
    },
    "id": "DmMsaKaAmaxt",
    "outputId": "f93975aa-8086-4efc-ef4b-3e02037be8b8"
   },
   "outputs": [],
   "source": [
    "!pip install pypdf\n",
    "!pip install langchain_openai\n",
    "!pip install -U langchain-community\n",
    "!pip install chromadb"
   ]
  },
  {
   "cell_type": "code",
   "execution_count": null,
   "metadata": {
    "id": "9iQpSTSOmnCt"
   },
   "outputs": [],
   "source": [
    "import os\n",
    "import urllib.request\n",
    "import gradio as gr\n",
    "\n",
    "from langchain_openai import ChatOpenAI\n",
    "from langchain.text_splitter import RecursiveCharacterTextSplitter\n",
    "from langchain.embeddings import OpenAIEmbeddings\n",
    "from langchain.prompts import PromptTemplate\n",
    "from langchain.vectorstores import Chroma\n",
    "from langchain.document_loaders import PyPDFLoader\n",
    "from langchain.chains import RetrievalQA"
   ]
  },
  {
   "cell_type": "code",
   "execution_count": null,
   "metadata": {
    "id": "2xbo_cLFnQ95"
   },
   "outputs": [],
   "source": [
    "import os\n",
    "from dotenv import load_dotenv\n",
    "\n",
    "load_dotenv()\n",
    "api_key = os.getenv(\"API_KEY_OPENAI\")"
   ]
  },
  {
   "cell_type": "markdown",
   "metadata": {
    "id": "2FWKO4H8pBzm"
   },
   "source": [
    "# 데이터 로드 및 전처리"
   ]
  },
  {
   "cell_type": "code",
   "execution_count": null,
   "metadata": {
    "colab": {
     "base_uri": "https://localhost:8080/"
    },
    "executionInfo": {
     "elapsed": 833,
     "status": "ok",
     "timestamp": 1751802006831,
     "user": {
      "displayName": "김성한",
      "userId": "01456461380721472549"
     },
     "user_tz": -540
    },
    "id": "LyXOG-Icnn8s",
    "outputId": "49fa28a6-8e85-4e08-92fa-0b086fae5de5"
   },
   "outputs": [],
   "source": [
    "urllib.request.urlretrieve(\"https://github.com/chatgpt-kr/openai-api-tutorial/raw/main/ch07/2020_%EA%B2%BD%EC%A0%9C%EA%B8%88%EC%9C%B5%EC%9A%A9%EC%96%B4%20700%EC%84%A0_%EA%B2%8C%EC%8B%9C.pdf\",\n",
    "                           filename = '2020_경제금융용어 700선_게시.pdf')"
   ]
  },
  {
   "cell_type": "code",
   "execution_count": null,
   "metadata": {
    "colab": {
     "base_uri": "https://localhost:8080/"
    },
    "executionInfo": {
     "elapsed": 27565,
     "status": "ok",
     "timestamp": 1751802034397,
     "user": {
      "displayName": "김성한",
      "userId": "01456461380721472549"
     },
     "user_tz": -540
    },
    "id": "OKxu2Zdjn2EO",
    "outputId": "a4049e34-d70a-40ac-efa8-4e1a2845adb1"
   },
   "outputs": [],
   "source": [
    "loader = PyPDFLoader('2020_경제금융용어 700선_게시.pdf')\n",
    "texts = loader.load_and_split()\n",
    "print('문서의 수 :', len(texts))"
   ]
  },
  {
   "cell_type": "code",
   "execution_count": null,
   "metadata": {
    "colab": {
     "base_uri": "https://localhost:8080/"
    },
    "executionInfo": {
     "elapsed": 17,
     "status": "ok",
     "timestamp": 1751802034398,
     "user": {
      "displayName": "김성한",
      "userId": "01456461380721472549"
     },
     "user_tz": -540
    },
    "id": "YfiKxVaIoGKf",
    "outputId": "4625d1ac-d390-41cb-fed8-fc2ed0ceb186"
   },
   "outputs": [],
   "source": [
    "print(texts[0].page_content)"
   ]
  },
  {
   "cell_type": "code",
   "execution_count": null,
   "metadata": {
    "colab": {
     "base_uri": "https://localhost:8080/"
    },
    "executionInfo": {
     "elapsed": 9,
     "status": "ok",
     "timestamp": 1751802034398,
     "user": {
      "displayName": "김성한",
      "userId": "01456461380721472549"
     },
     "user_tz": -540
    },
    "id": "Ffdy2vaooWDP",
    "outputId": "f6a5248a-a845-4a89-887a-dd57134ddcb6"
   },
   "outputs": [],
   "source": [
    "print(texts[13].page_content)"
   ]
  },
  {
   "cell_type": "code",
   "execution_count": null,
   "metadata": {
    "colab": {
     "base_uri": "https://localhost:8080/"
    },
    "executionInfo": {
     "elapsed": 8,
     "status": "ok",
     "timestamp": 1751802034404,
     "user": {
      "displayName": "김성한",
      "userId": "01456461380721472549"
     },
     "user_tz": -540
    },
    "id": "SbYLgjdPoZkm",
    "outputId": "86ae654e-6d83-47df-864d-0ff2d5bddc7f"
   },
   "outputs": [],
   "source": [
    "texts = texts[13:]\n",
    "print('줄어든 청크의 수 :', len(texts))"
   ]
  },
  {
   "cell_type": "code",
   "execution_count": null,
   "metadata": {
    "colab": {
     "base_uri": "https://localhost:8080/"
    },
    "executionInfo": {
     "elapsed": 12,
     "status": "ok",
     "timestamp": 1751802034417,
     "user": {
      "displayName": "김성한",
      "userId": "01456461380721472549"
     },
     "user_tz": -540
    },
    "id": "5xDVxoD6or2Y",
    "outputId": "d108ec71-01c7-4f39-e868-62eaf8e4ee7f"
   },
   "outputs": [],
   "source": [
    "print(texts[-1].page_content)"
   ]
  },
  {
   "cell_type": "code",
   "execution_count": null,
   "metadata": {
    "colab": {
     "base_uri": "https://localhost:8080/"
    },
    "executionInfo": {
     "elapsed": 9,
     "status": "ok",
     "timestamp": 1751802034418,
     "user": {
      "displayName": "김성한",
      "userId": "01456461380721472549"
     },
     "user_tz": -540
    },
    "id": "4UE_ks7XoxuU",
    "outputId": "37e9268d-bab4-464a-ecb1-df3d475ebd94"
   },
   "outputs": [],
   "source": [
    "texts = texts[:-1]\n",
    "print('줄어든 청크의 수 :', len(texts))"
   ]
  },
  {
   "cell_type": "markdown",
   "metadata": {
    "id": "wmfy6EwBpDpB"
   },
   "source": [
    "# 임베딩 및 벡터 데이터베이스 적재"
   ]
  },
  {
   "cell_type": "code",
   "execution_count": null,
   "metadata": {
    "colab": {
     "base_uri": "https://localhost:8080/"
    },
    "executionInfo": {
     "elapsed": 12683,
     "status": "ok",
     "timestamp": 1751802047098,
     "user": {
      "displayName": "김성한",
      "userId": "01456461380721472549"
     },
     "user_tz": -540
    },
    "id": "rvIr74ago-VP",
    "outputId": "ba3b4323-42c7-4449-fd0e-1f9b20caa28d"
   },
   "outputs": [],
   "source": [
    "embedding = OpenAIEmbeddings(chunk_size = 100)\n",
    "\n",
    "vectordb = Chroma.from_documents(documents = texts, embedding = embedding)\n",
    "print(vectordb._collection.count())"
   ]
  },
  {
   "cell_type": "code",
   "execution_count": null,
   "metadata": {
    "colab": {
     "base_uri": "https://localhost:8080/"
    },
    "executionInfo": {
     "elapsed": 45,
     "status": "ok",
     "timestamp": 1751802047144,
     "user": {
      "displayName": "김성한",
      "userId": "01456461380721472549"
     },
     "user_tz": -540
    },
    "id": "29i01h6PpXCe",
    "outputId": "c55da601-ccf9-4577-dfcf-08b2111556a9"
   },
   "outputs": [],
   "source": [
    "for key in vectordb._collection.get():\n",
    "  print(key)"
   ]
  },
  {
   "cell_type": "code",
   "execution_count": null,
   "metadata": {
    "colab": {
     "base_uri": "https://localhost:8080/"
    },
    "executionInfo": {
     "elapsed": 63,
     "status": "ok",
     "timestamp": 1751802047212,
     "user": {
      "displayName": "김성한",
      "userId": "01456461380721472549"
     },
     "user_tz": -540
    },
    "id": "se6DXuNBvd9j",
    "outputId": "668b5f5d-8a86-44e9-ebdb-adbd2b39a8d6"
   },
   "outputs": [],
   "source": [
    "document = vectordb._collection.get()['documents']\n",
    "print('청크의 개수 :', len(document))\n",
    "print('-' * 100)\n",
    "print(\"0번 청크 출력 :\", document[0])"
   ]
  },
  {
   "cell_type": "code",
   "execution_count": null,
   "metadata": {
    "colab": {
     "base_uri": "https://localhost:8080/"
    },
    "executionInfo": {
     "elapsed": 65,
     "status": "ok",
     "timestamp": 1751802047281,
     "user": {
      "displayName": "김성한",
      "userId": "01456461380721472549"
     },
     "user_tz": -540
    },
    "id": "BNa_0NXJv4Yj",
    "outputId": "9d5d87a0-108b-4114-b4a6-473555c6573a"
   },
   "outputs": [],
   "source": [
    "embedding = vectordb._collection.get(include = ['embeddings'])['embeddings']\n",
    "print('임베딩 벡터의 개수 :', len(embedding))"
   ]
  },
  {
   "cell_type": "code",
   "execution_count": null,
   "metadata": {
    "colab": {
     "base_uri": "https://localhost:8080/"
    },
    "executionInfo": {
     "elapsed": 180,
     "status": "ok",
     "timestamp": 1751802047462,
     "user": {
      "displayName": "김성한",
      "userId": "01456461380721472549"
     },
     "user_tz": -540
    },
    "id": "g8cGZ3TywO7f",
    "outputId": "8fe577c8-501c-4daf-f49e-b95280259a09"
   },
   "outputs": [],
   "source": [
    "print('0번 청크의 임베딩 값 :', embedding[0])\n",
    "print('-' * 100)\n",
    "print('0번 청크의 임베딩 값의 길이 :', len(embedding[0]))"
   ]
  },
  {
   "cell_type": "code",
   "execution_count": null,
   "metadata": {
    "colab": {
     "base_uri": "https://localhost:8080/"
    },
    "executionInfo": {
     "elapsed": 253,
     "status": "ok",
     "timestamp": 1751802047716,
     "user": {
      "displayName": "김성한",
      "userId": "01456461380721472549"
     },
     "user_tz": -540
    },
    "id": "ZyB0YDz1wii7",
    "outputId": "73176654-b131-46be-dccb-d1515fda0533"
   },
   "outputs": [],
   "source": [
    "retriever = vectordb.as_retriever(search_kwargs = {\"k\" : 2})\n",
    "\n",
    "docs = retriever.get_relevant_documents(\"비트코인이 궁금해\")\n",
    "print(\"유사 문서 개수 :\", len(docs))\n",
    "print('-' * 100)\n",
    "\n",
    "print('첫 번째 유사 문서 :', docs[0].page_content)\n",
    "print('-' * 100)\n",
    "\n",
    "print('두 번째 유사 문서 :', docs[1].page_content)"
   ]
  },
  {
   "cell_type": "markdown",
   "metadata": {
    "id": "SzZfI54expqr"
   },
   "source": [
    "# 프롬프트 템플릿, LLM, 리트리버의 연결"
   ]
  },
  {
   "cell_type": "code",
   "execution_count": null,
   "metadata": {
    "id": "cSI2jgcUxf4o"
   },
   "outputs": [],
   "source": [
    "template = '''당신은 한국은행에서 만든 금융 용어를 설명해주는 금융쟁이입니다. 주어진 검색 결과를 바탕으로 답변하세요.\n",
    "검색 결과에 없는 내용이라면 답변할 수 없다고 하세요. 반말로 친근하게 답변하세요.\n",
    "{context}\n",
    "\n",
    "Question : {question}\n",
    "\n",
    "Answer :\n",
    "'''\n",
    "\n",
    "prompt = PromptTemplate.from_template(template)"
   ]
  },
  {
   "cell_type": "code",
   "execution_count": null,
   "metadata": {
    "id": "wBz6cU1lyWLP"
   },
   "outputs": [],
   "source": [
    "llm = ChatOpenAI(model_name = 'gpt-4o', temperature = 0)"
   ]
  },
  {
   "cell_type": "code",
   "execution_count": null,
   "metadata": {
    "id": "jHQBQxz6yeaj"
   },
   "outputs": [],
   "source": [
    "qa_chain = RetrievalQA.from_chain_type(\n",
    "    llm = llm,\n",
    "    chain_type_kwargs = {\"prompt\" : prompt},\n",
    "    retriever = retriever,\n",
    "    return_source_documents = True\n",
    ")"
   ]
  },
  {
   "cell_type": "code",
   "execution_count": null,
   "metadata": {
    "colab": {
     "base_uri": "https://localhost:8080/"
    },
    "executionInfo": {
     "elapsed": 1889,
     "status": "ok",
     "timestamp": 1751802049624,
     "user": {
      "displayName": "김성한",
      "userId": "01456461380721472549"
     },
     "user_tz": -540
    },
    "id": "Yv-SRFZLzEKT",
    "outputId": "ff04e380-2230-4019-f826-4414b2d3f860"
   },
   "outputs": [],
   "source": [
    "input = \"디커플링은 무엇인가?\"\n",
    "response = qa_chain(input)\n",
    "print(response)"
   ]
  },
  {
   "cell_type": "code",
   "execution_count": null,
   "metadata": {
    "id": "POTq1_adzSZy"
   },
   "outputs": [],
   "source": [
    "def get_response(input_text):\n",
    "  res = qa_chain(input_text)\n",
    "  return res['result'].strip()"
   ]
  },
  {
   "cell_type": "code",
   "execution_count": null,
   "metadata": {
    "colab": {
     "base_uri": "https://localhost:8080/"
    },
    "executionInfo": {
     "elapsed": 1133,
     "status": "ok",
     "timestamp": 1751802050761,
     "user": {
      "displayName": "김성한",
      "userId": "01456461380721472549"
     },
     "user_tz": -540
    },
    "id": "918D5R6xz-w5",
    "outputId": "63513c6b-a2c7-4e70-dca5-52f3dbe2bd2a"
   },
   "outputs": [],
   "source": [
    "input_text = \"너의 역할은 무엇이니??\"\n",
    "result = get_response(input_text)\n",
    "print(result)"
   ]
  },
  {
   "cell_type": "code",
   "execution_count": null,
   "metadata": {
    "colab": {
     "base_uri": "https://localhost:8080/"
    },
    "executionInfo": {
     "elapsed": 4000,
     "status": "ok",
     "timestamp": 1751802054759,
     "user": {
      "displayName": "김성한",
      "userId": "01456461380721472549"
     },
     "user_tz": -540
    },
    "id": "7F-5T4270GU_",
    "outputId": "e8295f48-0b81-4bdf-859d-68d6806500f8"
   },
   "outputs": [],
   "source": [
    "input_text = \"비트코인에 대해서 궁금해\"\n",
    "\n",
    "result = get_response(input_text)\n",
    "print(result)"
   ]
  },
  {
   "cell_type": "code",
   "execution_count": null,
   "metadata": {
    "colab": {
     "base_uri": "https://localhost:8080/",
     "height": 686
    },
    "id": "CnR1enAr0YPr",
    "outputId": "4bc86b53-ac3d-4290-d98f-40cda03b5fa0"
   },
   "outputs": [],
   "source": [
    "# 인터페이스 생성\n",
    "with gr.Blocks() as demo:\n",
    "  chatbot = gr.Chatbot(label = '경제 금융 용어 챗봇')   # 챗봇 레이블을 좌측 상단에 구성\n",
    "  msg = gr.Textbox(label = \"질문해주세요!\")   # 하단의 채팅창 레이블\n",
    "  clear = gr.Button(\"대화 초기화\")   # 대화 초기화 버튼\n",
    "\n",
    "  # 챗봇의 답변을 처리하는 함수\n",
    "  def respond(message, chat_history):\n",
    "     result = qa_chain(message)\n",
    "     bot_message = result['result']\n",
    "\n",
    "     # 채팅 기록에 사용자의 메시지의 봇의 응답을 추가\n",
    "     chat_history.append((message, bot_message))\n",
    "     return \"\", chat_history\n",
    "\n",
    "  # 사용자의 입력을 제출 하면 respond 함수가 호출\n",
    "  msg.submit(respond, [msg, chatbot], [msg, chatbot])\n",
    "\n",
    "  # '초기화' 버튼을 클릭하면 채팅 기록을 초기화\n",
    "  clear.click(lambda : None, None, chatbot, queue = False)\n",
    "\n",
    "demo.launch(debug = True)"
   ]
  },
  {
   "cell_type": "code",
   "execution_count": null,
   "metadata": {
    "id": "sAcMrWNY1h7V"
   },
   "outputs": [],
   "source": []
  }
 ],
 "metadata": {
  "colab": {
   "authorship_tag": "ABX9TyNyYf8H61sSejI56I25hIu6",
   "provenance": []
  },
  "kernelspec": {
   "display_name": "Python 3",
   "name": "python3"
  },
  "language_info": {
   "name": "python"
  }
 },
 "nbformat": 4,
 "nbformat_minor": 0
}
