{
 "cells": [
  {
   "cell_type": "code",
   "execution_count": null,
   "metadata": {
    "id": "cwXr90Xkwv_9"
   },
   "outputs": [],
   "source": [
    "import time\n",
    "import torch\n",
    "import random\n",
    "import numpy as np\n",
    "\n",
    "from transformers import AutoTokenizer\n",
    "from transformers import GPT2LMHeadModel"
   ]
  },
  {
   "cell_type": "markdown",
   "metadata": {
    "id": "3Yihr0FvxQKJ"
   },
   "source": [
    "# KoGPT2 로 문장 생성하기"
   ]
  },
  {
   "cell_type": "code",
   "execution_count": null,
   "metadata": {
    "colab": {
     "base_uri": "https://localhost:8080/",
     "height": 254,
     "referenced_widgets": [
      "aac42b57c7b34c24ad5bbc283945ef0c",
      "90f3df0fc8854620856c0a8b1fa1cd3b",
      "77880dcd0ab1446d9438d6b9248b03c5",
      "49e45a0c1ac74e7bba7e0af238bd4743",
      "5af91140e52d45a8be3a2862a8974924",
      "34a95316ccdb4a7db493c83a3baeff01",
      "7a09a435ef2d4281811c855950690de6",
      "924ed0a49a804ccfb53ebc1eeb28e2b5",
      "2d68888e84554b13b0fc855b8d3aac34",
      "92968826be1549fa8fd0a695e6358b8f",
      "a672a5a4def246bb992d5fd1e578da7b",
      "edf43fd3354e45f5b8796a235939a58c",
      "6e8ce1ba2fa84638a705804a23fb5394",
      "66e2c6898732470d89dd1e86751d8fd1",
      "82d20adec7ad489bac730c5f5690d367",
      "0077ed0df2f14faca9464f64f87a1cba",
      "07b55fca4726462dabf5a7646cfa00eb",
      "1558731e953645b1bb7693081fffe14b",
      "388dd815c7ef42cbae5ae267605660aa",
      "809f3d4e346e4bc8bb7e6d8b79bc94e8",
      "963b1bd1d92d4c769499902c2fba53f8",
      "18697afdcb284f098ea9a57352b28aad",
      "430d290023a047288e7464265eceb5c1",
      "afd0006c486d44d382d5cbdf714f3ede",
      "a0553aa5ca6242d6bbbee4dd79ef0c86",
      "71a3870120d24604b77403d40a5df81c",
      "7311f66c8f424755b03886a4a03fc948",
      "50b37599fed14b83b57ea7fa0b878dff",
      "23b08b05696f4e309432f6ad666ef600",
      "e14fd51e63b0473ab4c92c36da30be2d",
      "8dc705217567440195c2cea3ea7ed4ec",
      "1989e6081a4b49f8b2e3283dface380b",
      "96d3f5c7db4e4d9898b959731da03fa8",
      "9298a1c336fe4e74a103bb43f0667680",
      "8c566f979ebd4861ab4fdba70ada96be",
      "21131618468e4f67af268c065caf40e5",
      "d477018b0d55427f9e139dfff6baa618",
      "9dbd73d0cc034effa705e4afe2ad74ea",
      "f2f3f715ef534e1eaf06bf46c2bae132",
      "8f82f071cd8a4ea4af07afe10726eb8d",
      "9584adc3880d4d17bd60e40e82842d44",
      "139a63f5f02f410c903a9526378968cb",
      "9ad31b0feea74dbba9ed1b9da26725e0",
      "a50b85c8db7e48908c08397d399d21cf"
     ]
    },
    "executionInfo": {
     "elapsed": 11679,
     "status": "ok",
     "timestamp": 1751369812899,
     "user": {
      "displayName": "김성한",
      "userId": "01456461380721472549"
     },
     "user_tz": -540
    },
    "id": "WjkaBfvaxClo",
    "outputId": "9fe769db-bf7b-46c9-c0a5-30cb46c5e4b9"
   },
   "outputs": [],
   "source": [
    "model = GPT2LMHeadModel.from_pretrained('skt/kogpt2-base-v2')\n",
    "tokenizer = AutoTokenizer.from_pretrained('skt/kogpt2-base-v2')"
   ]
  },
  {
   "cell_type": "code",
   "execution_count": null,
   "metadata": {
    "id": "cL3jOTsHxl0d"
   },
   "outputs": [],
   "source": [
    "sent = '근육이 커지기 위해서는'"
   ]
  },
  {
   "cell_type": "code",
   "execution_count": null,
   "metadata": {
    "colab": {
     "base_uri": "https://localhost:8080/"
    },
    "executionInfo": {
     "elapsed": 16,
     "status": "ok",
     "timestamp": 1751369925473,
     "user": {
      "displayName": "김성한",
      "userId": "01456461380721472549"
     },
     "user_tz": -540
    },
    "id": "R4Ziy39Hx9Em",
    "outputId": "b79583d4-e9fb-40b6-9e04-4d48956ab2fd"
   },
   "outputs": [],
   "source": [
    "input_ids = tokenizer.encode(sent, return_tensors = 'pt')\n",
    "print(input_ids)"
   ]
  },
  {
   "cell_type": "code",
   "execution_count": null,
   "metadata": {
    "colab": {
     "base_uri": "https://localhost:8080/"
    },
    "executionInfo": {
     "elapsed": 7962,
     "status": "ok",
     "timestamp": 1751370025566,
     "user": {
      "displayName": "김성한",
      "userId": "01456461380721472549"
     },
     "user_tz": -540
    },
    "id": "-zcRgW-byEKH",
    "outputId": "4215b004-bef3-4e4f-c048-da004881e0bc"
   },
   "outputs": [],
   "source": [
    "output = model.generate(input_ids, max_length = 128, repetition_penalty = 2.0, use_cache = True)\n",
    "output_ids = output.numpy().tolist()[0]\n",
    "print(output_ids)"
   ]
  },
  {
   "cell_type": "code",
   "execution_count": null,
   "metadata": {
    "colab": {
     "base_uri": "https://localhost:8080/",
     "height": 72
    },
    "executionInfo": {
     "elapsed": 9,
     "status": "ok",
     "timestamp": 1751370042723,
     "user": {
      "displayName": "김성한",
      "userId": "01456461380721472549"
     },
     "user_tz": -540
    },
    "id": "3qXxh_MVyapN",
    "outputId": "e809649e-eda7-4146-91f7-eae90ef12349"
   },
   "outputs": [],
   "source": [
    "tokenizer.decode(output_ids)"
   ]
  },
  {
   "cell_type": "markdown",
   "metadata": {
    "id": "0JDIv2RdzlCr"
   },
   "source": [
    "# Numpy로 Top5 뽑기"
   ]
  },
  {
   "cell_type": "code",
   "execution_count": null,
   "metadata": {
    "id": "Q7KfE6DYzkxQ"
   },
   "outputs": [],
   "source": [
    "output = model(input_ids)\n",
    "logits = output.logits[0, -1]"
   ]
  },
  {
   "cell_type": "code",
   "execution_count": null,
   "metadata": {
    "colab": {
     "base_uri": "https://localhost:8080/"
    },
    "executionInfo": {
     "elapsed": 29,
     "status": "ok",
     "timestamp": 1751370429823,
     "user": {
      "displayName": "김성한",
      "userId": "01456461380721472549"
     },
     "user_tz": -540
    },
    "id": "ZITGOvZlygx4",
    "outputId": "5913e011-3331-4825-85f3-df83a01a3c71"
   },
   "outputs": [],
   "source": [
    "top5 = torch.topk(logits, k = 5)\n",
    "tokens = [tokenizer.decode(token_id) for token_id in top5.indices.tolist()]\n",
    "print(tokens)"
   ]
  },
  {
   "cell_type": "code",
   "execution_count": null,
   "metadata": {
    "colab": {
     "base_uri": "https://localhost:8080/",
     "height": 53
    },
    "executionInfo": {
     "elapsed": 13768,
     "status": "ok",
     "timestamp": 1751370633218,
     "user": {
      "displayName": "김성한",
      "userId": "01456461380721472549"
     },
     "user_tz": -540
    },
    "id": "xEXZ_6tTz_SH",
    "outputId": "0f5adf83-0461-419b-a93b-d9692717a1a0"
   },
   "outputs": [],
   "source": [
    "while len(input_ids[0]) < 50:\n",
    "  with torch.no_grad():\n",
    "    output = model(input_ids)\n",
    "  logits = output.logits[0, -1]\n",
    "  top5 = torch.topk(logits, k = 30)\n",
    "  token_id = random.choice(top5.indices.tolist())\n",
    "  input_ids = torch.cat([input_ids, torch.tensor([[token_id]])], dim = 1)\n",
    "\n",
    "tokenizer.decode(input_ids[0])"
   ]
  },
  {
   "cell_type": "code",
   "execution_count": null,
   "metadata": {
    "id": "xgBrkV1k0tld"
   },
   "outputs": [],
   "source": []
  }
 ],
 "metadata": {
  "colab": {
   "authorship_tag": "ABX9TyMDuS9XsZFzQ7H4hyZQX7ba",
   "provenance": []
  },
  "kernelspec": {
   "display_name": "Python 3",
   "name": "python3"
  },
  "language_info": {
   "name": "python"
  }
 },
 "nbformat": 4,
 "nbformat_minor": 0
}
