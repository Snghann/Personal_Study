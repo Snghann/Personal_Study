{
 "cells": [
  {
   "cell_type": "code",
   "execution_count": null,
   "metadata": {
    "colab": {
     "base_uri": "https://localhost:8080/"
    },
    "executionInfo": {
     "elapsed": 15657,
     "status": "ok",
     "timestamp": 1751719364945,
     "user": {
      "displayName": "김성한",
      "userId": "01456461380721472549"
     },
     "user_tz": -540
    },
    "id": "YqaGDRMN2Zyy",
    "outputId": "fb17af06-5609-41ac-b604-16bc0440641f"
   },
   "outputs": [],
   "source": [
    "!pip install langchain_openai langchain_experimental"
   ]
  },
  {
   "cell_type": "markdown",
   "metadata": {
    "id": "AmqUWpqenS_W"
   },
   "source": [
    "# RecursiveCharacterTextSplitter 길이 단위 청킹"
   ]
  },
  {
   "cell_type": "code",
   "execution_count": null,
   "metadata": {
    "colab": {
     "base_uri": "https://localhost:8080/"
    },
    "executionInfo": {
     "elapsed": 648,
     "status": "ok",
     "timestamp": 1751719640806,
     "user": {
      "displayName": "김성한",
      "userId": "01456461380721472549"
     },
     "user_tz": -540
    },
    "id": "Iwp_AOCjm-zs",
    "outputId": "90ac89ad-62db-4ee4-e95e-102a85c0a4c4"
   },
   "outputs": [],
   "source": [
    "import urllib.request\n",
    "from langchain.text_splitter import RecursiveCharacterTextSplitter\n",
    "\n",
    "urllib.request.urlretrieve(\"https://raw.githubusercontent.com/lovit/soynlp/master/tutorials/2016-10-20.txt\", filename = \"2016-10-20.txt\")\n",
    "\n",
    "with open(\"2016-10-20.txt\", encoding = 'utf-8') as f:\n",
    "  file = f.read()\n",
    "\n",
    "print('텍스트의 길이 :', len(file))"
   ]
  },
  {
   "cell_type": "code",
   "execution_count": null,
   "metadata": {
    "id": "7cdABYfWoDr1"
   },
   "outputs": [],
   "source": [
    "text_splitter = RecursiveCharacterTextSplitter(chunk_size = 500, chunk_overlap = 0)"
   ]
  },
  {
   "cell_type": "code",
   "execution_count": null,
   "metadata": {
    "colab": {
     "base_uri": "https://localhost:8080/"
    },
    "executionInfo": {
     "elapsed": 5716,
     "status": "ok",
     "timestamp": 1751720305526,
     "user": {
      "displayName": "김성한",
      "userId": "01456461380721472549"
     },
     "user_tz": -540
    },
    "id": "83csV1S6oamM",
    "outputId": "8496e76b-8fde-446a-aafe-faa0d8315f66"
   },
   "outputs": [],
   "source": [
    "texts = text_splitter.create_documents([file])\n",
    "print('분할된 청크의 수 :', len(texts))"
   ]
  },
  {
   "cell_type": "code",
   "execution_count": null,
   "metadata": {
    "colab": {
     "base_uri": "https://localhost:8080/"
    },
    "executionInfo": {
     "elapsed": 6,
     "status": "ok",
     "timestamp": 1751719894112,
     "user": {
      "displayName": "김성한",
      "userId": "01456461380721472549"
     },
     "user_tz": -540
    },
    "id": "TL4rWdAwozxg",
    "outputId": "faf38b93-0056-407d-df8e-51d3512b8b97"
   },
   "outputs": [],
   "source": [
    "texts[1]"
   ]
  },
  {
   "cell_type": "code",
   "execution_count": null,
   "metadata": {
    "colab": {
     "base_uri": "https://localhost:8080/",
     "height": 90
    },
    "executionInfo": {
     "elapsed": 13,
     "status": "ok",
     "timestamp": 1751719906466,
     "user": {
      "displayName": "김성한",
      "userId": "01456461380721472549"
     },
     "user_tz": -540
    },
    "id": "rvK9XMQvpBRb",
    "outputId": "a27db7a5-e5a5-4043-b7ef-8094849916fd"
   },
   "outputs": [],
   "source": [
    "texts[1].page_content"
   ]
  },
  {
   "cell_type": "code",
   "execution_count": null,
   "metadata": {
    "colab": {
     "base_uri": "https://localhost:8080/",
     "height": 90
    },
    "executionInfo": {
     "elapsed": 15,
     "status": "ok",
     "timestamp": 1751720316160,
     "user": {
      "displayName": "김성한",
      "userId": "01456461380721472549"
     },
     "user_tz": -540
    },
    "id": "eT-0CoeUqqhE",
    "outputId": "1ff640ad-9351-4181-ce67-90ba05108b2d"
   },
   "outputs": [],
   "source": [
    "texts[2].page_content"
   ]
  },
  {
   "cell_type": "code",
   "execution_count": null,
   "metadata": {
    "colab": {
     "base_uri": "https://localhost:8080/"
    },
    "executionInfo": {
     "elapsed": 40,
     "status": "ok",
     "timestamp": 1751719982748,
     "user": {
      "displayName": "김성한",
      "userId": "01456461380721472549"
     },
     "user_tz": -540
    },
    "id": "6vuKIo15pIun",
    "outputId": "6e3abbe2-32b0-49e8-ed2f-98367c5ecb11"
   },
   "outputs": [],
   "source": [
    "print('1번 청크의 길이 :', len(texts[1].page_content))\n",
    "print('2번 청크의 길이 :', len(texts[2].page_content))"
   ]
  },
  {
   "cell_type": "code",
   "execution_count": null,
   "metadata": {
    "colab": {
     "base_uri": "https://localhost:8080/"
    },
    "executionInfo": {
     "elapsed": 5739,
     "status": "ok",
     "timestamp": 1751720209401,
     "user": {
      "displayName": "김성한",
      "userId": "01456461380721472549"
     },
     "user_tz": -540
    },
    "id": "bPcLw5-EpYOQ",
    "outputId": "4363a484-464b-476d-e1ab-b452f1650986"
   },
   "outputs": [],
   "source": [
    "text_splitter = RecursiveCharacterTextSplitter(chunk_size = 500, chunk_overlap = 50)\n",
    "text = text_splitter.create_documents([file])\n",
    "print('분할된 청크의 수 :', len(text))"
   ]
  },
  {
   "cell_type": "code",
   "execution_count": null,
   "metadata": {
    "colab": {
     "base_uri": "https://localhost:8080/",
     "height": 90
    },
    "executionInfo": {
     "elapsed": 18,
     "status": "ok",
     "timestamp": 1751720233835,
     "user": {
      "displayName": "김성한",
      "userId": "01456461380721472549"
     },
     "user_tz": -540
    },
    "id": "QsgdmVyepkV8",
    "outputId": "801c073e-6e4c-4ec4-d863-55f1fa46b258"
   },
   "outputs": [],
   "source": [
    "text[1].page_content"
   ]
  },
  {
   "cell_type": "code",
   "execution_count": null,
   "metadata": {
    "colab": {
     "base_uri": "https://localhost:8080/",
     "height": 90
    },
    "executionInfo": {
     "elapsed": 29,
     "status": "ok",
     "timestamp": 1751720241039,
     "user": {
      "displayName": "김성한",
      "userId": "01456461380721472549"
     },
     "user_tz": -540
    },
    "id": "kVFK3ydpqWZ4",
    "outputId": "cb1e4684-e855-40a8-d599-9220af09a702"
   },
   "outputs": [],
   "source": [
    "text[2].page_content"
   ]
  },
  {
   "cell_type": "code",
   "execution_count": null,
   "metadata": {
    "colab": {
     "base_uri": "https://localhost:8080/"
    },
    "executionInfo": {
     "elapsed": 14,
     "status": "ok",
     "timestamp": 1751720271368,
     "user": {
      "displayName": "김성한",
      "userId": "01456461380721472549"
     },
     "user_tz": -540
    },
    "id": "nBQGZ1TVqaZO",
    "outputId": "b79c79c9-2222-421a-8929-4d92cf8e1f84"
   },
   "outputs": [],
   "source": [
    "print('1번 청크의 길이 :', len(text[1].page_content))\n",
    "print('2번 청크의 길이 :', len(text[2].page_content))"
   ]
  },
  {
   "cell_type": "markdown",
   "metadata": {
    "id": "07w_mrPgqwMA"
   },
   "source": [
    "# SemanticChunker 의미 고려 청킹"
   ]
  },
  {
   "cell_type": "code",
   "execution_count": null,
   "metadata": {
    "id": "Sj8jHQsGqhzl"
   },
   "outputs": [],
   "source": [
    "import os\n",
    "from langchain_openai.embeddings import OpenAIEmbeddings\n",
    "from langchain_experimental.text_splitter import SemanticChunker"
   ]
  },
  {
   "cell_type": "code",
   "execution_count": null,
   "metadata": {
    "id": "pnFJTOuMrlkL"
   },
   "outputs": [],
   "source": [
    "import os\n",
    "from dotenv import load_dotenv\n",
    "\n",
    "load_dotenv()\n",
    "api_key = os.getenv(\"API_KEY_OPENAI\")"
   ]
  },
  {
   "cell_type": "code",
   "execution_count": null,
   "metadata": {
    "colab": {
     "base_uri": "https://localhost:8080/"
    },
    "executionInfo": {
     "elapsed": 189,
     "status": "ok",
     "timestamp": 1751721131086,
     "user": {
      "displayName": "김성한",
      "userId": "01456461380721472549"
     },
     "user_tz": -540
    },
    "id": "baM-ENPwrVlE",
    "outputId": "9524fa70-5083-49a4-9768-6eb1d85fb7db"
   },
   "outputs": [],
   "source": [
    "urllib.request.urlretrieve(\"https://raw.githubusercontent.com/chatgpt-kr/openai-api-tutorial/main/ch06/test.txt\", filename=\"test.txt\")\n",
    "\n",
    "with open(\"test.txt\", encoding = \"utf-8\") as f:\n",
    "  file = f.read()\n",
    "\n",
    "print('텍스트의 길이 :', len(file))"
   ]
  },
  {
   "cell_type": "code",
   "execution_count": null,
   "metadata": {
    "colab": {
     "base_uri": "https://localhost:8080/"
    },
    "executionInfo": {
     "elapsed": 2459,
     "status": "ok",
     "timestamp": 1751721136841,
     "user": {
      "displayName": "김성한",
      "userId": "01456461380721472549"
     },
     "user_tz": -540
    },
    "id": "rpgLKTyMr_fK",
    "outputId": "5b40a4f4-2106-49ef-fab0-e36f237b9efd"
   },
   "outputs": [],
   "source": [
    "text_splitter = SemanticChunker(OpenAIEmbeddings())\n",
    "texts = text_splitter.create_documents([file])\n",
    "print('분할된 청크의 수 :', len(texts))"
   ]
  },
  {
   "cell_type": "code",
   "execution_count": null,
   "metadata": {
    "colab": {
     "base_uri": "https://localhost:8080/"
    },
    "executionInfo": {
     "elapsed": 24,
     "status": "ok",
     "timestamp": 1751721138111,
     "user": {
      "displayName": "김성한",
      "userId": "01456461380721472549"
     },
     "user_tz": -540
    },
    "id": "n_zNOe44s7L2",
    "outputId": "75b3e6cf-1d8c-425e-9609-af4f1e4cb2a4"
   },
   "outputs": [],
   "source": [
    "texts[0]"
   ]
  },
  {
   "cell_type": "markdown",
   "metadata": {
    "id": "6b0z-4Sot-dm"
   },
   "source": [
    "### 백분위수 방식"
   ]
  },
  {
   "cell_type": "code",
   "execution_count": null,
   "metadata": {
    "colab": {
     "base_uri": "https://localhost:8080/"
    },
    "executionInfo": {
     "elapsed": 1681,
     "status": "ok",
     "timestamp": 1751721299637,
     "user": {
      "displayName": "김성한",
      "userId": "01456461380721472549"
     },
     "user_tz": -540
    },
    "id": "rhD94evIs_T3",
    "outputId": "d50f9e62-7ddb-4531-bcb6-e2ec74b1075f"
   },
   "outputs": [],
   "source": [
    "percent_splitter = SemanticChunker(OpenAIEmbeddings(),\n",
    "                                   breakpoint_threshold_type = \"percentile\",\n",
    "                                   breakpoint_threshold_amount = 95)\n",
    "\n",
    "texts = percent_splitter.create_documents([file])\n",
    "print('분할된 청크의 수 :', len(texts))"
   ]
  },
  {
   "cell_type": "markdown",
   "metadata": {
    "id": "CS_oY-8xuiC6"
   },
   "source": [
    "### 표준편차 방식"
   ]
  },
  {
   "cell_type": "code",
   "execution_count": null,
   "metadata": {
    "colab": {
     "base_uri": "https://localhost:8080/"
    },
    "executionInfo": {
     "elapsed": 1254,
     "status": "ok",
     "timestamp": 1751721433055,
     "user": {
      "displayName": "김성한",
      "userId": "01456461380721472549"
     },
     "user_tz": -540
    },
    "id": "OxZMl-yFuccZ",
    "outputId": "87be32c6-2c9a-4a09-fba7-740ca0086940"
   },
   "outputs": [],
   "source": [
    "std_splitter = SemanticChunker(OpenAIEmbeddings(),\n",
    "                               breakpoint_threshold_type = \"standard_deviation\",\n",
    "                               breakpoint_threshold_amount = 3)\n",
    "\n",
    "texts = std_splitter.create_documents([file])\n",
    "print('분할된 청크의 수 :', len(texts))"
   ]
  },
  {
   "cell_type": "markdown",
   "metadata": {
    "id": "R-LP33MUvCS0"
   },
   "source": [
    "### 사분위수 방식"
   ]
  },
  {
   "cell_type": "code",
   "execution_count": null,
   "metadata": {
    "colab": {
     "base_uri": "https://localhost:8080/"
    },
    "executionInfo": {
     "elapsed": 1486,
     "status": "ok",
     "timestamp": 1751721556852,
     "user": {
      "displayName": "김성한",
      "userId": "01456461380721472549"
     },
     "user_tz": -540
    },
    "id": "0IYCZTjxu9HJ",
    "outputId": "6974d100-b7df-4f8a-9d3d-fd733c91729d"
   },
   "outputs": [],
   "source": [
    "quan_splitter = SemanticChunker(OpenAIEmbeddings(),\n",
    "                                breakpoint_threshold_type = \"interquartile\",\n",
    "                                breakpoint_threshold_amount = 1.5)\n",
    "\n",
    "texts = quan_splitter.create_documents([file])\n",
    "print('분할된 청크의 수 :', len(texts))"
   ]
  },
  {
   "cell_type": "code",
   "execution_count": null,
   "metadata": {
    "id": "T0PdUshmvYhz"
   },
   "outputs": [],
   "source": []
  }
 ],
 "metadata": {
  "colab": {
   "authorship_tag": "ABX9TyNAE6ntLCNe+rabItuoB5Z7",
   "provenance": []
  },
  "kernelspec": {
   "display_name": "Python 3",
   "name": "python3"
  },
  "language_info": {
   "name": "python"
  }
 },
 "nbformat": 4,
 "nbformat_minor": 0
}
