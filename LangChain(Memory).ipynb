{
 "cells": [
  {
   "cell_type": "code",
   "execution_count": null,
   "metadata": {
    "colab": {
     "base_uri": "https://localhost:8080/"
    },
    "executionInfo": {
     "elapsed": 14312,
     "status": "ok",
     "timestamp": 1751765335958,
     "user": {
      "displayName": "김성한",
      "userId": "01456461380721472549"
     },
     "user_tz": -540
    },
    "id": "fE4BtnFavkVG",
    "outputId": "75cd0e64-d6f9-47bd-a915-a26139b9b4d2"
   },
   "outputs": [],
   "source": [
    "!pip install langchain_community langchain_openai"
   ]
  },
  {
   "cell_type": "code",
   "execution_count": null,
   "metadata": {
    "id": "QMp8GQBKWWmE"
   },
   "outputs": [],
   "source": [
    "import os\n",
    "\n",
    "from langchain_openai import ChatOpenAI\n",
    "from langchain_core.prompts import PromptTemplate\n",
    "from langchain_core.runnables.history import RunnableWithMessageHistory\n",
    "from langchain_core.tracers.stdout import ConsoleCallbackHandler\n",
    "from langchain_community.chat_message_histories import ChatMessageHistory"
   ]
  },
  {
   "cell_type": "code",
   "execution_count": null,
   "metadata": {
    "id": "nptP9hsNXZ6H"
   },
   "outputs": [],
   "source": [
    "import os\n",
    "from dotenv import load_dotenv\n",
    "\n",
    "load_dotenv()\n",
    "api_key = os.getenv(\"API_KEY_OPENAI\")"
   ]
  },
  {
   "cell_type": "code",
   "execution_count": null,
   "metadata": {
    "id": "B7Ii2UdqXh3o"
   },
   "outputs": [],
   "source": [
    "# 객체 생성\n",
    "llm = ChatOpenAI(\n",
    "    model_name = \"gpt-4o\",\n",
    "    temperature = 0.1,\n",
    "    max_tokens = 2048\n",
    ")"
   ]
  },
  {
   "cell_type": "code",
   "execution_count": null,
   "metadata": {
    "colab": {
     "base_uri": "https://localhost:8080/"
    },
    "executionInfo": {
     "elapsed": 4684,
     "status": "ok",
     "timestamp": 1751765965001,
     "user": {
      "displayName": "김성한",
      "userId": "01456461380721472549"
     },
     "user_tz": -540
    },
    "id": "ZVUlnCmDYELR",
    "outputId": "66c1321f-0d8e-4699-a11c-12054cd613d3"
   },
   "outputs": [],
   "source": [
    "# query 내용\n",
    "question = \"세종대왕이 누구인지 설명해주세요\"\n",
    "\n",
    "# query\n",
    "result = llm.invoke(question)\n",
    "print(result.content)"
   ]
  },
  {
   "cell_type": "code",
   "execution_count": null,
   "metadata": {
    "colab": {
     "base_uri": "https://localhost:8080/"
    },
    "executionInfo": {
     "elapsed": 22,
     "status": "ok",
     "timestamp": 1751766162015,
     "user": {
      "displayName": "김성한",
      "userId": "01456461380721472549"
     },
     "user_tz": -540
    },
    "id": "JAeLoOiKYxBU",
    "outputId": "faed7bcc-db41-4308-e2df-c7f4fbe2931a"
   },
   "outputs": [],
   "source": [
    "# 질문 템플릿 형식 정의\n",
    "template = \"{who}가 누구인지 설명해주세요\"\n",
    "\n",
    "# 템플릿 완성\n",
    "prompt = PromptTemplate(\n",
    "    template = template,\n",
    "    input_variables = ['who']\n",
    ")\n",
    "\n",
    "print(prompt)"
   ]
  },
  {
   "cell_type": "code",
   "execution_count": null,
   "metadata": {
    "colab": {
     "base_uri": "https://localhost:8080/"
    },
    "executionInfo": {
     "elapsed": 3086,
     "status": "ok",
     "timestamp": 1751766291453,
     "user": {
      "displayName": "김성한",
      "userId": "01456461380721472549"
     },
     "user_tz": -540
    },
    "id": "gczDkDN3ZlkD",
    "outputId": "8977cb28-18e5-46cf-d12d-1cd9d52fede0"
   },
   "outputs": [],
   "source": [
    "# 연결된 chain 생성\n",
    "llm_chain = prompt | llm\n",
    "\n",
    "result = llm_chain.invoke({\"who\" : \"이순신 장군\"})\n",
    "print(result.content)"
   ]
  },
  {
   "cell_type": "code",
   "execution_count": null,
   "metadata": {
    "id": "TJX1ELMhaB9i"
   },
   "outputs": [],
   "source": [
    "result = llm_chain.invoke(\n",
    "    {\"who\" : \"이순신 장군\"},\n",
    "    config = {\"collbacks\" : [ConsoleCallbackHandler()]}\n",
    ")"
   ]
  },
  {
   "cell_type": "code",
   "execution_count": null,
   "metadata": {
    "colab": {
     "base_uri": "https://localhost:8080/"
    },
    "executionInfo": {
     "elapsed": 23,
     "status": "ok",
     "timestamp": 1751766444561,
     "user": {
      "displayName": "김성한",
      "userId": "01456461380721472549"
     },
     "user_tz": -540
    },
    "id": "825PsBe6ae7O",
    "outputId": "ca49692a-7c2e-4b58-b633-6871cb082341"
   },
   "outputs": [],
   "source": [
    "print(result)"
   ]
  },
  {
   "cell_type": "markdown",
   "metadata": {
    "id": "eG_k4Ek9bM9R"
   },
   "source": [
    "# RunnableWithMessageHistory 과거 대화 내역 반영"
   ]
  },
  {
   "cell_type": "code",
   "execution_count": null,
   "metadata": {
    "id": "0fDT3JhFag6s"
   },
   "outputs": [],
   "source": [
    "# 프롬프트 템플릿 생성\n",
    "template = '''아래는 사람과 AI의 친근한 대화입니다. AI의 이름은 코랩봄입니다.\n",
    "대화 문맥을 바탕으로 친절한 답변을 진행하세요.\n",
    "\n",
    "Current Conversation : {history}\n",
    "\n",
    "Human : {input}\n",
    "\n",
    "AI : '''\n",
    "\n",
    "prompt = PromptTemplate(\n",
    "    template = template,\n",
    "    input_variables = ['history', 'input']\n",
    ")\n",
    "\n",
    "# 객체를 새로 선언하고 prompt와 llm 객체를 연결합니다.\n",
    "llm = ChatOpenAI(model_name = 'gpt-4o')\n",
    "\n",
    "llm_chain = prompt | llm"
   ]
  },
  {
   "cell_type": "code",
   "execution_count": null,
   "metadata": {
    "id": "JX2uM18XcFPH"
   },
   "outputs": [],
   "source": [
    "store = {}\n",
    "session_id = 'test'"
   ]
  },
  {
   "cell_type": "code",
   "execution_count": null,
   "metadata": {
    "id": "cfnpd0TEetRf"
   },
   "outputs": [],
   "source": [
    "if session_id not in store:\n",
    "  store[session_id] = ChatMessageHistory()\n",
    "\n",
    "session_history = store[session_id]"
   ]
  },
  {
   "cell_type": "code",
   "execution_count": null,
   "metadata": {
    "id": "KjgsYhrce7F_"
   },
   "outputs": [],
   "source": [
    "message_history = RunnableWithMessageHistory(\n",
    "    llm_chain,\n",
    "    lambda session_id : session_history,\n",
    "    input_messages_key = \"input\",\n",
    "    history_messages_key = \"history\"\n",
    ")"
   ]
  },
  {
   "cell_type": "code",
   "execution_count": null,
   "metadata": {
    "colab": {
     "base_uri": "https://localhost:8080/"
    },
    "executionInfo": {
     "elapsed": 956,
     "status": "ok",
     "timestamp": 1751767951247,
     "user": {
      "displayName": "김성한",
      "userId": "01456461380721472549"
     },
     "user_tz": -540
    },
    "id": "L0q1jrjbgEBg",
    "outputId": "e855b5ea-0741-4299-dd91-b310d0496301"
   },
   "outputs": [],
   "source": [
    "result = message_history.invoke(\n",
    "    {\"input\" : \"당신은 어디에서 만들었습니까?\"},\n",
    "    config = {\"configurable\" : {\"session_id\" : \"test\"}}\n",
    ")\n",
    "\n",
    "print(result.content)"
   ]
  },
  {
   "cell_type": "code",
   "execution_count": null,
   "metadata": {
    "colab": {
     "base_uri": "https://localhost:8080/"
    },
    "executionInfo": {
     "elapsed": 1537,
     "status": "ok",
     "timestamp": 1751768054160,
     "user": {
      "displayName": "김성한",
      "userId": "01456461380721472549"
     },
     "user_tz": -540
    },
    "id": "-UEFMyEugX_4",
    "outputId": "bafe96c6-761d-4b25-8c40-5c15314516fd"
   },
   "outputs": [],
   "source": [
    "result = message_history.invoke(\n",
    "    {\"input\" : \"푸른 바다를 주제로 감성적이고 짧은 시를 하나 지어주세요\"},\n",
    "    config = {\"configurable\" : {\"session_id\" : \"test\"}}\n",
    ")\n",
    "\n",
    "print(result.content)"
   ]
  },
  {
   "cell_type": "code",
   "execution_count": null,
   "metadata": {
    "colab": {
     "base_uri": "https://localhost:8080/"
    },
    "executionInfo": {
     "elapsed": 1327,
     "status": "ok",
     "timestamp": 1751768122946,
     "user": {
      "displayName": "김성한",
      "userId": "01456461380721472549"
     },
     "user_tz": -540
    },
    "id": "UvdAuu00gzJH",
    "outputId": "66f4ed00-1455-4da3-b25a-b9ed984bb84c"
   },
   "outputs": [],
   "source": [
    "result = message_history.invoke(\n",
    "    {\"input\" : \"석양을 주제로도 해줘\"},\n",
    "    config = {\"configurable\" : {\"session_id\" : \"test\"}}\n",
    ")\n",
    "\n",
    "print(result.content)"
   ]
  },
  {
   "cell_type": "code",
   "execution_count": null,
   "metadata": {
    "colab": {
     "base_uri": "https://localhost:8080/"
    },
    "executionInfo": {
     "elapsed": 39,
     "status": "ok",
     "timestamp": 1751768133070,
     "user": {
      "displayName": "김성한",
      "userId": "01456461380721472549"
     },
     "user_tz": -540
    },
    "id": "Ni5Rz3Q3hD-C",
    "outputId": "af192a3a-f71c-4d88-ea6e-21d2c1d02ae9"
   },
   "outputs": [],
   "source": [
    "print(store)"
   ]
  },
  {
   "cell_type": "code",
   "execution_count": null,
   "metadata": {
    "id": "yh13xI3vhGxk"
   },
   "outputs": [],
   "source": []
  }
 ],
 "metadata": {
  "colab": {
   "authorship_tag": "ABX9TyNSRYEKQiwxvI+uvdTKTVzR",
   "provenance": []
  },
  "kernelspec": {
   "display_name": "Python 3",
   "name": "python3"
  },
  "language_info": {
   "name": "python"
  }
 },
 "nbformat": 4,
 "nbformat_minor": 0
}
