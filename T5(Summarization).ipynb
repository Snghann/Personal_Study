{
 "cells": [
  {
   "cell_type": "code",
   "execution_count": null,
   "metadata": {
    "colab": {
     "base_uri": "https://localhost:8080/"
    },
    "executionInfo": {
     "elapsed": 22286,
     "status": "ok",
     "timestamp": 1751631805749,
     "user": {
      "displayName": "김성한",
      "userId": "01456461380721472549"
     },
     "user_tz": -540
    },
    "id": "wkQMnJMTLlB-",
    "outputId": "e7b9a348-ee26-4326-c2c2-5c371b352891"
   },
   "outputs": [],
   "source": [
    "!pip install rouge\n",
    "!pip install konlpy"
   ]
  },
  {
   "cell_type": "code",
   "execution_count": null,
   "metadata": {
    "colab": {
     "base_uri": "https://localhost:8080/"
    },
    "executionInfo": {
     "elapsed": 21189,
     "status": "ok",
     "timestamp": 1751631826942,
     "user": {
      "displayName": "김성한",
      "userId": "01456461380721472549"
     },
     "user_tz": -540
    },
    "id": "EtGNrNHAMqa6",
    "outputId": "ec5e119f-1ad2-4c3c-bc52-d68ab1143cfc"
   },
   "outputs": [],
   "source": [
    "# 학습 데이터 다운로드\n",
    "!gdown https://drive.google.com/uc?id=13l621lx2nSnXpFpzh78UUEyds_DAzyn6\n",
    "\n",
    "# 테스트 데이터 다운로드\n",
    "!gdown https://drive.google.com/uc?id=10LwhiPlgjOZbtF0Bv5395wYIm23y_QfT"
   ]
  },
  {
   "cell_type": "code",
   "execution_count": null,
   "metadata": {
    "executionInfo": {
     "elapsed": 390,
     "status": "ok",
     "timestamp": 1751631827346,
     "user": {
      "displayName": "김성한",
      "userId": "01456461380721472549"
     },
     "user_tz": -540
    },
    "id": "Oee3CcBUM8e_"
   },
   "outputs": [],
   "source": [
    "import pandas as pd"
   ]
  },
  {
   "cell_type": "code",
   "execution_count": null,
   "metadata": {
    "executionInfo": {
     "elapsed": 41889,
     "status": "ok",
     "timestamp": 1751631869238,
     "user": {
      "displayName": "김성한",
      "userId": "01456461380721472549"
     },
     "user_tz": -540
    },
    "id": "GbFIQzLoM0iG"
   },
   "outputs": [],
   "source": [
    "train = pd.read_json('summ_train.json')\n",
    "test = pd.read_json('summ_test.json')"
   ]
  },
  {
   "cell_type": "code",
   "execution_count": null,
   "metadata": {
    "colab": {
     "base_uri": "https://localhost:8080/",
     "height": 206
    },
    "executionInfo": {
     "elapsed": 11,
     "status": "ok",
     "timestamp": 1751631869246,
     "user": {
      "displayName": "김성한",
      "userId": "01456461380721472549"
     },
     "user_tz": -540
    },
    "id": "rPodnwy0NEvt",
    "outputId": "fc76d132-3936-4cb8-ed71-238833ebd749"
   },
   "outputs": [],
   "source": [
    "train.head()"
   ]
  },
  {
   "cell_type": "code",
   "execution_count": null,
   "metadata": {
    "colab": {
     "base_uri": "https://localhost:8080/",
     "height": 206
    },
    "executionInfo": {
     "elapsed": 159,
     "status": "ok",
     "timestamp": 1751631869407,
     "user": {
      "displayName": "김성한",
      "userId": "01456461380721472549"
     },
     "user_tz": -540
    },
    "id": "uDw2yYh-NXWA",
    "outputId": "2c1435f6-eb52-4053-91b1-1a240464cd23"
   },
   "outputs": [],
   "source": [
    "test.head()"
   ]
  },
  {
   "cell_type": "code",
   "execution_count": null,
   "metadata": {
    "colab": {
     "base_uri": "https://localhost:8080/"
    },
    "executionInfo": {
     "elapsed": 11,
     "status": "ok",
     "timestamp": 1751631869422,
     "user": {
      "displayName": "김성한",
      "userId": "01456461380721472549"
     },
     "user_tz": -540
    },
    "id": "4zt-c4djNYHs",
    "outputId": "f8e9d49c-a528-417d-d564-50ebaf5581df"
   },
   "outputs": [],
   "source": [
    "train = train.dropna()\n",
    "train = train[:20000]\n",
    "print(len(train))\n",
    "\n",
    "test = test.dropna()\n",
    "test = test[:3000]\n",
    "print(len(test))"
   ]
  },
  {
   "cell_type": "code",
   "execution_count": null,
   "metadata": {
    "colab": {
     "base_uri": "https://localhost:8080/",
     "height": 206
    },
    "executionInfo": {
     "elapsed": 265,
     "status": "ok",
     "timestamp": 1751631869686,
     "user": {
      "displayName": "김성한",
      "userId": "01456461380721472549"
     },
     "user_tz": -540
    },
    "id": "IdbJml8SNmUl",
    "outputId": "eb7af863-63bb-4120-d1f5-c20fc9e2cf3b"
   },
   "outputs": [],
   "source": [
    "train.head()"
   ]
  },
  {
   "cell_type": "code",
   "execution_count": null,
   "metadata": {
    "colab": {
     "base_uri": "https://localhost:8080/",
     "height": 206
    },
    "executionInfo": {
     "elapsed": 39,
     "status": "ok",
     "timestamp": 1751631869725,
     "user": {
      "displayName": "김성한",
      "userId": "01456461380721472549"
     },
     "user_tz": -540
    },
    "id": "RZKUJX2UNnk3",
    "outputId": "d03ea324-64cd-4fa5-f3ce-685eeabfcbab"
   },
   "outputs": [],
   "source": [
    "test.head()"
   ]
  },
  {
   "cell_type": "code",
   "execution_count": null,
   "metadata": {
    "colab": {
     "base_uri": "https://localhost:8080/"
    },
    "executionInfo": {
     "elapsed": 12,
     "status": "ok",
     "timestamp": 1751631869754,
     "user": {
      "displayName": "김성한",
      "userId": "01456461380721472549"
     },
     "user_tz": -540
    },
    "id": "lL-7bpyXNogg",
    "outputId": "5d05b5f8-95ac-4526-880b-295b5680dab2"
   },
   "outputs": [],
   "source": [
    "train['documents'][0]"
   ]
  },
  {
   "cell_type": "code",
   "execution_count": null,
   "metadata": {
    "executionInfo": {
     "elapsed": 17,
     "status": "ok",
     "timestamp": 1751631869773,
     "user": {
      "displayName": "김성한",
      "userId": "01456461380721472549"
     },
     "user_tz": -540
    },
    "id": "fznX16baNsjf"
   },
   "outputs": [],
   "source": [
    "def preprocessing(data):\n",
    "  outs = []\n",
    "  for doc in data['documents']:\n",
    "    line = []\n",
    "    line.append(doc['media_name'])\n",
    "    line.append(doc['id'])\n",
    "\n",
    "    para = []\n",
    "    for sent in doc['text']:\n",
    "      for s in sent:\n",
    "        para.append(s['sentence'])\n",
    "\n",
    "    line.append(para)\n",
    "    line.append(doc['abstractive'][0])\n",
    "    line.append(doc['extractive'])\n",
    "\n",
    "    a = doc['extractive']\n",
    "    if a[0] == None or a[1] == None or a[2] == None:\n",
    "      continue\n",
    "\n",
    "    outs.append(line)\n",
    "\n",
    "  outs_df = pd.DataFrame(outs)\n",
    "  outs_df.columns = ['media', 'id', 'article_original', 'abstractive', 'extractive']\n",
    "\n",
    "  return outs_df"
   ]
  },
  {
   "cell_type": "code",
   "execution_count": null,
   "metadata": {
    "executionInfo": {
     "elapsed": 3,
     "status": "ok",
     "timestamp": 1751631869775,
     "user": {
      "displayName": "김성한",
      "userId": "01456461380721472549"
     },
     "user_tz": -540
    },
    "id": "en9LXDtePH4I"
   },
   "outputs": [],
   "source": [
    "train_data = preprocessing(train)\n",
    "test_data = preprocessing(test)"
   ]
  },
  {
   "cell_type": "code",
   "execution_count": null,
   "metadata": {
    "colab": {
     "base_uri": "https://localhost:8080/",
     "height": 206
    },
    "executionInfo": {
     "elapsed": 119,
     "status": "ok",
     "timestamp": 1751631869893,
     "user": {
      "displayName": "김성한",
      "userId": "01456461380721472549"
     },
     "user_tz": -540
    },
    "id": "9dKr9BdWPNII",
    "outputId": "e913f430-f882-4be4-d181-a3382679db48"
   },
   "outputs": [],
   "source": [
    "train_data.head()"
   ]
  },
  {
   "cell_type": "code",
   "execution_count": null,
   "metadata": {
    "colab": {
     "base_uri": "https://localhost:8080/",
     "height": 206
    },
    "executionInfo": {
     "elapsed": 47,
     "status": "ok",
     "timestamp": 1751631869941,
     "user": {
      "displayName": "김성한",
      "userId": "01456461380721472549"
     },
     "user_tz": -540
    },
    "id": "RHsW6AACPN-g",
    "outputId": "2c576770-0276-47c2-d9c2-b687e9918297"
   },
   "outputs": [],
   "source": [
    "test_data.head()"
   ]
  },
  {
   "cell_type": "code",
   "execution_count": null,
   "metadata": {
    "executionInfo": {
     "elapsed": 98,
     "status": "ok",
     "timestamp": 1751631870041,
     "user": {
      "displayName": "김성한",
      "userId": "01456461380721472549"
     },
     "user_tz": -540
    },
    "id": "coQGRXlpPQ38"
   },
   "outputs": [],
   "source": [
    "train_data['news'] = train_data['article_original'].apply(lambda x : ' '.join(x))\n",
    "test_data['news']  = test_data['article_original'].apply(lambda x : ' '.join(x))"
   ]
  },
  {
   "cell_type": "code",
   "execution_count": null,
   "metadata": {
    "colab": {
     "base_uri": "https://localhost:8080/",
     "height": 145
    },
    "executionInfo": {
     "elapsed": 19,
     "status": "ok",
     "timestamp": 1751631870042,
     "user": {
      "displayName": "김성한",
      "userId": "01456461380721472549"
     },
     "user_tz": -540
    },
    "id": "Nhpo_3HAPl6v",
    "outputId": "5e206059-81f3-46e1-de24-750f9efa79ca"
   },
   "outputs": [],
   "source": [
    "train_data['news'][0]"
   ]
  },
  {
   "cell_type": "code",
   "execution_count": null,
   "metadata": {
    "executionInfo": {
     "elapsed": 25603,
     "status": "ok",
     "timestamp": 1751631895642,
     "user": {
      "displayName": "김성한",
      "userId": "01456461380721472549"
     },
     "user_tz": -540
    },
    "id": "J-MR_OE9PqqA"
   },
   "outputs": [],
   "source": [
    "import os\n",
    "import logging\n",
    "import pandas as pd\n",
    "import numpy as np\n",
    "from tqdm import tqdm\n",
    "\n",
    "import torch\n",
    "import torch.nn as nn\n",
    "from torch.optim import AdamW\n",
    "from torch.utils.data import Dataset, DataLoader\n",
    "from torch.optim.lr_scheduler import CosineAnnealingWarmRestarts\n",
    "from transformers import T5ForConditionalGeneration, T5TokenizerFast"
   ]
  },
  {
   "cell_type": "code",
   "execution_count": null,
   "metadata": {
    "executionInfo": {
     "elapsed": 26,
     "status": "ok",
     "timestamp": 1751631895671,
     "user": {
      "displayName": "김성한",
      "userId": "01456461380721472549"
     },
     "user_tz": -540
    },
    "id": "KCyWZPrHQQud"
   },
   "outputs": [],
   "source": [
    "class T5SummaryDataset(Dataset):\n",
    "  def __init__(self, data, tokenizer, max_len, ignore_index = -100):\n",
    "    super().__init__()\n",
    "\n",
    "    self.tokenizer = tokenizer\n",
    "    self.docs = data\n",
    "    self.max_len = max_len\n",
    "    self.len = self.docs.shape[0]\n",
    "\n",
    "    self.pad_index = self.tokenizer.pad_token_id\n",
    "    self.ignore_index = ignore_index\n",
    "\n",
    "  def add_padding_data(self, inputs):\n",
    "    if len(inputs) < self.max_len:\n",
    "      pad = np.array([self.pad_index] * (self.max_len - len(inputs)))\n",
    "      inputs = np.concatenate([inputs, pad])\n",
    "    else:\n",
    "      inputs = inputs[:self.max_len]\n",
    "\n",
    "    return inputs\n",
    "\n",
    "  def add_ignore_data(self, inputs):\n",
    "    if len(inputs) < self.max_len:\n",
    "      pad = np.array([self.pad_index] * (self.max_len - len(inputs)))\n",
    "      inputs = np.concatenate([inputs, pad])\n",
    "    else:\n",
    "      inputs = inputs[:self.max_len]\n",
    "\n",
    "    return inputs\n",
    "\n",
    "  def __getitem__(self, idx):\n",
    "    instance = self.docs.iloc[idx]\n",
    "\n",
    "    input_text = \"summarize : \" + instance['news']\n",
    "    input_ids = self.tokenizer.encode(input_text, return_tensors = 'pt', max_length = self.max_len, truncation = True).squeeze()\n",
    "    input_ids = self.add_padding_data(input_ids)\n",
    "\n",
    "    label_ids = self.tokenizer.encode(instance['abstractive'], return_tensors = 'pt', max_length = self.max_len, truncation = True).squeeze()\n",
    "    label_ids = self.add_ignore_data(label_ids)\n",
    "\n",
    "    return {'input_ids' : np.array(input_ids, dtype = np.int_),\n",
    "            'label_ids' : np.array(label_ids, dtype = np.int_)}\n",
    "\n",
    "  def __len__(self):\n",
    "    return self.len"
   ]
  },
  {
   "cell_type": "code",
   "execution_count": null,
   "metadata": {
    "executionInfo": {
     "elapsed": 92,
     "status": "ok",
     "timestamp": 1751632196795,
     "user": {
      "displayName": "김성한",
      "userId": "01456461380721472549"
     },
     "user_tz": -540
    },
    "id": "5QflAIsNTm_Y"
   },
   "outputs": [],
   "source": [
    "class T5ConditionalGeneration(nn.Module):\n",
    "  def __init__(self):\n",
    "    super(T5ConditionalGeneration, self).__init__()\n",
    "\n",
    "    self.model = T5ForConditionalGeneration.from_pretrained('paust/pko-t5-base')\n",
    "    self.tokenizer = T5TokenizerFast.from_pretrained('paust/pko-t5-base')\n",
    "    self.pad_token_id = self.tokenizer.pad_token_id\n",
    "\n",
    "  def forward(self, inputs):\n",
    "    attention_mask = inputs['input_ids'].ne(self.pad_token_id).float()\n",
    "\n",
    "    return self.model(input_ids = inputs['input_ids'],\n",
    "                      attention_mask = attention_mask,\n",
    "                      labels = inputs['label_ids'], return_dict = True)"
   ]
  },
  {
   "cell_type": "code",
   "execution_count": null,
   "metadata": {
    "colab": {
     "base_uri": "https://localhost:8080/"
    },
    "executionInfo": {
     "elapsed": 3284,
     "status": "ok",
     "timestamp": 1751632200196,
     "user": {
      "displayName": "김성한",
      "userId": "01456461380721472549"
     },
     "user_tz": -540
    },
    "id": "45qCo2RZVEoK",
    "outputId": "ca2aa1df-7492-4ea1-ec6d-f33bf9945009"
   },
   "outputs": [],
   "source": [
    "device = torch.device('cuda' if torch.cuda.is_available() else 'cpu')\n",
    "model = T5ConditionalGeneration()\n",
    "model.to(device)"
   ]
  },
  {
   "cell_type": "code",
   "execution_count": null,
   "metadata": {
    "executionInfo": {
     "elapsed": 275,
     "status": "ok",
     "timestamp": 1751632200479,
     "user": {
      "displayName": "김성한",
      "userId": "01456461380721472549"
     },
     "user_tz": -540
    },
    "id": "op04d5DQVU5A"
   },
   "outputs": [],
   "source": [
    "batch_size = 8\n",
    "max_len = 512\n",
    "num_workers = 4\n",
    "lr = 3e-5\n",
    "max_epochs = 10\n",
    "warmup_ratio = 0.1\n",
    "\n",
    "tokenizer = T5TokenizerFast.from_pretrained('paust/pko-t5-base')\n",
    "\n",
    "train_dataset = T5SummaryDataset(train_data, tokenizer, max_len)\n",
    "train_loader = DataLoader(train_dataset, batch_size = batch_size, num_workers = num_workers)\n",
    "\n",
    "test_dataset = T5SummaryDataset(test_data, tokenizer, max_len)\n",
    "test_loader = DataLoader(test_dataset, batch_size, batch_size, num_workers = num_workers)"
   ]
  },
  {
   "cell_type": "code",
   "execution_count": null,
   "metadata": {
    "executionInfo": {
     "elapsed": 3,
     "status": "ok",
     "timestamp": 1751632200491,
     "user": {
      "displayName": "김성한",
      "userId": "01456461380721472549"
     },
     "user_tz": -540
    },
    "id": "0SnXxcGtWXQQ"
   },
   "outputs": [],
   "source": [
    "optimizer = AdamW(model.parameters(), lr = lr)\n",
    "\n",
    "total_steps = len(train_loader) * max_epochs\n",
    "scheduler = CosineAnnealingWarmRestarts(optimizer, T_0 = int(total_steps * warmup_ratio), T_mult = 1, eta_min = 0)"
   ]
  },
  {
   "cell_type": "code",
   "execution_count": null,
   "metadata": {
    "colab": {
     "base_uri": "https://localhost:8080/",
     "height": 482
    },
    "executionInfo": {
     "elapsed": 2688,
     "status": "error",
     "timestamp": 1751632203180,
     "user": {
      "displayName": "김성한",
      "userId": "01456461380721472549"
     },
     "user_tz": -540
    },
    "id": "F-fS9nnvXQ0U",
    "outputId": "5ef9b2f8-f2cb-4d06-a1e4-b8e87f9028ff"
   },
   "outputs": [],
   "source": [
    "best_loss = np.inf\n",
    "\n",
    "for epoch in range(max_epochs):\n",
    "  print(epoch + 1, '수행 중')\n",
    "  model.train()\n",
    "\n",
    "  for batch in tqdm(train_loader, total = len(train_loader)):\n",
    "    batch = {k : v.to(device) for k, v in batch.items()}\n",
    "\n",
    "    optimizer.zero_grad()\n",
    "    outputs = model(batch)\n",
    "    loss = outputs.loss\n",
    "    loss.backward()\n",
    "    optimizer.step()\n",
    "    scheduler.step()\n",
    "\n",
    "  model.eval()\n",
    "  total_loss = 0\n",
    "  with torch.no_grad():\n",
    "    for batch in tqdm(test_loader, total = len(test_loader)):\n",
    "      batch = {k : v.to(device) for k, v in batch.items()}\n",
    "\n",
    "      outputs = model(batch)\n",
    "      loss = outputs.loss\n",
    "      total_loss += loss.item()\n",
    "\n",
    "  avg_loss = total_loss / len(test_loader)\n",
    "  print(f'Epoch : {epoch + 1} / Loss : {avg_loss}')\n",
    "\n",
    "  if avg_loss < best_loss:\n",
    "    print(f'Validation loss improved from {best_loss:.4f} to {avg_loss:.4f}.체크포인트를 저장합니다.')\n",
    "    best_loss = avg_loss\n",
    "    torch.save(model.state_dict(), 'best_model.pt')"
   ]
  },
  {
   "cell_type": "code",
   "execution_count": null,
   "metadata": {
    "id": "mtoLLWZHZtWX"
   },
   "outputs": [],
   "source": [
    "model_wrapper = T5ConditionalGeneration().to(device)\n",
    "model_wrapper.model_state_dict(torch.load('best_model.pt'))\n",
    "model_wrapper.eval()"
   ]
  },
  {
   "cell_type": "code",
   "execution_count": null,
   "metadata": {
    "id": "-ALIkXWjbOK1"
   },
   "outputs": [],
   "source": [
    "# 임의로 테스트 데이터의 25번 샘플을 text라는 변수에 저장\n",
    "text = test_data.loc[25]['news']\n",
    "text = \"summarize:\" + text\n",
    "\n",
    "# 정수 인코딩 후 디코딩하여 출력\n",
    "input_ids = tokenizer.encode(text)\n",
    "tokenizer.decode(input_ids)"
   ]
  },
  {
   "cell_type": "code",
   "execution_count": null,
   "metadata": {
    "id": "D0xh1ojBbXWR"
   },
   "outputs": [],
   "source": [
    "# 정수 인코딩\n",
    "input_ids = tokenizer.encode(text)\n",
    "input_ids = torch.tensor(input_ids)\n",
    "input_ids = input_ids.unsqueeze(0).to(device)\n",
    "\n",
    "# 모델에 원문을 입력\n",
    "output = model_wrapper.model.generate(input_ids, eos_token_id=1, max_length=512, num_beams=5)\n",
    "\n",
    "# 모델이 출력한 요약문을 디코딩\n",
    "output = tokenizer.decode(output[0],skip_special_tokens=True)\n",
    "print(output)"
   ]
  }
 ],
 "metadata": {
  "accelerator": "GPU",
  "colab": {
   "authorship_tag": "ABX9TyMF/xZbvsHB4oPQI6peJxfN",
   "gpuType": "T4",
   "provenance": []
  },
  "kernelspec": {
   "display_name": "Python 3",
   "name": "python3"
  },
  "language_info": {
   "name": "python"
  }
 },
 "nbformat": 4,
 "nbformat_minor": 0
}
