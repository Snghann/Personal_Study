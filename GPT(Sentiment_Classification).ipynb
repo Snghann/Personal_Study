{
 "cells": [
  {
   "cell_type": "code",
   "execution_count": null,
   "metadata": {
    "id": "hga05jGN4_q1"
   },
   "outputs": [],
   "source": [
    "import datetime\n",
    "import torch\n",
    "import pandas as pd\n",
    "import numpy as np\n",
    "\n",
    "from tqdm import tqdm\n",
    "from torch.optim import AdamW\n",
    "from torch.utils.data import TensorDataset, DataLoader, RandomSampler, SequentialSampler\n",
    "from datasets import load_dataset, Dataset\n",
    "from transformers import AutoTokenizer\n",
    "from transformers import AutoModelForSequenceClassification, BertConfig\n",
    "from tensorflow.keras.preprocessing.sequence import pad_sequences\n",
    "\n",
    "from sklearn.model_selection import train_test_split\n",
    "from sklearn.metrics import accuracy_score, f1_score"
   ]
  },
  {
   "cell_type": "code",
   "execution_count": null,
   "metadata": {
    "colab": {
     "base_uri": "https://localhost:8080/"
    },
    "executionInfo": {
     "elapsed": 480,
     "status": "ok",
     "timestamp": 1751429679336,
     "user": {
      "displayName": "김성한",
      "userId": "01456461380721472549"
     },
     "user_tz": -540
    },
    "id": "VMd0flXB6Qw6",
    "outputId": "48621db9-cf05-4db6-cd10-6a8bf8da5163"
   },
   "outputs": [],
   "source": [
    "!wget https://raw.githubusercontent.com/ukairia777/finance_sentiment_corpus/main/finance_data.csv"
   ]
  },
  {
   "cell_type": "code",
   "execution_count": null,
   "metadata": {
    "colab": {
     "base_uri": "https://localhost:8080/",
     "height": 206
    },
    "executionInfo": {
     "elapsed": 129,
     "status": "ok",
     "timestamp": 1751429679458,
     "user": {
      "displayName": "김성한",
      "userId": "01456461380721472549"
     },
     "user_tz": -540
    },
    "id": "LcJKSwG-6kgq",
    "outputId": "513ed2f7-ff96-4264-e7b3-6049fdc3bd6e"
   },
   "outputs": [],
   "source": [
    "df = pd.read_csv('finance_data.csv')\n",
    "df.head()"
   ]
  },
  {
   "cell_type": "code",
   "execution_count": null,
   "metadata": {
    "colab": {
     "base_uri": "https://localhost:8080/",
     "height": 209
    },
    "executionInfo": {
     "elapsed": 66,
     "status": "ok",
     "timestamp": 1751429679527,
     "user": {
      "displayName": "김성한",
      "userId": "01456461380721472549"
     },
     "user_tz": -540
    },
    "id": "nEkU7ulo6qz4",
    "outputId": "11dc346f-a6c5-4fa4-8915-d8bb3da6ac08"
   },
   "outputs": [],
   "source": [
    "df.labels.value_counts()"
   ]
  },
  {
   "cell_type": "code",
   "execution_count": null,
   "metadata": {
    "colab": {
     "base_uri": "https://localhost:8080/"
    },
    "executionInfo": {
     "elapsed": 72,
     "status": "ok",
     "timestamp": 1751429679610,
     "user": {
      "displayName": "김성한",
      "userId": "01456461380721472549"
     },
     "user_tz": -540
    },
    "id": "aDtANH5K6xHB",
    "outputId": "8c92eec3-95c7-4113-8155-5f7cc3469555"
   },
   "outputs": [],
   "source": [
    "df['labels'] = df['labels'].replace(['neutral', 'positive', 'negative'], [0, 1, 2])"
   ]
  },
  {
   "cell_type": "code",
   "execution_count": null,
   "metadata": {
    "colab": {
     "base_uri": "https://localhost:8080/",
     "height": 206
    },
    "executionInfo": {
     "elapsed": 134,
     "status": "ok",
     "timestamp": 1751429679751,
     "user": {
      "displayName": "김성한",
      "userId": "01456461380721472549"
     },
     "user_tz": -540
    },
    "id": "Owk9tYP468nw",
    "outputId": "d2ae6e86-85e5-40f9-b07a-5bea7503b139"
   },
   "outputs": [],
   "source": [
    "df.head()"
   ]
  },
  {
   "cell_type": "code",
   "execution_count": null,
   "metadata": {
    "id": "nCIVySw469Pg"
   },
   "outputs": [],
   "source": [
    "df.to_csv('finance_data.csv', index=False, encoding='utf-8-sig')"
   ]
  },
  {
   "cell_type": "code",
   "execution_count": null,
   "metadata": {
    "id": "ekYVeyN_7OeX"
   },
   "outputs": [],
   "source": [
    "all_data = Dataset.from_pandas(df)"
   ]
  },
  {
   "cell_type": "code",
   "execution_count": null,
   "metadata": {
    "id": "mZ7XTUNq7eww"
   },
   "outputs": [],
   "source": [
    "cs = all_data.train_test_split(test_size = 0.2, seed = 777)\n",
    "train = cs['train']\n",
    "test = cs['test']"
   ]
  },
  {
   "cell_type": "code",
   "execution_count": null,
   "metadata": {
    "id": "nSZlNr5m7rm0"
   },
   "outputs": [],
   "source": [
    "cs2 = train.train_test_split(test_size = 0.2, seed = 777)\n",
    "train = cs2['train']\n",
    "valid = cs2['test']"
   ]
  },
  {
   "cell_type": "code",
   "execution_count": null,
   "metadata": {
    "colab": {
     "base_uri": "https://localhost:8080/"
    },
    "executionInfo": {
     "elapsed": 70,
     "status": "ok",
     "timestamp": 1751429679965,
     "user": {
      "displayName": "김성한",
      "userId": "01456461380721472549"
     },
     "user_tz": -540
    },
    "id": "b9lqDHOV73JF",
    "outputId": "e73bed10-7a9e-4bd5-c003-d61464a04691"
   },
   "outputs": [],
   "source": [
    "print(train)\n",
    "print(valid)\n",
    "print(test)"
   ]
  },
  {
   "cell_type": "code",
   "execution_count": null,
   "metadata": {
    "id": "QFpFThBO76ZG"
   },
   "outputs": [],
   "source": [
    "train_sentences = list(train['kor_sentence'])\n",
    "valid_sentences = list(valid['kor_sentence'])\n",
    "test_sentences = list(test['kor_sentence'])"
   ]
  },
  {
   "cell_type": "code",
   "execution_count": null,
   "metadata": {
    "id": "_Dqx8H3k8Wxw"
   },
   "outputs": [],
   "source": [
    "train_labels = train['labels']\n",
    "valid_labels = valid['labels']\n",
    "test_labels = test['labels']"
   ]
  },
  {
   "cell_type": "code",
   "execution_count": null,
   "metadata": {
    "colab": {
     "base_uri": "https://localhost:8080/"
    },
    "executionInfo": {
     "elapsed": 59,
     "status": "ok",
     "timestamp": 1751429680131,
     "user": {
      "displayName": "김성한",
      "userId": "01456461380721472549"
     },
     "user_tz": -540
    },
    "id": "bU7qYQcO8d5t",
    "outputId": "fad47905-9bac-4506-93b0-f949df8a0f0a"
   },
   "outputs": [],
   "source": [
    "test_sentences[:5]"
   ]
  },
  {
   "cell_type": "code",
   "execution_count": null,
   "metadata": {
    "colab": {
     "base_uri": "https://localhost:8080/"
    },
    "executionInfo": {
     "elapsed": 40,
     "status": "ok",
     "timestamp": 1751429680134,
     "user": {
      "displayName": "김성한",
      "userId": "01456461380721472549"
     },
     "user_tz": -540
    },
    "id": "ERgOhjaK8ij2",
    "outputId": "3faaf0af-7311-411c-82db-9709b5270667"
   },
   "outputs": [],
   "source": [
    "test_labels[:5]"
   ]
  },
  {
   "cell_type": "code",
   "execution_count": null,
   "metadata": {
    "colab": {
     "base_uri": "https://localhost:8080/",
     "height": 190,
     "referenced_widgets": [
      "e3e831019b0c46918ab7a5ed411c613b",
      "377247d7a248489ca1bb3c9c179338da",
      "47dc3c8da92541b787040fea970b8cda",
      "5ddec503fd6649caa1779c97cce49387",
      "0a9d984066954fffa73b66ff4efa1c14",
      "c409e9c166654cd7a95d7b71058b9451",
      "4e96f69844ed4fa19f3a9c9edc5527b6",
      "9c5650a1c5db4b3b9a55bbcc278ca145",
      "098eb9b3d7db4099b0fbd59cbde2b834",
      "21a9537d88ba4696a1a3ccb8ad33eee9",
      "ac15c29ea3d74624bc4367fdc4ea1c81",
      "a23de74ad15b4a7fb06998e02861d6d8",
      "625e3e9338564ddab44d6b15f16d5502",
      "bdbea4bb6e3a40d397155da96583c4db",
      "638847ba0a2644bdb0067ef2726f8ae3",
      "1ec09f2e3080425094ee003cb2eac607",
      "d3c7a28c0a3f41c1b706429cfde5cb73",
      "7f43e2e94ba640069018ef54c838b678",
      "00fddcac45764d3d819e6263518d7395",
      "40d4644cc20c4316aebdb0e430647697",
      "d5fc29f657454116b9b70e7b52bb8c6e",
      "62ad0efbb24a40ab99cf987ebc65dc3d"
     ]
    },
    "executionInfo": {
     "elapsed": 2292,
     "status": "ok",
     "timestamp": 1751429682410,
     "user": {
      "displayName": "김성한",
      "userId": "01456461380721472549"
     },
     "user_tz": -540
    },
    "id": "Yvl04Xbs8l1Q",
    "outputId": "8a425ebe-9474-4233-f3cc-65851bc6f238"
   },
   "outputs": [],
   "source": [
    "tokenizer = AutoTokenizer.from_pretrained('skt/kogpt2-base-v2')"
   ]
  },
  {
   "cell_type": "code",
   "execution_count": null,
   "metadata": {
    "id": "xQOMW5G89Des"
   },
   "outputs": [],
   "source": [
    "max_len = 128\n",
    "\n",
    "def data_to_tensor(sentences, labels, max_len):\n",
    "\n",
    "  encoded_text = [tokenizer.tokenize(sent) for sent in sentences]\n",
    "  input_ids = [tokenizer.convert_tokens_to_ids(x) for x in encoded_text]\n",
    "\n",
    "  pad_token = tokenizer.encode('<pad>')[0]\n",
    "  input_ids = pad_sequences(input_ids, maxlen = max_len, value = pad_token, dtype = 'long', truncating = 'post', padding = 'post')\n",
    "\n",
    "  attention_mask = []\n",
    "\n",
    "  for seq in input_ids:\n",
    "    seq_mask = [float(i != pad_token) for i in seq]\n",
    "    attention_mask.append(seq_mask)\n",
    "\n",
    "  tensor_inputs = torch.tensor(input_ids)\n",
    "  tensor_labels = torch.tensor(labels)\n",
    "  tensor_masks = torch.tensor(attention_mask)\n",
    "\n",
    "  return tensor_inputs, tensor_labels, tensor_masks"
   ]
  },
  {
   "cell_type": "code",
   "execution_count": null,
   "metadata": {
    "id": "Js_xdZfz_F5I"
   },
   "outputs": [],
   "source": [
    "train_inputs, train_labels, train_masks = data_to_tensor(train_sentences, train_labels, max_len)\n",
    "valid_inputs, valid_labels, valid_masks = data_to_tensor(valid_sentences, valid_labels, max_len)\n",
    "test_inputs, test_labels, test_masks = data_to_tensor(test_sentences, test_labels, max_len)"
   ]
  },
  {
   "cell_type": "code",
   "execution_count": null,
   "metadata": {
    "colab": {
     "base_uri": "https://localhost:8080/"
    },
    "executionInfo": {
     "elapsed": 91,
     "status": "ok",
     "timestamp": 1751429684378,
     "user": {
      "displayName": "김성한",
      "userId": "01456461380721472549"
     },
     "user_tz": -540
    },
    "id": "ZoQiZR3I_eW3",
    "outputId": "46947df9-b366-4219-bc9d-2bc4c66089aa"
   },
   "outputs": [],
   "source": [
    "print('정수인코딩결과:',test_inputs[0])\n",
    "print('-'*100)\n",
    "print('원본문장복원결과:', tokenizer.decode(test_inputs[0]))\n",
    "print('-'*100)\n",
    "print('어텐션마스크:', test_masks[0])\n",
    "print('-'*100)\n",
    "print('샘플의길이:', len(test_inputs[0]))\n",
    "print('-'*100)\n",
    "print('레이블:', test_labels[0])"
   ]
  },
  {
   "cell_type": "code",
   "execution_count": null,
   "metadata": {
    "id": "rIxbLpdT_moy"
   },
   "outputs": [],
   "source": [
    "batch_size = 32\n",
    "\n",
    "train_data = TensorDataset(train_inputs, train_masks, train_labels)\n",
    "train_sampler = RandomSampler(train_data)\n",
    "train_loader = DataLoader(train_data, sampler = train_sampler, batch_size = batch_size)\n",
    "\n",
    "valid_data = TensorDataset(valid_inputs, valid_masks, valid_labels)\n",
    "valid_sampler = SequentialSampler(valid_data)\n",
    "valid_loader = DataLoader(valid_data, sampler = valid_sampler, batch_size = batch_size)\n",
    "\n",
    "test_data = TensorDataset(test_inputs, test_masks, test_labels)\n",
    "test_sampler = RandomSampler(test_data)\n",
    "test_loader = DataLoader(test_data, sampler = test_sampler, batch_size = batch_size)"
   ]
  },
  {
   "cell_type": "code",
   "execution_count": null,
   "metadata": {
    "id": "wz2-RkxcAo10"
   },
   "outputs": [],
   "source": [
    "device = torch.device('cuda' if torch.cuda.is_available() else 'cpu')"
   ]
  },
  {
   "cell_type": "code",
   "execution_count": null,
   "metadata": {
    "colab": {
     "base_uri": "https://localhost:8080/",
     "height": 610,
     "referenced_widgets": [
      "14e1ce2a7cef43a8a356ce24cb99688c",
      "62751cac97344cd5833568825bd069bd",
      "4f335f3bfb154a9f9f84e0d08452b7e7",
      "d62e63f58f1146fb8120a6ecb33b6e0e",
      "e084309b72ef47b1ab3ebec43c0c920c",
      "298ccec6eb534605b7ff0ecc7dd6cf43",
      "3dbc31038ab74793ba38c542fc135441",
      "a2a895fcf9ed4659b58c4647d7074dd3",
      "75c5728035a1432ea92d50c1813b74d0",
      "c0a8fb6dce0d4105b84f9ca783690eb6",
      "1fd6fb7a903941ad898c0407a7ab96bf",
      "d741b5a88f684c7881ffc872dfae187e",
      "66d727951f684f89ac17419b9eff4113",
      "dae91834d8e04a58bd9c7ab7cf78f608",
      "a70cda7d89224612a46657070ff800ff",
      "6f73a03059bd4983a52e1a92940dc236",
      "3436b90f701340a697aba21bb43f1709",
      "10f2941a3aec4d43bb83a18fa63d9140",
      "d9804f2a8af34215b19dd35e0b4f000f",
      "2e0986ccb00144f6bbc9e94a7ce7b83b",
      "cb7fa42dd3f242899df4c9259c7857ce",
      "33b8dbd8b2d4479695783dc9324380da"
     ]
    },
    "executionInfo": {
     "elapsed": 19870,
     "status": "ok",
     "timestamp": 1751429704385,
     "user": {
      "displayName": "김성한",
      "userId": "01456461380721472549"
     },
     "user_tz": -540
    },
    "id": "vOXqXMTkAxdD",
    "outputId": "b70f851f-7cc8-460c-a131-64da6080c2c9"
   },
   "outputs": [],
   "source": [
    "num_labels = 3\n",
    "model = AutoModelForSequenceClassification.from_pretrained('skt/kogpt2-base-v2', num_labels = num_labels)\n",
    "model.to(device)"
   ]
  },
  {
   "cell_type": "code",
   "execution_count": null,
   "metadata": {
    "id": "hshkbY3fBKp6"
   },
   "outputs": [],
   "source": [
    "optimizer = AdamW(model.parameters(), lr = 2e-5)"
   ]
  },
  {
   "cell_type": "code",
   "execution_count": null,
   "metadata": {
    "id": "E9xnXDnQBP86"
   },
   "outputs": [],
   "source": [
    "def metrics(prediction, labels):\n",
    "\n",
    "  y_pred = prediction\n",
    "  y_true = labels\n",
    "\n",
    "  accuracy = accuracy_score(y_true, y_pred)\n",
    "\n",
    "  f1_macro = f1_score(y_true, y_pred, average = 'macro', zero_division = 0)\n",
    "  f1_micro = f1_score(y_true, y_pred, average = 'micro', zero_division = 0)\n",
    "  f1_weight = f1_score(y_true, y_pred, average = 'weighted', zero_division = 0)\n",
    "\n",
    "  metrics = {'accuracy' : accuracy,\n",
    "             'f1_macro' : f1_macro,\n",
    "             'f1_micro' : f1_micro,\n",
    "             'f1_weight' : f1_weight}\n",
    "\n",
    "  return metrics"
   ]
  },
  {
   "cell_type": "code",
   "execution_count": null,
   "metadata": {
    "id": "-fIB9ztLB8FJ"
   },
   "outputs": [],
   "source": [
    "def train_epoch(model, train_loader, optimizer, device):\n",
    "\n",
    "  model.train()\n",
    "  total_loss = 0\n",
    "\n",
    "  for step, batch in tqdm(enumerate(train_loader), desc = \"Training Batch\"):\n",
    "    batch = tuple(t.to(device) for t in batch)\n",
    "    b_input_ids, b_input_mask, b_labels = batch\n",
    "\n",
    "    outputs = model(b_input_ids, attention_mask = b_input_mask, token_type_ids = None, labels = b_labels)\n",
    "    loss = outputs.loss\n",
    "\n",
    "    optimizer.zero_grad()\n",
    "    loss.backward()\n",
    "    optimizer.step()\n",
    "\n",
    "    total_loss += loss.item()\n",
    "\n",
    "  return total_loss / len(train_loader)"
   ]
  },
  {
   "cell_type": "code",
   "execution_count": null,
   "metadata": {
    "id": "7MEu0oVhTYdj"
   },
   "outputs": [],
   "source": [
    "def evaluation(model, valid_loader, device):\n",
    "\n",
    "  model.eval()\n",
    "  total_loss = 0\n",
    "  prediction = []\n",
    "  true_labels = []\n",
    "\n",
    "  for batch in valid_loader:\n",
    "    batch = tuple(t.to(device) for t in batch)\n",
    "    b_input_ids, b_input_mask, b_labels = batch\n",
    "\n",
    "    with torch.no_grad():\n",
    "      outputs = model(b_input_ids, attention_mask = b_input_mask, token_type_ids = None, labels = b_labels)\n",
    "\n",
    "    if outputs.loss is not None:\n",
    "      loss = outputs.loss\n",
    "      total_loss += loss.item()\n",
    "\n",
    "    logits = outputs.logits.detach().cpu().numpy()\n",
    "    labels_ids = b_labels.to('cpu').numpy()\n",
    "\n",
    "    prediction.extend(np.argmax(logits, axis = 1).flatten())\n",
    "    true_labels.extend(labels_ids.flatten())\n",
    "\n",
    "  eval_metrics = metrics(prediction, true_labels)\n",
    "\n",
    "  return total_loss / len(valid_loader), eval_metrics"
   ]
  },
  {
   "cell_type": "code",
   "execution_count": null,
   "metadata": {
    "colab": {
     "base_uri": "https://localhost:8080/"
    },
    "executionInfo": {
     "elapsed": 217354,
     "status": "ok",
     "timestamp": 1751430070017,
     "user": {
      "displayName": "김성한",
      "userId": "01456461380721472549"
     },
     "user_tz": -540
    },
    "id": "H7WSEnzYUxrq",
    "outputId": "07e859d8-e494-4822-82e9-3ab1c5a39c64"
   },
   "outputs": [],
   "source": [
    "epochs = 3\n",
    "min_val_loss = float('inf')\n",
    "\n",
    "for epoch in range(0, epochs):\n",
    "  print('======== Epoch {:} / {:} ========'.format(epoch + 1, epochs))\n",
    "\n",
    "  train_epoch(model, train_loader, optimizer, device)\n",
    "\n",
    "  print(\"\\nRunning Validation...\")\n",
    "  avg_valid_loss, eval_metrics = evaluation(model, valid_loader, device)\n",
    "  print(\" Validation Loss: {0:.2f}\".format(avg_valid_loss))\n",
    "  print(\" Accuracy: {0:.2f}\".format(eval_metrics['accuracy']))\n",
    "  print(\" F1 Macro: {0:.2f}\".format(eval_metrics['f1_macro']))\n",
    "  print(\" F1 Micro: {0:.2f}\".format(eval_metrics['f1_micro']))\n",
    "  print(\" F1 Weighted: {0:.2f}\".format(eval_metrics['f1_weight']))\n",
    "\n",
    "  if avg_valid_loss < min_val_loss:\n",
    "    print(f\"Validation loss decreased ({min_val_loss:.2f}--> {avg_valid_loss:.2f}). Saving model ...\")\n",
    "    torch.save(model.state_dict(), 'best_model.pt')\n",
    "    min_val_loss = avg_valid_loss"
   ]
  },
  {
   "cell_type": "code",
   "execution_count": null,
   "metadata": {
    "colab": {
     "base_uri": "https://localhost:8080/"
    },
    "executionInfo": {
     "elapsed": 7257,
     "status": "ok",
     "timestamp": 1751430091086,
     "user": {
      "displayName": "김성한",
      "userId": "01456461380721472549"
     },
     "user_tz": -540
    },
    "id": "MhIBvdymWYRi",
    "outputId": "906d3168-c697-4d4d-ccbc-0d87ecf8a31f"
   },
   "outputs": [],
   "source": [
    "model.load_state_dict(torch.load('best_model.pt'))\n",
    "\n",
    "avg_loss, eval_metrics = evaluation(model, test_loader, device)\n",
    "print(\" Test Loss: {0:.2f}\".format(avg_loss))\n",
    "print(\" Accuracy: {0:.2f}\".format(eval_metrics['accuracy']))\n",
    "print(\" F1 Macro: {0:.2f}\".format(eval_metrics['f1_macro']))\n",
    "print(\" F1 Micro: {0:.2f}\".format(eval_metrics['f1_micro']))\n",
    "print(\" F1 Weighted: {0:.2f}\".format(eval_metrics['f1_weight']))"
   ]
  },
  {
   "cell_type": "code",
   "execution_count": null,
   "metadata": {
    "colab": {
     "base_uri": "https://localhost:8080/"
    },
    "executionInfo": {
     "elapsed": 1570,
     "status": "ok",
     "timestamp": 1751430190687,
     "user": {
      "displayName": "김성한",
      "userId": "01456461380721472549"
     },
     "user_tz": -540
    },
    "id": "9FaQ_z7xXjNp",
    "outputId": "9ee42673-59d0-4048-ebad-575d7bb4de25"
   },
   "outputs": [],
   "source": [
    "from transformers import pipeline\n",
    "\n",
    "pipe = pipeline('text-classification', model = model.to(device), tokenizer = tokenizer, device = 0, max_length = 512, return_all_scores = True, function_to_apply = 'softmax')"
   ]
  },
  {
   "cell_type": "code",
   "execution_count": null,
   "metadata": {
    "colab": {
     "base_uri": "https://localhost:8080/"
    },
    "executionInfo": {
     "elapsed": 52,
     "status": "ok",
     "timestamp": 1751430240910,
     "user": {
      "displayName": "김성한",
      "userId": "01456461380721472549"
     },
     "user_tz": -540
    },
    "id": "3MKGMn8fYHa5",
    "outputId": "09797cbe-f6a6-4874-8b50-09622745f382"
   },
   "outputs": [],
   "source": [
    "pipe = pipeline('text-classification', model = model.to(device), tokenizer = tokenizer, device = 0, max_length = 512, function_to_apply = 'softmax')"
   ]
  },
  {
   "cell_type": "code",
   "execution_count": null,
   "metadata": {
    "colab": {
     "base_uri": "https://localhost:8080/"
    },
    "executionInfo": {
     "elapsed": 27,
     "status": "ok",
     "timestamp": 1751430243707,
     "user": {
      "displayName": "김성한",
      "userId": "01456461380721472549"
     },
     "user_tz": -540
    },
    "id": "f99djeGSX866",
    "outputId": "bc7125b8-3770-42b0-974d-95bf703ad8a9"
   },
   "outputs": [],
   "source": [
    "result = pipe('SK하이닉스가 매출이 급성장하였다')\n",
    "print(result)"
   ]
  },
  {
   "cell_type": "code",
   "execution_count": null,
   "metadata": {
    "id": "cDIz2iOnYBN0"
   },
   "outputs": [],
   "source": [
    "label_dict = {'LABEL_0' : '중립', 'LABEL_1' : '긍정', 'LABEL_2' : '부정'}"
   ]
  },
  {
   "cell_type": "code",
   "execution_count": null,
   "metadata": {
    "id": "jWoGw_xQYUyj"
   },
   "outputs": [],
   "source": [
    "def prediction(text):\n",
    "  res = pipe(text)\n",
    "  return [label_dict[res[0]['label']]]"
   ]
  },
  {
   "cell_type": "code",
   "execution_count": null,
   "metadata": {
    "colab": {
     "base_uri": "https://localhost:8080/"
    },
    "executionInfo": {
     "elapsed": 90,
     "status": "ok",
     "timestamp": 1751430449045,
     "user": {
      "displayName": "김성한",
      "userId": "01456461380721472549"
     },
     "user_tz": -540
    },
    "id": "EvCf4EtPYjiv",
    "outputId": "ca31ff50-7947-457a-8ba2-f10a09f62c8d"
   },
   "outputs": [],
   "source": [
    "prediction('네이버가 매출이 급성장하였다')"
   ]
  },
  {
   "cell_type": "code",
   "execution_count": null,
   "metadata": {
    "colab": {
     "base_uri": "https://localhost:8080/"
    },
    "executionInfo": {
     "elapsed": 75,
     "status": "ok",
     "timestamp": 1751430449699,
     "user": {
      "displayName": "김성한",
      "userId": "01456461380721472549"
     },
     "user_tz": -540
    },
    "id": "-0_n-MrzYl6B",
    "outputId": "acc2e1d4-2d70-4bc2-a3c6-1df6ff539fd0"
   },
   "outputs": [],
   "source": [
    "prediction('ChatGPT의 등장으로 인공지능 스타트업들은 위기다')"
   ]
  },
  {
   "cell_type": "code",
   "execution_count": null,
   "metadata": {
    "colab": {
     "base_uri": "https://localhost:8080/"
    },
    "executionInfo": {
     "elapsed": 75,
     "status": "ok",
     "timestamp": 1751430451596,
     "user": {
      "displayName": "김성한",
      "userId": "01456461380721472549"
     },
     "user_tz": -540
    },
    "id": "8CZls-ZZYp0H",
    "outputId": "cfeecb58-8053-428f-f02f-5fc910475912"
   },
   "outputs": [],
   "source": [
    "prediction('인 공 지능 기술의 발전으로 누군가는 기회를 얻을 것이고, 누군가는 얻지 못할 것이다')"
   ]
  },
  {
   "cell_type": "code",
   "execution_count": null,
   "metadata": {
    "id": "CH9S4UAHYuOa"
   },
   "outputs": [],
   "source": []
  }
 ],
 "metadata": {
  "accelerator": "GPU",
  "colab": {
   "authorship_tag": "ABX9TyMWpTpqcPZoUwGqZBLWEihH",
   "gpuType": "T4",
   "provenance": []
  },
  "kernelspec": {
   "display_name": "Python 3",
   "name": "python3"
  },
  "language_info": {
   "name": "python"
  }
 },
 "nbformat": 4,
 "nbformat_minor": 0
}
