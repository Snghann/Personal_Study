{
 "cells": [
  {
   "cell_type": "code",
   "execution_count": null,
   "metadata": {
    "colab": {
     "base_uri": "https://localhost:8080/"
    },
    "executionInfo": {
     "elapsed": 102800,
     "status": "ok",
     "timestamp": 1751286542642,
     "user": {
      "displayName": "김성한",
      "userId": "01456461380721472549"
     },
     "user_tz": -540
    },
    "id": "NbIW8MKMzWVV",
    "outputId": "acef141e-5296-4d81-db94-93e792514eb7"
   },
   "outputs": [],
   "source": [
    "!pip install sentence_transformers"
   ]
  },
  {
   "cell_type": "code",
   "execution_count": null,
   "metadata": {
    "id": "vKSUawgpzkQf"
   },
   "outputs": [],
   "source": [
    "import urllib.request\n",
    "import pandas as pd\n",
    "import numpy as np\n",
    "\n",
    "from numpy import dot\n",
    "from numpy.linalg import norm\n",
    "from sentence_transformers import SentenceTransformer"
   ]
  },
  {
   "cell_type": "code",
   "execution_count": null,
   "metadata": {
    "colab": {
     "base_uri": "https://localhost:8080/",
     "height": 206
    },
    "executionInfo": {
     "elapsed": 377,
     "status": "ok",
     "timestamp": 1751286763002,
     "user": {
      "displayName": "김성한",
      "userId": "01456461380721472549"
     },
     "user_tz": -540
    },
    "id": "6ALNAjG80ZMw",
    "outputId": "b4df7397-4297-4bd6-c298-a9373681bd37"
   },
   "outputs": [],
   "source": [
    "urllib.request.urlretrieve(\"https://raw.githubusercontent.com/songys/Chatbot_data/master/ChatbotData.csv\", filename = 'ChatBotData.csv')\n",
    "train = pd.read_csv('ChatBotData.csv')\n",
    "train.head()"
   ]
  },
  {
   "cell_type": "code",
   "execution_count": null,
   "metadata": {
    "colab": {
     "base_uri": "https://localhost:8080/",
     "height": 478,
     "referenced_widgets": [
      "c0aaf3d7e12c42eaa1934e92797fd99a",
      "e04d17a2d2c9449ab5d8eac5facaf6da",
      "3fc380f08f714b958257a5405e47a874",
      "e01bf1a4294d45a9b7bb6a50dd9c718d",
      "e3ee9fa8bb3a4601a1f7db5cfb276295",
      "7b8b8479308042b5925b8b18f04b2524",
      "dcf236dcc1c54fd79a66aca271cc1972",
      "55ec6d41ec564afebb3503bc36a71f2d",
      "a019e11588594e3faa676c858b264af2",
      "5994668b87ed45bf97eeaa8f52464cb9",
      "18eb5c0e7e5042ad90b01fe51b412183",
      "ac82bb1180834fa0ba98a4811ac36374",
      "8467242186874e9192ee3eb1ddf2332e",
      "6ae2c43d3999420cad7f82bf8a7e1875",
      "a44e68f1ab1a4149910208ee9c8ce402",
      "68d2f257789d47a78c9553b1535fe36d",
      "3fdf6a8877f34af992d371f6b7e126ac",
      "f6a6fa4bf24d41c9bf2d3b14369df640",
      "1bb4ea36c4d842ceb074bcface87b42e",
      "7246c13c52a64723898d0563aa18a894",
      "a60640b7eae94a12856e7ca2ab53504f",
      "d2c5107fa2f9468f9c57cae80a30bc0f",
      "07c9b037bde3424eaba934a14ac048eb",
      "7006daabcb924eb8a18a445f0aaac04e",
      "c2985c306c034c6797d805aebac0d68c",
      "5a9094b603e445139cca78515b5dd75d",
      "867325500ac547f08c4040629a39583f",
      "7b9e31fd9ee94b9abf99ae97780c0f3f",
      "4a27df06a7cb48c5a29268cd1d5b4911",
      "d9dce92d42bf4ef1bd66e619b6b5e8f1",
      "8c17086deaae41d3ae2eacce20ae3c29",
      "1aee9e6f76374c3a808637b9e60a01c1",
      "629bf93e16804684ba836c1b03985951",
      "5311a67564b643f4a6d2baa05be230ff",
      "649eec22836348b5825e2ab403439d2a",
      "487a1fa2326d4d51ac5c900f9795aac7",
      "fe995b7c73644d818a917030a16e7b87",
      "723423a1db1c431588ea59fe55e2aed8",
      "e49683e8bbc04efdbbdb3b85b88d4cb7",
      "3e2a0419d5ff41c5832a76542c78cef8",
      "8516e1ce94f64e95ba56a649ed1984b2",
      "10c038b34bf244518a2853e1e11e6f41",
      "0373a20810724cc4a742e3ffa9160477",
      "888e904b9c4646c4b9c9131f335d96d5",
      "95d7c3c265e449299b07a3c467a61849",
      "71df8378c87c4ca78edf02f4f96f20b3",
      "ae3a72dccae744ee811e1d49729e372a",
      "dfc77e53adb347ca9f79b2d390fb305c",
      "a2e8cc6076c345e191aa19a920b266fa",
      "e2dca9d752a24a8ba95fa099fd32e4ee",
      "9c7df1cb31734a50b60db61a649d5e78",
      "84952ed167a44ca2888878d0a15477bf",
      "575cfb7e812d432dbf6450d40cfb0ce6",
      "784e23ed42214bc58bcbb25af981a4f8",
      "c04ef049609b45b48421e93820291d79",
      "d53dc60860da4823af8bad5f8e4da950",
      "06cfe140e9d44c23a0baab828bb03173",
      "eec9eadb11074f36ab344c2ce05074c9",
      "d0ffe1f0f897424482b242e272edcefc",
      "8f37ec56b7064c26b60f2bfb3de7fce9",
      "2bd18446a49e4129b9a952526adde81d",
      "e58fc31f4ca44c588bd8699502b84420",
      "0c7d3a4170a5406c802ce3c2dcfb355a",
      "97c5727b0bbc49bcb533bbd927262448",
      "d7597dc7fe3a43febf7f3b0c60ec657b",
      "59bac04bbcfe4c48b06ec74b1c664723",
      "b6fc2e38709d4ca182224b07a8bc8b6d",
      "d70ca32bc0bb4658b1ed5d57965a78ec",
      "baeead866fd1458ab0f75c37e0a230dd",
      "da0167cc4c774272835cf0ff4a1d9367",
      "bb48350b9464448498f5f0e49f71a14a",
      "6cb6f4c91ab84e5fae3e245fb5aaa4cc",
      "85d780f8e6464a33bf3ce750273bf3e5",
      "66612dc70c3943ec869451df8404c318",
      "59c5ebffc0db4a8dbe0ffcea8e279892",
      "cc10b42d3c9d4c578a1adf639685ba5e",
      "05235372b4c14b8eb14c346d56a1bc96",
      "e547743e381e481e97d389dfe5acb16a",
      "a92452204f494e30be508112ec4e48b9",
      "3fb9ccccb99c45f7931067696fdfd7e9",
      "94b66212b7e940c1bb30baec4dfee696",
      "4b2de2c507f94b32ac1873a71f6248a9",
      "c6a964740a54460fac9693a6760b8544",
      "e4e9d2fd676c4a1e969bc7cf74e0b5a7",
      "b6944a9d028c46ef8b296e014143cd5d",
      "2d29472c2fe54804944ca1db5e601316",
      "c264f30c3b214a4f92962506705ff003",
      "7a5792f727ab48309785e4c545c2ae2e",
      "bb8a6f8f098d41c1a68b04407a6c4b4d",
      "df85c93e3fb249abab1a616bb9f5c4dd",
      "8ffb65c9d1d5464aab722f25235d0c0d",
      "938ff4f2a9e24efc889c678c2913f32a",
      "4738fb1d6bce4126bfbd53a7cda61c46",
      "a3700e7df7834678ad03010e2784fa8d",
      "2f6f156a62cc4d369d974fb05f5d92db",
      "8ead6d5e5db648e7b7ba994966443c3f",
      "e4925e5adda84e54bc2995914d1dda50",
      "6cbdbd229e334897ad8d43c1ecfb6b29",
      "c169b4bb36be47279c78e8f69e1b79fd",
      "1319b98c3d004ec488b41f6e9d64b3ea",
      "19560fd42443499cb2a289bb64168184",
      "f75b4f50e826467a9a8c9ac7a887b77f",
      "e96a4a304a3a4a91897e2e32884674e6",
      "acfd8533c17341688f2890de28ec822a",
      "6d883fb5404b4b29a52b03d73f15cb99",
      "5d15dab9317741d69e63a571ef249b19",
      "97daab58713f4b279ee1cf1fbc88e804",
      "30e8179127ac430cbe34dea857e2088b",
      "1173884caed741398de723144fa289e6",
      "76c2497123a2469a9320d2c128e489b6",
      "832699c5bb944249985fc71c99fe9677",
      "245715c30da14c0796d415bdb6fbade8",
      "cf931da8baa549b294f694c9dc25299d",
      "cdee42f5c3a94137ba74b354d811c415",
      "8ca9805ee95d4e2ca5837331320cc32b",
      "170362bbb4ec4d7f8e8da1eb977b46ec",
      "f2ba1fdff3a4429f95b2706748939c3a",
      "d004ef5e6b6b4b5695a7117c23baa5cf",
      "64587148e40b4156a34f8b25b189918b",
      "b91168e0b19d411c8086746bcaee3527",
      "ca65f956fcef439ea19e620a856732a1"
     ]
    },
    "executionInfo": {
     "elapsed": 30342,
     "status": "ok",
     "timestamp": 1751286847935,
     "user": {
      "displayName": "김성한",
      "userId": "01456461380721472549"
     },
     "user_tz": -540
    },
    "id": "iZ3YC8sL0znF",
    "outputId": "a94afaec-3500-4b68-e5ae-692d0ea202c4"
   },
   "outputs": [],
   "source": [
    "model = SentenceTransformer('sentence-transformers/xlm-r-100langs-bert-base-nli-stsb-mean-tokens')"
   ]
  },
  {
   "cell_type": "code",
   "execution_count": null,
   "metadata": {
    "id": "PvFaSeBL1CI1"
   },
   "outputs": [],
   "source": [
    "train['embedding'] = train.apply(lambda row : model.encode(row.Q), axis = 1)"
   ]
  },
  {
   "cell_type": "code",
   "execution_count": null,
   "metadata": {
    "colab": {
     "base_uri": "https://localhost:8080/",
     "height": 206
    },
    "executionInfo": {
     "elapsed": 90,
     "status": "ok",
     "timestamp": 1751288339571,
     "user": {
      "displayName": "김성한",
      "userId": "01456461380721472549"
     },
     "user_tz": -540
    },
    "id": "S-G9t_kw1n70",
    "outputId": "df6fd2af-6e8a-4bd9-9b08-2c94585738bd"
   },
   "outputs": [],
   "source": [
    "train.head()"
   ]
  },
  {
   "cell_type": "code",
   "execution_count": null,
   "metadata": {
    "id": "cWGrdwJa61sN"
   },
   "outputs": [],
   "source": [
    "def cos_sim(A, B):\n",
    "  return dot(A, B) / (norm(A) * norm(B))"
   ]
  },
  {
   "cell_type": "code",
   "execution_count": null,
   "metadata": {
    "id": "nAoSeEt37AzL"
   },
   "outputs": [],
   "source": [
    "def return_answer(question):\n",
    "  embedding = model.encode(question)\n",
    "  train['score'] = train.apply(lambda x : cos_sim(x['embedding'], embedding), axis = 1)\n",
    "  return train.loc[train['score'].idxmax()]['A']"
   ]
  },
  {
   "cell_type": "code",
   "execution_count": null,
   "metadata": {
    "colab": {
     "base_uri": "https://localhost:8080/",
     "height": 35
    },
    "executionInfo": {
     "elapsed": 392,
     "status": "ok",
     "timestamp": 1751288628086,
     "user": {
      "displayName": "김성한",
      "userId": "01456461380721472549"
     },
     "user_tz": -540
    },
    "id": "uHwMowCj72vF",
    "outputId": "385cac0d-e189-4b01-ae9b-44aa80e3d3c4"
   },
   "outputs": [],
   "source": [
    "return_answer('반가워')"
   ]
  },
  {
   "cell_type": "code",
   "execution_count": null,
   "metadata": {
    "colab": {
     "base_uri": "https://localhost:8080/",
     "height": 35
    },
    "executionInfo": {
     "elapsed": 478,
     "status": "ok",
     "timestamp": 1751288639468,
     "user": {
      "displayName": "김성한",
      "userId": "01456461380721472549"
     },
     "user_tz": -540
    },
    "id": "Npyd1jl876i7",
    "outputId": "fd5baee5-e987-4f77-c2f5-3209f3febdab"
   },
   "outputs": [],
   "source": [
    "return_answer('너는 누구니')"
   ]
  },
  {
   "cell_type": "code",
   "execution_count": null,
   "metadata": {
    "colab": {
     "base_uri": "https://localhost:8080/",
     "height": 35
    },
    "executionInfo": {
     "elapsed": 408,
     "status": "ok",
     "timestamp": 1751288645917,
     "user": {
      "displayName": "김성한",
      "userId": "01456461380721472549"
     },
     "user_tz": -540
    },
    "id": "JwQJ2Rui7-0B",
    "outputId": "e90138b2-055c-4cf7-baec-75b40a04b3ec"
   },
   "outputs": [],
   "source": [
    "return_answer('메롱')"
   ]
  },
  {
   "cell_type": "code",
   "execution_count": null,
   "metadata": {
    "colab": {
     "base_uri": "https://localhost:8080/",
     "height": 35
    },
    "executionInfo": {
     "elapsed": 420,
     "status": "ok",
     "timestamp": 1751288673317,
     "user": {
      "displayName": "김성한",
      "userId": "01456461380721472549"
     },
     "user_tz": -540
    },
    "id": "yG_iHAqz8AaG",
    "outputId": "dd121810-6909-4694-ec33-3199c25ed819"
   },
   "outputs": [],
   "source": [
    "return_answer('야차 뜰래?')"
   ]
  },
  {
   "cell_type": "code",
   "execution_count": null,
   "metadata": {
    "colab": {
     "base_uri": "https://localhost:8080/",
     "height": 35
    },
    "executionInfo": {
     "elapsed": 368,
     "status": "ok",
     "timestamp": 1751288686735,
     "user": {
      "displayName": "김성한",
      "userId": "01456461380721472549"
     },
     "user_tz": -540
    },
    "id": "XUe8iJ-c8HF5",
    "outputId": "a8ea9f4c-c8e5-4f44-8695-119f88447288"
   },
   "outputs": [],
   "source": [
    "return_answer('게임ㄱ')"
   ]
  },
  {
   "cell_type": "code",
   "execution_count": null,
   "metadata": {
    "id": "lcZm3xhZ8KYb"
   },
   "outputs": [],
   "source": []
  }
 ],
 "metadata": {
  "colab": {
   "authorship_tag": "ABX9TyNTEjs/1AUq2+nzWFb1IWMB",
   "provenance": []
  },
  "kernelspec": {
   "display_name": "Python 3",
   "name": "python3"
  },
  "language_info": {
   "name": "python"
  }
 },
 "nbformat": 4,
 "nbformat_minor": 0
}
