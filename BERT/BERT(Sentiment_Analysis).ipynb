{
 "cells": [
  {
   "cell_type": "code",
   "execution_count": null,
   "metadata": {
    "id": "S5MKA2ok6FR_"
   },
   "outputs": [],
   "source": [
    "#!pip install transformers\n",
    "#!pip install datasets"
   ]
  },
  {
   "cell_type": "code",
   "execution_count": null,
   "metadata": {
    "id": "nk0YsHsV4aVb"
   },
   "outputs": [],
   "source": [
    "# 필요한 라이브러리 설치\n",
    "from datasets import load_dataset\n",
    "from datasets import Dataset\n",
    "\n",
    "import pandas as pd\n",
    "import numpy as np\n",
    "import datetime\n",
    "from tqdm import tqdm\n",
    "\n",
    "import torch\n",
    "from torch.optim import AdamW\n",
    "from transformers import BertTokenizer\n",
    "from transformers import BertForSequenceClassification, BertConfig\n",
    "from transformers import pipeline\n",
    "from torch.utils.data import TensorDataset, DataLoader, RandomSampler, SequentialSampler\n",
    "\n",
    "from tensorflow.keras.preprocessing.sequence import pad_sequences\n",
    "from sklearn.model_selection import train_test_split\n",
    "from sklearn.metrics import f1_score, roc_auc_score, accuracy_score"
   ]
  },
  {
   "cell_type": "markdown",
   "metadata": {
    "id": "4Xis3Iw5DHj6"
   },
   "source": [
    "# 데이터 로드"
   ]
  },
  {
   "cell_type": "code",
   "execution_count": null,
   "metadata": {
    "colab": {
     "base_uri": "https://localhost:8080/"
    },
    "executionInfo": {
     "elapsed": 393,
     "status": "ok",
     "timestamp": 1750942298976,
     "user": {
      "displayName": "김성한",
      "userId": "01456461380721472549"
     },
     "user_tz": -540
    },
    "id": "UvkCz06h5kXa",
    "outputId": "3f179301-3b49-4ff5-9013-63e3b64cd9ca"
   },
   "outputs": [],
   "source": [
    "!wget https://raw.githubusercontent.com/ukairia777/finance_sentiment_corpus/main/finance_data.csv"
   ]
  },
  {
   "cell_type": "code",
   "execution_count": null,
   "metadata": {
    "colab": {
     "base_uri": "https://localhost:8080/"
    },
    "executionInfo": {
     "elapsed": 32,
     "status": "ok",
     "timestamp": 1750942299010,
     "user": {
      "displayName": "김성한",
      "userId": "01456461380721472549"
     },
     "user_tz": -540
    },
    "id": "7yQymLCz64kQ",
    "outputId": "7679acb5-029a-42f8-f887-f0213f73a311"
   },
   "outputs": [],
   "source": [
    "df = pd.read_csv('finance_data.csv')\n",
    "print('샘플의 개수 :', len(df))"
   ]
  },
  {
   "cell_type": "code",
   "execution_count": null,
   "metadata": {
    "colab": {
     "base_uri": "https://localhost:8080/"
    },
    "executionInfo": {
     "elapsed": 107,
     "status": "ok",
     "timestamp": 1750942299119,
     "user": {
      "displayName": "김성한",
      "userId": "01456461380721472549"
     },
     "user_tz": -540
    },
    "id": "pU5JsGSR6_HF",
    "outputId": "7d67fc26-7349-49bc-9327-4dcfae8074d2"
   },
   "outputs": [],
   "source": [
    "df.head()"
   ]
  },
  {
   "cell_type": "code",
   "execution_count": null,
   "metadata": {
    "colab": {
     "base_uri": "https://localhost:8080/"
    },
    "executionInfo": {
     "elapsed": 9,
     "status": "ok",
     "timestamp": 1750942299138,
     "user": {
      "displayName": "김성한",
      "userId": "01456461380721472549"
     },
     "user_tz": -540
    },
    "id": "A43L4GWA7F_f",
    "outputId": "9cf8ebb2-fa36-4206-ae4c-db486b1402b5"
   },
   "outputs": [],
   "source": [
    "df.value_counts(df['labels'])"
   ]
  },
  {
   "cell_type": "code",
   "execution_count": null,
   "metadata": {
    "colab": {
     "base_uri": "https://localhost:8080/"
    },
    "executionInfo": {
     "elapsed": 138,
     "status": "ok",
     "timestamp": 1750942299279,
     "user": {
      "displayName": "김성한",
      "userId": "01456461380721472549"
     },
     "user_tz": -540
    },
    "id": "AwDwyQrb-2iY",
    "outputId": "0fcf073c-f4ff-4fb5-97ea-de4cebbd0a8f"
   },
   "outputs": [],
   "source": [
    "df['labels'] = df['labels'].replace(['neutral', 'positive', 'negative'], [0, 1, 2])\n",
    "df.head()"
   ]
  },
  {
   "cell_type": "code",
   "execution_count": null,
   "metadata": {
    "id": "XGyTF10-AuTB"
   },
   "outputs": [],
   "source": [
    "dataset = Dataset.from_pandas(df)\n",
    "split_dataset = dataset.train_test_split(0.2, seed = 777)\n",
    "train_cs = split_dataset['train']\n",
    "test_cs = split_dataset['test']"
   ]
  },
  {
   "cell_type": "code",
   "execution_count": null,
   "metadata": {
    "colab": {
     "base_uri": "https://localhost:8080/"
    },
    "executionInfo": {
     "elapsed": 30,
     "status": "ok",
     "timestamp": 1750942299327,
     "user": {
      "displayName": "김성한",
      "userId": "01456461380721472549"
     },
     "user_tz": -540
    },
    "id": "9gmD-9yGA8tQ",
    "outputId": "11251796-d58e-4621-dd8e-e202b334affe"
   },
   "outputs": [],
   "source": [
    "train_cs"
   ]
  },
  {
   "cell_type": "code",
   "execution_count": null,
   "metadata": {
    "colab": {
     "base_uri": "https://localhost:8080/"
    },
    "executionInfo": {
     "elapsed": 53,
     "status": "ok",
     "timestamp": 1750942299382,
     "user": {
      "displayName": "김성한",
      "userId": "01456461380721472549"
     },
     "user_tz": -540
    },
    "id": "YCXC32hYCgTu",
    "outputId": "00cfacdd-9f90-4041-bd96-8e13ffa18d5d"
   },
   "outputs": [],
   "source": [
    "test_cs"
   ]
  },
  {
   "cell_type": "code",
   "execution_count": null,
   "metadata": {
    "id": "zhOdDKszChie"
   },
   "outputs": [],
   "source": [
    "cs = train_cs.train_test_split(0.2, seed = 777)\n",
    "train_cs = cs['train']\n",
    "valid_cs = cs['test']"
   ]
  },
  {
   "cell_type": "code",
   "execution_count": null,
   "metadata": {
    "colab": {
     "base_uri": "https://localhost:8080/"
    },
    "executionInfo": {
     "elapsed": 7,
     "status": "ok",
     "timestamp": 1750942299383,
     "user": {
      "displayName": "김성한",
      "userId": "01456461380721472549"
     },
     "user_tz": -540
    },
    "id": "iwy2eAZiC3gB",
    "outputId": "25fc7dd7-dc2f-4033-e1e5-04e5051ee484"
   },
   "outputs": [],
   "source": [
    "print(train_cs)\n",
    "print(valid_cs)\n",
    "print(test_cs)"
   ]
  },
  {
   "cell_type": "markdown",
   "metadata": {
    "id": "NqspPclvDKWX"
   },
   "source": [
    "# 데이터 전처리"
   ]
  },
  {
   "cell_type": "code",
   "execution_count": null,
   "metadata": {
    "id": "CpQChNDJC5Kx"
   },
   "outputs": [],
   "source": [
    "train_sentence = list(map(lambda x : '[CLS] ' + str(x) + ' [SEP]', train_cs['kor_sentence']))\n",
    "valid_sentence = list(map(lambda x : '[CLS] ' + str(x) + ' [SEP]', valid_cs['kor_sentence']))\n",
    "test_sentence = list(map(lambda x : '[CLS] ' + str(x) + ' [SEP]', test_cs['kor_sentence']))"
   ]
  },
  {
   "cell_type": "code",
   "execution_count": null,
   "metadata": {
    "id": "Dhvq_QDGTtZX"
   },
   "outputs": [],
   "source": [
    "train_labels = train_cs['labels']\n",
    "valid_labels = valid_cs['labels']\n",
    "test_labels = test_cs['labels']"
   ]
  },
  {
   "cell_type": "code",
   "execution_count": null,
   "metadata": {
    "colab": {
     "base_uri": "https://localhost:8080/"
    },
    "executionInfo": {
     "elapsed": 24,
     "status": "ok",
     "timestamp": 1750942299557,
     "user": {
      "displayName": "김성한",
      "userId": "01456461380721472549"
     },
     "user_tz": -540
    },
    "id": "voXqZY4mHTv7",
    "outputId": "322772d9-52de-46bd-9eec-88e824e9f271"
   },
   "outputs": [],
   "source": [
    "train_sentence[:5]"
   ]
  },
  {
   "cell_type": "code",
   "execution_count": null,
   "metadata": {
    "colab": {
     "base_uri": "https://localhost:8080/"
    },
    "executionInfo": {
     "elapsed": 9,
     "status": "ok",
     "timestamp": 1750942299557,
     "user": {
      "displayName": "김성한",
      "userId": "01456461380721472549"
     },
     "user_tz": -540
    },
    "id": "5EJ508OFHYnD",
    "outputId": "90873c49-913f-4e60-cc65-aff084b7ac76"
   },
   "outputs": [],
   "source": [
    "train_labels[:5]"
   ]
  },
  {
   "cell_type": "code",
   "execution_count": null,
   "metadata": {
    "colab": {
     "base_uri": "https://localhost:8080/",
     "height": 286,
     "referenced_widgets": [
      "687b218b0de8440c9fe6d38458f279b8",
      "3923b506aa5545a6abd4b6fd949a17dd",
      "208872a8baac4adf91bf75f1b4cc8d4d",
      "24aef5aec2884ca5985830ff6584bd14",
      "d46cc4d09ebd47cf83b104ddb0bb3943",
      "11b18b0b14c9440ab7f1acb779ebfb34",
      "b8ba7488c81548d89ca1e4c0eb4edb01",
      "a310372faf5f40cfbe92a70a06ad736f",
      "a03f8d0750044b21a5084d69863053a8",
      "9ad8e8f2cc0e41529662b859c297b291",
      "ad634128933d4ff1ad282678c2e0333f",
      "435db236be0d497096e8e77596de691b",
      "6259f292e8e74ba58eeeef5d87a5cde1",
      "d47baf90283847c79eb8d79447ea64eb",
      "d8b0fdb952b8401c9f2fdf4e44f10185",
      "7c70f5ceb6b24e158e3aa96e0cd12640",
      "64d8bb81e0554b5f85977429e22b6c1f",
      "fc88e9d6b3fa41a881fffeadd7f11e58",
      "a182d86926794672a7acb6454e04509d",
      "8cd586276f2b4384b2d2432787743f1a",
      "6ea06c1a08ae4ce09b1126137dd2f3b0",
      "4cdd6f408e784c3cbfb494bbc3215e94",
      "b591dab11127449895a72ea52bd95b9a",
      "a24ecb29a859479bbb083720a27801ad",
      "807850bc186342e58fbce513b3d43307",
      "a703d957f4a34252ac8a023a0ed21e45",
      "b9f33aa796c148608bd02ceecd4dddab",
      "d05174e926b8460a8ba7903c3376bf1c",
      "3d5c99a7a55b46fa906c98ac9a11b7ec",
      "a06e39210513446dbc7f5aa0065ccc2a",
      "9fba3d43908c4c038bb273949055a9e4",
      "9f6fbd5273234bae9500192c4175d150",
      "3ead6d758209437b9ad63316c9d59638",
      "cc9c84b870934f6e946f3768a10eb682",
      "3e116ba247354fe79a6697a65d7a61ba",
      "d8d37689fce44fcab66f62cc6559f9f6",
      "b0cdc89fb5da427eb533aaa52477d7ab",
      "fc24769cf1384ff2b6acd66a931c8ec9",
      "ad8f1e814b6841d89ffde0f0c6eda1cc",
      "86f0660876904a1f80a37777841ffa7b",
      "705edd69eac54dfa88ca40bcb92f9f7d",
      "156acecb5580468ba783b49d1d0f8cf5",
      "9eb66744427a415c9a406a11e5a29d91",
      "4b48b15bd21f4c04ab91c86b7bfc1978",
      "baf26317756446d4861918742361fdd0",
      "3a839a7bc44d4990814ea2bd6cf558a8",
      "a1ddf42adf78455b82bb1e3ecb8c088f",
      "bebe8ccaf5ba4a5ba567935f6a9a16fa",
      "84e0b18162574791a9ca7e17493c0f6d",
      "89662798c68445308d8a70a565a9b033",
      "a95d7125b2d54c65a8d30e32b360d754",
      "e6fac3bbe1cf4629a0d7b24d25a459cb",
      "e1baf72928c648d19b4e76349ff1f8dd",
      "0fbaeff1562d4786b0f3a05c48dc4a4d",
      "90725347e78d48828fd0b3a67b0ae0d1"
     ]
    },
    "executionInfo": {
     "elapsed": 2028,
     "status": "ok",
     "timestamp": 1750942301582,
     "user": {
      "displayName": "김성한",
      "userId": "01456461380721472549"
     },
     "user_tz": -540
    },
    "id": "qKhQCZgB2Wua",
    "outputId": "4848b985-7008-41f2-8dd3-591239e724ec"
   },
   "outputs": [],
   "source": [
    "tokenizer = BertTokenizer.from_pretrained('klue/bert-base')"
   ]
  },
  {
   "cell_type": "code",
   "execution_count": null,
   "metadata": {
    "id": "woBjnFLVT4Mw"
   },
   "outputs": [],
   "source": [
    "max_len = 128\n",
    "\n",
    "def data_to_tensor(sentences, labels, max_len):\n",
    "\n",
    "  # BertTokenizer를 활용하여 토큰화\n",
    "  tokenized_sent = [tokenizer.tokenize(sent) for sent in sentences]\n",
    "\n",
    "  # 정수 인덱싱\n",
    "  input_ids = [tokenizer.convert_tokens_to_ids(x) for x in tokenized_sent]\n",
    "\n",
    "  # par_sequences를 활용하여 최대 길이(max_len)로 패딩\n",
    "  input_ids = pad_sequences(input_ids, maxlen = max_len, dtype = 'long', truncating = 'post', padding = 'post')\n",
    "\n",
    "  # 패딩 토큰을 구분하기 위해 Attention mask 제작\n",
    "  attention_mask = []\n",
    "\n",
    "  for seq in input_ids:\n",
    "    seq_mask = [float(i > 0) for i in seq]\n",
    "    attention_mask.append(seq_mask)\n",
    "\n",
    "  tensor_inputs = torch.tensor(input_ids)\n",
    "  tensor_labels = torch.tensor(labels)\n",
    "  tensor_masks = torch.tensor(attention_mask)\n",
    "\n",
    "  return tensor_inputs, tensor_labels, tensor_masks"
   ]
  },
  {
   "cell_type": "code",
   "execution_count": null,
   "metadata": {
    "id": "hoIggPND4G-A"
   },
   "outputs": [],
   "source": [
    "train_inputs, train_labels, train_masks = data_to_tensor(train_sentence, train_labels, max_len)\n",
    "valid_inputs, valid_labels, valid_masks = data_to_tensor(valid_sentence, valid_labels, max_len)\n",
    "test_inputs, test_labels, test_masks = data_to_tensor(test_sentence, test_labels, max_len)"
   ]
  },
  {
   "cell_type": "code",
   "execution_count": null,
   "metadata": {
    "colab": {
     "base_uri": "https://localhost:8080/"
    },
    "executionInfo": {
     "elapsed": 56,
     "status": "ok",
     "timestamp": 1750942304750,
     "user": {
      "displayName": "김성한",
      "userId": "01456461380721472549"
     },
     "user_tz": -540
    },
    "id": "QytOXzE94qu0",
    "outputId": "bbc07bc4-177d-484f-ec6b-a4317efadc2a"
   },
   "outputs": [],
   "source": [
    "print('정수인코딩결과:',test_inputs[0])\n",
    "print('-'*100)\n",
    "print('원본문장복원결과:', tokenizer.decode(test_inputs[0]))\n",
    "print('-'*100)\n",
    "print('어텐션마스크:', test_masks[0])\n",
    "print('-'*100)\n",
    "print('샘플의길이:', len(test_inputs[0]))\n",
    "print('-'*100)\n",
    "print('레이블:', test_labels[0])"
   ]
  },
  {
   "cell_type": "code",
   "execution_count": null,
   "metadata": {
    "id": "8QwovkMN4xdt"
   },
   "outputs": [],
   "source": [
    "batch_size = 32\n",
    "\n",
    "train_data = TensorDataset(train_inputs, train_masks, train_labels)\n",
    "train_sampler = RandomSampler(train_data)\n",
    "train_dataloader = DataLoader(train_data, sampler = train_sampler, batch_size = batch_size)\n",
    "\n",
    "valid_data = TensorDataset(valid_inputs, valid_masks, valid_labels)\n",
    "valid_sampler = SequentialSampler(valid_data)\n",
    "valid_dataloader = DataLoader(valid_data, sampler = valid_sampler, batch_size = batch_size)\n",
    "\n",
    "test_data = TensorDataset(test_inputs, test_masks, test_labels)\n",
    "test_sampler = SequentialSampler(test_data)\n",
    "test_dataloader = DataLoader(test_data, sampler = test_sampler, batch_size = batch_size)"
   ]
  },
  {
   "cell_type": "markdown",
   "metadata": {
    "id": "dnHRDAZU553R"
   },
   "source": [
    "# GPU 확인"
   ]
  },
  {
   "cell_type": "code",
   "execution_count": null,
   "metadata": {
    "colab": {
     "base_uri": "https://localhost:8080/"
    },
    "executionInfo": {
     "elapsed": 11,
     "status": "ok",
     "timestamp": 1750942304809,
     "user": {
      "displayName": "김성한",
      "userId": "01456461380721472549"
     },
     "user_tz": -540
    },
    "id": "SlD58Bp855r7",
    "outputId": "0f1cdfd2-97b2-405b-a2de-8a9e850aef28"
   },
   "outputs": [],
   "source": [
    "device = torch.device('cuda' if torch.cuda.is_available() else 'cpu')\n",
    "print(device)"
   ]
  },
  {
   "cell_type": "markdown",
   "metadata": {
    "id": "XWFnGH-n6bgI"
   },
   "source": [
    "# 모델 로드"
   ]
  },
  {
   "cell_type": "code",
   "execution_count": null,
   "metadata": {
    "colab": {
     "base_uri": "https://localhost:8080/",
     "height": 906,
     "referenced_widgets": [
      "2dba5526c2534b76a354a3e49d5a32fe",
      "78f032a2e22f45b98f407f45cde3e1ef",
      "c659d50b1b314855af11e95bb8734f2a",
      "4a995b14b5074f8382289055cca86309",
      "ab3a95372c3b40dbbc23c71fdf845234",
      "ec71baa967ec43229d549e0c8a1f892e",
      "c046f64ef7f248fe99036c76924511f5",
      "295c5cb20976491a80ce68c470158778",
      "a6452776fbbb41a6a9bde14a780c6d00",
      "1dbbd8532efa4d5f8b77033fa05ab992",
      "4a0fae3e44d247f2ba6c56233b8cb0cb"
     ]
    },
    "executionInfo": {
     "elapsed": 8925,
     "status": "ok",
     "timestamp": 1750942313731,
     "user": {
      "displayName": "김성한",
      "userId": "01456461380721472549"
     },
     "user_tz": -540
    },
    "id": "Uut1Ss-3514r",
    "outputId": "06edbee7-4563-4ac1-92a8-c09d4f868594"
   },
   "outputs": [],
   "source": [
    "num_labels = 3\n",
    "model = BertForSequenceClassification.from_pretrained('klue/bert-base', num_labels = num_labels)\n",
    "model.to(device)"
   ]
  },
  {
   "cell_type": "markdown",
   "metadata": {
    "id": "cdN6QK_I7CTQ"
   },
   "source": [
    "# 모델 학습"
   ]
  },
  {
   "cell_type": "code",
   "execution_count": null,
   "metadata": {
    "id": "v7B0OkTf6poo"
   },
   "outputs": [],
   "source": [
    "def metrics(predictions, labels):\n",
    "\n",
    "  y_pred = predictions\n",
    "  y_true = labels\n",
    "\n",
    "  # Accuracy\n",
    "  accuracy = accuracy_score(y_true, y_pred)\n",
    "\n",
    "  # f1_score_macro\n",
    "  f1_macro = f1_score(y_true, y_pred, average = 'macro', zero_division = 0)\n",
    "\n",
    "  # f1_score_micro\n",
    "  f1_micro = f1_score(y_true, y_pred, average = 'micro', zero_division = 0)\n",
    "\n",
    "  # f1_score_weight\n",
    "  f1_weight = f1_score(y_true, y_pred, average = 'weighted', zero_division = 0)\n",
    "\n",
    "  metrics = {'accuracy' : accuracy,\n",
    "             'f1_macro' : f1_macro,\n",
    "             'f1_micro' : f1_micro,\n",
    "             'f1_weighted' : f1_weight}\n",
    "\n",
    "  return metrics"
   ]
  },
  {
   "cell_type": "code",
   "execution_count": null,
   "metadata": {
    "id": "qoeXnVjI7VEH"
   },
   "outputs": [],
   "source": [
    "epochs = 3\n",
    "optimizer = AdamW(model.parameters(), lr = 2e-5)"
   ]
  },
  {
   "cell_type": "code",
   "execution_count": null,
   "metadata": {
    "id": "hF8nXnDh8NdB"
   },
   "outputs": [],
   "source": [
    "def train_epoch(model, train_dataloader, optimizer, device):\n",
    "\n",
    "  total_loss = 0\n",
    "  model.train()\n",
    "\n",
    "  for step, batch in tqdm(enumerate(train_dataloader), desc = 'Training Batch'):\n",
    "    batch = tuple(t.to(device) for t in batch)\n",
    "    b_inputs_ids, b_inputs_mask, b_label = batch\n",
    "\n",
    "    outputs = model(b_inputs_ids, token_type_ids = None, attention_mask = b_inputs_mask, labels = b_label)\n",
    "\n",
    "    loss = outputs.loss\n",
    "\n",
    "    optimizer.zero_grad()\n",
    "    loss.backward()\n",
    "    optimizer.step()\n",
    "\n",
    "    total_loss += loss.item()\n",
    "\n",
    "  return total_loss / len(train_dataloader)"
   ]
  },
  {
   "cell_type": "code",
   "execution_count": null,
   "metadata": {
    "id": "T23ZrwO29kR_"
   },
   "outputs": [],
   "source": [
    "def evaluation(model, valid_dataloader, device):\n",
    "\n",
    "  total_loss = 0\n",
    "  pred = []\n",
    "  true = []\n",
    "\n",
    "  model.eval()\n",
    "\n",
    "  for batch in valid_dataloader:\n",
    "    batch = tuple(t.to(device) for t in batch)\n",
    "    b_inputs_ids, b_inputs_mask, b_labels = batch\n",
    "\n",
    "    with torch.no_grad():\n",
    "      outputs = model(b_inputs_ids, token_type_ids = None, attention_mask = b_inputs_mask, labels = b_labels)\n",
    "\n",
    "    if outputs.loss is not None:\n",
    "      loss = outputs.loss\n",
    "      total_loss += loss.item()\n",
    "\n",
    "    logits = outputs.logits.detach().cpu().numpy()\n",
    "    labels_ids = b_labels.to('cpu').numpy()\n",
    "\n",
    "    pred.extend(np.argmax(logits, axis = 1).flatten())\n",
    "    true.extend(labels_ids.flatten())\n",
    "\n",
    "  eval_metrics = metrics(pred, true)\n",
    "\n",
    "  return total_loss / len(valid_dataloader), eval_metrics"
   ]
  },
  {
   "cell_type": "code",
   "execution_count": null,
   "metadata": {
    "colab": {
     "base_uri": "https://localhost:8080/"
    },
    "executionInfo": {
     "elapsed": 194615,
     "status": "ok",
     "timestamp": 1750942508429,
     "user": {
      "displayName": "김성한",
      "userId": "01456461380721472549"
     },
     "user_tz": -540
    },
    "id": "8S6n6fiP_nBI",
    "outputId": "af530267-2cc4-4cfc-f09a-d84a12582bc7"
   },
   "outputs": [],
   "source": [
    "min_val_loss = float('inf')\n",
    "\n",
    "for epoch in range(0, epochs):\n",
    "  print('======== Epoch {:} / {:} ========'.format(epoch + 1, epochs))\n",
    "\n",
    "  train_epoch(model, train_dataloader, optimizer, device)\n",
    "\n",
    "  print(\"\\nRunning Validation...\")\n",
    "\n",
    "  val_loss, eval_metrics = evaluation(model, valid_dataloader, device)\n",
    "  print(\" Validation Loss: {0:.2f}\".format(val_loss))\n",
    "  print(\" Accuracy: {0:.2f}\".format(eval_metrics['accuracy']))\n",
    "  print(\" F1 Macro: {0:.2f}\".format(eval_metrics['f1_macro']))\n",
    "  print(\" F1 Micro: {0:.2f}\".format(eval_metrics['f1_micro']))\n",
    "  print(\" F1 Weighted: {0:.2f}\".format(eval_metrics['f1_weighted']))\n",
    "\n",
    "  if val_loss < min_val_loss:\n",
    "    print(f\"Validation loss decreased ({min_val_loss:.2f}--> {val_loss:.2f}). Saving model ...\")\n",
    "    torch.save(model.state_dict(), 'model_checkpoint.pt')\n",
    "    min_val_loss = val_loss"
   ]
  },
  {
   "cell_type": "code",
   "execution_count": null,
   "metadata": {
    "colab": {
     "base_uri": "https://localhost:8080/"
    },
    "executionInfo": {
     "elapsed": 6586,
     "status": "ok",
     "timestamp": 1750942515007,
     "user": {
      "displayName": "김성한",
      "userId": "01456461380721472549"
     },
     "user_tz": -540
    },
    "id": "DvjYkOPxA5dL",
    "outputId": "357a1616-5171-4697-9ac2-8e282af83588"
   },
   "outputs": [],
   "source": [
    "model.load_state_dict(torch.load('model_checkpoint.pt'))\n",
    "\n",
    "val_loss, eval_metrics = evaluation(model, test_dataloader, device)\n",
    "print(\" Test Loss: {0:.2f}\".format(val_loss))\n",
    "print(\" Accuracy: {0:.2f}\".format(eval_metrics['accuracy']))\n",
    "print(\" F1 Macro: {0:.2f}\".format(eval_metrics['f1_macro']))\n",
    "print(\" F1 Micro: {0:.2f}\".format(eval_metrics['f1_micro']))\n",
    "print(\" F1 Weighted: {0:.2f}\".format(eval_metrics['f1_weighted']))"
   ]
  },
  {
   "cell_type": "markdown",
   "metadata": {
    "id": "xx0a9uOqCjAd"
   },
   "source": [
    "# 추론하기"
   ]
  },
  {
   "cell_type": "code",
   "execution_count": null,
   "metadata": {
    "colab": {
     "base_uri": "https://localhost:8080/"
    },
    "executionInfo": {
     "elapsed": 20,
     "status": "ok",
     "timestamp": 1750942515014,
     "user": {
      "displayName": "김성한",
      "userId": "01456461380721472549"
     },
     "user_tz": -540
    },
    "id": "_3DbooBgCclf",
    "outputId": "0acb7dc4-1381-45bc-c1c9-801aa120e9ea"
   },
   "outputs": [],
   "source": [
    "pipe = pipeline('text-classification', model = model.to(device), tokenizer = tokenizer, device = 0, max_length = 512, return_all_scores = True, function_to_apply = 'softmax')"
   ]
  },
  {
   "cell_type": "code",
   "execution_count": null,
   "metadata": {
    "colab": {
     "base_uri": "https://localhost:8080/"
    },
    "executionInfo": {
     "elapsed": 42,
     "status": "ok",
     "timestamp": 1750942515056,
     "user": {
      "displayName": "김성한",
      "userId": "01456461380721472549"
     },
     "user_tz": -540
    },
    "id": "5sOnBk2YDFEL",
    "outputId": "49639910-daa9-429b-f400-ad3c50f54f96"
   },
   "outputs": [],
   "source": [
    "result = pipe('SK하이닉스가 매출이 급성장하였다')\n",
    "print(result)"
   ]
  },
  {
   "cell_type": "code",
   "execution_count": null,
   "metadata": {
    "colab": {
     "base_uri": "https://localhost:8080/"
    },
    "executionInfo": {
     "elapsed": 95,
     "status": "ok",
     "timestamp": 1750942515154,
     "user": {
      "displayName": "김성한",
      "userId": "01456461380721472549"
     },
     "user_tz": -540
    },
    "id": "_YUoZG40DZOD",
    "outputId": "b4f82396-a3e1-4379-de8e-1dec6c3f76c1"
   },
   "outputs": [],
   "source": [
    "pipe = pipeline('text-classification', model = model.to(device), tokenizer = tokenizer, device = 0, max_length = 512, function_to_apply = 'softmax')\n",
    "result = pipe('SK하이닉스가 매출이 급성장하였다')\n",
    "print(result)"
   ]
  },
  {
   "cell_type": "code",
   "execution_count": null,
   "metadata": {
    "id": "7DglNxy8DuRA"
   },
   "outputs": [],
   "source": [
    "label_dict = {'LABEL_0' : '중립', 'LABEL_1' : '긍정', 'LABEL_2' : '부정'}\n",
    "\n",
    "def prediction(text):\n",
    "  result = pipe(text)\n",
    "  return [label_dict[result[0]['label']]]"
   ]
  },
  {
   "cell_type": "code",
   "execution_count": null,
   "metadata": {
    "colab": {
     "base_uri": "https://localhost:8080/"
    },
    "executionInfo": {
     "elapsed": 24,
     "status": "ok",
     "timestamp": 1750943022819,
     "user": {
      "displayName": "김성한",
      "userId": "01456461380721472549"
     },
     "user_tz": -540
    },
    "id": "a5Aqn32NDoBa",
    "outputId": "db4f9b30-a9a7-4356-c8fd-211ee3db3ea7"
   },
   "outputs": [],
   "source": [
    "prediction('네 이 버가 매출이 급성장하였다')"
   ]
  },
  {
   "cell_type": "code",
   "execution_count": null,
   "metadata": {
    "colab": {
     "base_uri": "https://localhost:8080/"
    },
    "executionInfo": {
     "elapsed": 13,
     "status": "ok",
     "timestamp": 1750942938370,
     "user": {
      "displayName": "김성한",
      "userId": "01456461380721472549"
     },
     "user_tz": -540
    },
    "id": "_PcsbQK6ELal",
    "outputId": "2f1e2645-ec0c-4f8c-ba44-b9f81eeb47b7"
   },
   "outputs": [],
   "source": [
    "prediction('ChatGPT의 등 장으로 인공지능 스타트업들은 위기다')"
   ]
  },
  {
   "cell_type": "code",
   "execution_count": null,
   "metadata": {
    "colab": {
     "base_uri": "https://localhost:8080/"
    },
    "executionInfo": {
     "elapsed": 15,
     "status": "ok",
     "timestamp": 1750942939119,
     "user": {
      "displayName": "김성한",
      "userId": "01456461380721472549"
     },
     "user_tz": -540
    },
    "id": "Doz7U8_sGMMd",
    "outputId": "15419433-4b7a-43fd-fb3f-6bf41a77370e"
   },
   "outputs": [],
   "source": [
    "prediction('인 공 지능 기술의 발전으로 누군가는 기회를 얻을 것이고, 누군가는 얻지 못할 것이다')"
   ]
  },
  {
   "cell_type": "code",
   "execution_count": null,
   "metadata": {
    "id": "MbWyP93lGPtr"
   },
   "outputs": [],
   "source": []
  }
 ],
 "metadata": {
  "accelerator": "GPU",
  "colab": {
   "authorship_tag": "ABX9TyMAmDgR+s4VYe8/EbHti14X",
   "gpuType": "T4",
   "provenance": []
  },
  "kernelspec": {
   "display_name": "Python 3",
   "name": "python3"
  },
  "language_info": {
   "name": "python"
  }
 },
 "nbformat": 4,
 "nbformat_minor": 0
}
