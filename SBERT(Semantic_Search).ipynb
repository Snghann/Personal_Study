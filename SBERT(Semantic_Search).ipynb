{
 "cells": [
  {
   "cell_type": "code",
   "execution_count": null,
   "metadata": {
    "colab": {
     "base_uri": "https://localhost:8080/"
    },
    "executionInfo": {
     "elapsed": 99602,
     "status": "ok",
     "timestamp": 1751368050061,
     "user": {
      "displayName": "김성한",
      "userId": "01456461380721472549"
     },
     "user_tz": -540
    },
    "id": "Bl3sKhXgOj_Q",
    "outputId": "067e4931-aa51-4976-b653-8834965f417d"
   },
   "outputs": [],
   "source": [
    "!pip install faiss-gpu\n",
    "!pip install faiss-cpu\n",
    "!pip install -U sentence-transformers"
   ]
  },
  {
   "cell_type": "code",
   "execution_count": null,
   "metadata": {
    "id": "FtOARgN1O9U9"
   },
   "outputs": [],
   "source": [
    "import os\n",
    "import faiss\n",
    "import time\n",
    "import urllib.request\n",
    "import pandas as pd\n",
    "import numpy as np\n",
    "from sentence_transformers import SentenceTransformer"
   ]
  },
  {
   "cell_type": "markdown",
   "metadata": {
    "id": "3FmdDAZVTNww"
   },
   "source": [
    "# 데이터 로드"
   ]
  },
  {
   "cell_type": "code",
   "execution_count": null,
   "metadata": {
    "colab": {
     "base_uri": "https://localhost:8080/",
     "height": 206
    },
    "executionInfo": {
     "elapsed": 3087,
     "status": "ok",
     "timestamp": 1751368139082,
     "user": {
      "displayName": "김성한",
      "userId": "01456461380721472549"
     },
     "user_tz": -540
    },
    "id": "DJiTI8btSBKm",
    "outputId": "dc1e9833-5ffd-46af-cbe6-bee63d29baed"
   },
   "outputs": [],
   "source": [
    "urllib.request.urlretrieve(\"https://raw.githubusercontent.com/franciscadias/data/master/abcnews-date-text.csv\", filename = 'abcnews-date-text.csv')\n",
    "df = pd.read_csv('abcnews-date-text.csv')\n",
    "df.head()"
   ]
  },
  {
   "cell_type": "code",
   "execution_count": null,
   "metadata": {
    "colab": {
     "base_uri": "https://localhost:8080/"
    },
    "executionInfo": {
     "elapsed": 156,
     "status": "ok",
     "timestamp": 1751368141201,
     "user": {
      "displayName": "김성한",
      "userId": "01456461380721472549"
     },
     "user_tz": -540
    },
    "id": "YTaI7nEUSpqT",
    "outputId": "5541a390-81b4-475c-88e3-0d1180a99c95"
   },
   "outputs": [],
   "source": [
    "data = df['headline_text'].to_list()\n",
    "data[:5]"
   ]
  },
  {
   "cell_type": "code",
   "execution_count": null,
   "metadata": {
    "colab": {
     "base_uri": "https://localhost:8080/"
    },
    "executionInfo": {
     "elapsed": 10,
     "status": "ok",
     "timestamp": 1751368143798,
     "user": {
      "displayName": "김성한",
      "userId": "01456461380721472549"
     },
     "user_tz": -540
    },
    "id": "oUnYbT5HTErn",
    "outputId": "87513d50-d6f3-44a4-cce9-7645961a7452"
   },
   "outputs": [],
   "source": [
    "print('총 샘플의 개수 :', len(data))"
   ]
  },
  {
   "cell_type": "markdown",
   "metadata": {
    "id": "vxaQZ19mTO7g"
   },
   "source": [
    "# SBERT 임베딩"
   ]
  },
  {
   "cell_type": "code",
   "execution_count": null,
   "metadata": {
    "colab": {
     "base_uri": "https://localhost:8080/",
     "height": 497,
     "referenced_widgets": [
      "7a9b78d66af7444b99cf4cdd8c61ebc9",
      "cde38d9ba4d64230bd62aefa2560c5e2",
      "518945b5ebff4d98811de38ca1a1e79a",
      "e6f3e0677e4c41938f7a319cd854c544",
      "2c3962611a2f4fbb8cf7593c1a124038",
      "c45ae0c754a44424b46d0163e4cfa906",
      "44350d79174449dbadfff4d295ae8deb",
      "0cbf0bf55db04d2ca288a3e2edffa052",
      "ec5a7e4ef7b041ef8574976e9d58674f",
      "416c2bb164b24a17b76b910e755a751e",
      "0c12f57139784c6fa650b3e60f0a2b1d",
      "8d714fc414f74219a24a66c91e5957fd",
      "2cb30788cf0040c7bd1350827337091a",
      "ea6dde381176483d8ddf8e2a1d2f3776",
      "ecc07912e5544899b81c4439d05b43f1",
      "9934a553702946b3ab5c975e5e064806",
      "90c6ffd96f704fd18485784c2f949766",
      "7736d5ca5f0e4896a993860b0358e5b3",
      "bbb3dca03a6a4fe69e93a74fe05e9017",
      "b11d7f4d35e54ae78e19a8c2483fb79b",
      "f0ba62b1bdd346b6aaeda8a9a3949058",
      "b4c83e55da854fc49f3dc8f445cc0dac",
      "60f60aa2fe084981914e110e9af1111c",
      "4fae641e00bd4de58c18640ef05a232f",
      "a3679155e61945dea1e8a734cc0fda5a",
      "f6a39eff12844c1faf06410e4efbed07",
      "6de42a85c90f4f99a4adbe0c89276401",
      "6f1d7885ed4e4540bfa938f3c689fc1a",
      "782e5ea6006e4592880ecd61e3bed752",
      "d928ccbdbf9f45089d90d7343b9421ab",
      "b42f035c779e4447877d44ab50160c92",
      "2342157c5d184699a617f10d28af408e",
      "20c0fc2be0fe4aaab8093e0ee2a743e9",
      "034016ec8ab44ce5be65a45ceec678b4",
      "740076fbe9804388a17e330401eafd29",
      "85de348556984835a1a2cc5492b9a7ae",
      "863d0804427d493d8af84c7d20d93e94",
      "4174c2b5ba90465689af8dac19fe1c89",
      "802848412d3c4014b04956ccc917f952",
      "99fa3a0e3c2b414faf65fa2dd24d31db",
      "9ab3dc399c4d4b24bce9f8810b861daa",
      "2801e9e53f764466ab89207cc9ef2f22",
      "6e0ebe88d6764c178f8d68dc530e9cb7",
      "29e6bae9a951484ab92e4faf4b71a660",
      "63fd37b9a15f4c2c822c7b53ac2b77fe",
      "bf7c28af95ea46dd994d8ac9318f2eec",
      "2b687bc180f4440f81d0f2376f0536c7",
      "c738bafb0b0447fc92d3ea04c583e27f",
      "8692842f45824c6aa37b4b7c43c93c65",
      "1b862722a4054e629c18786b5d16096a",
      "44565cb596574a3896b323e514f23cf5",
      "4949b369190c4b60bfa5a06adb353502",
      "9032160b21484b13b69f982cea141355",
      "9879eaa14dbc489fbc3c306d2d696810",
      "1f590baa10b04ac1b61e5f54eb800895",
      "887c920d79644eef97637da80fbee1c9",
      "889218da9097462b8b7a8a2983ce0330",
      "f32d7e5a388d491ba2610fd5568e0d75",
      "2a4e0b579c9646d3a22cc4246515457c",
      "87112cbff3ed48bcaa912867d0567c13",
      "77e49434ed53464c817cbc663cf10b38",
      "1f11d8a63958452fa6ffb3b3a501249e",
      "9d1db638774a427aae198c75f98a9994",
      "f8f0c66caf2f414f9097417632f37edd",
      "4f44b04dd5b747a5844aebd771f3b48a",
      "181f7b80da484953baa57d3afb97ef67",
      "593d227628874e939458517c3b27c3ac",
      "abe5be0924914d86bc5ef3ac860674a2",
      "33c90c8e09eb44a6b3994bd1704dad5a",
      "bdf561a243694b319d91478166762a62",
      "a6a27c2109fe4196ada03b1dcd657042",
      "54180b4da2f746fdae334d112426b3b6",
      "f634a57b67934c4ab2d9b3b382c6153e",
      "8c652ebedcb742d585a63f0970e58161",
      "af0fe209ab814ab78b583d04ad6cd607",
      "6e54ad04c2b644a48f9401e22e906942",
      "1b174e95623a4ba18efce9db1d2243bc",
      "8ed238b676494fdd9d3d73dbb444deef",
      "5d01b443b6db4a88a0d341acafeb4175",
      "41164d18cad0412796e511cde381bc0c",
      "1ae5985822fe4472864fb89092696c9e",
      "e0cb97adb5cc46dc9f99f92d1f7675c8",
      "1452f948d188482581a92ec13f01ba5f",
      "121034e749b047a9b6d81ec555999dde",
      "5b19f04ab3b544a68ca1fc51d2eba81d",
      "6565d515952e4d838675093d0c5bd52b",
      "a55b27ff9e274685b5982224dd4cb4f4",
      "f75149224fbd41c18978e8b957c760af",
      "4b0df6d51cab4197a81e42f07d01a19a",
      "bebf76f0ca304187b869ca38df5e00bc",
      "2baf5a394a424485b2b23785e5f20cbe",
      "0a8b1e455479478682f6995e6bc632c4",
      "e50e62c68029426493ca2743bfa8037d",
      "f5ccc1528d464c37b34b00755943944a",
      "f886f0ccb0c941328156949f1fd1a9f5",
      "2f77f2e5f2e94356a941a45617e4aed4",
      "695374a8992b4c24b87b82ad6b4be358",
      "87f703f62169491ba3d0ecd4250b9877",
      "57e8ca1cc5b340198590680dae23b7fb",
      "d916c6ed9e51469a833842b185c57c9c",
      "0528e939f26447ea91884f166980e006",
      "272efc66903943009453f9d74d1bbe61",
      "f0631fcc37ab477ba303483594bb9152",
      "03c883c948fb48ebaf90140e91539fef",
      "de3a18d84d9d43f3a0eaf81a179661cc",
      "255a2bf2d3e74ac8ae7caaeb145d1ffc",
      "cd2c3f9802b0446eaf6912d45fb431e6",
      "2ff8481a0b664355817e6f64176d8118",
      "7af6c518ba9642e5bccdbd896d9955ef",
      "b24b6984a0df409db2f4d1779fcb35f5",
      "8970af564717436eada543260d648fb3",
      "b251f35a1e7046118944b2bab7a8f317",
      "c54cba723f134cef8af306675bea160a",
      "d862e0c18bb74ebcbb0716825bac583a",
      "737ad8c3a8f04a84a6f5346dcca70412",
      "69b72c2762a5496dadfd6d9f3ecbc45e",
      "13d20c6b120241cb9f9705071a97c7ed",
      "c449c30bed68433d86f29d34cc792323",
      "d4f3c3a21fe043a9954a482c23057843",
      "79c0e27192344964b233c6351bf1141d",
      "fff686f3770846f3ad24ac73accccdab"
     ]
    },
    "executionInfo": {
     "elapsed": 496584,
     "status": "ok",
     "timestamp": 1751368643172,
     "user": {
      "displayName": "김성한",
      "userId": "01456461380721472549"
     },
     "user_tz": -540
    },
    "id": "XwHtXzFYTH_z",
    "outputId": "0708bc59-83a1-487c-b15a-6817071bd1e0"
   },
   "outputs": [],
   "source": [
    "model = SentenceTransformer('distilbert-base-nli-mean-tokens')\n",
    "encoded_data = model.encode(data)\n",
    "print('임베딩 된 벡터의 수 :', len(encoded_data))"
   ]
  },
  {
   "cell_type": "code",
   "execution_count": null,
   "metadata": {
    "id": "HR2hcHoXTmBt"
   },
   "outputs": [],
   "source": [
    "index = faiss.IndexIDMap(faiss.IndexFlatIP(768))\n",
    "index.add_with_ids(encoded_data, np.array(range(0, len(data))))\n",
    "faiss.write_index(index, 'abc_news')"
   ]
  },
  {
   "cell_type": "code",
   "execution_count": null,
   "metadata": {
    "id": "h6yq9CtksVm4"
   },
   "outputs": [],
   "source": [
    "def search(query):\n",
    "  t = time.time()\n",
    "  query_vector = model.encode([query])\n",
    "  k = 5\n",
    "  top_k = index.search(query_vector, k)\n",
    "  print(f'total time : {time.time() - t}')\n",
    "  return [data[_id] for _id in top_k[1].tolist()[0]]"
   ]
  },
  {
   "cell_type": "code",
   "execution_count": null,
   "metadata": {
    "colab": {
     "base_uri": "https://localhost:8080/"
    },
    "executionInfo": {
     "elapsed": 2402,
     "status": "ok",
     "timestamp": 1751369155653,
     "user": {
      "displayName": "김성한",
      "userId": "01456461380721472549"
     },
     "user_tz": -540
    },
    "id": "TDVAgiggu0DX",
    "outputId": "afceda24-5906-468b-8df4-b407ee9a5b31"
   },
   "outputs": [],
   "source": [
    "query = str(input())\n",
    "results = search(query)\n",
    "\n",
    "print('results :')\n",
    "for result in results:\n",
    "  print('\\t', result)"
   ]
  },
  {
   "cell_type": "code",
   "execution_count": null,
   "metadata": {
    "id": "iVufwlrAu5wn"
   },
   "outputs": [],
   "source": []
  }
 ],
 "metadata": {
  "colab": {
   "authorship_tag": "ABX9TyMf7yboATvjedXJJCRGqRxg",
   "provenance": []
  },
  "kernelspec": {
   "display_name": "Python 3",
   "name": "python3"
  },
  "language_info": {
   "name": "python"
  }
 },
 "nbformat": 4,
 "nbformat_minor": 0
}
