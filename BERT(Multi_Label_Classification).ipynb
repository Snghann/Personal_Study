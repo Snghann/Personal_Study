{
 "cells": [
  {
   "cell_type": "code",
   "execution_count": null,
   "metadata": {
    "colab": {
     "base_uri": "https://localhost:8080/"
    },
    "executionInfo": {
     "elapsed": 21867,
     "status": "ok",
     "timestamp": 1751285925200,
     "user": {
      "displayName": "김성한",
      "userId": "01456461380721472549"
     },
     "user_tz": -540
    },
    "id": "KJX9Dv6jd1M-",
    "outputId": "38abeb5e-687c-4855-e1ea-a0910ab1ef5c"
   },
   "outputs": [],
   "source": [
    "!pip install transformers\n",
    "!pip install datasets"
   ]
  },
  {
   "cell_type": "code",
   "execution_count": null,
   "metadata": {
    "colab": {
     "base_uri": "https://localhost:8080/"
    },
    "executionInfo": {
     "elapsed": 9871,
     "status": "ok",
     "timestamp": 1751285935083,
     "user": {
      "displayName": "김성한",
      "userId": "01456461380721472549"
     },
     "user_tz": -540
    },
    "id": "-mRdPWACi_-Q",
    "outputId": "59b08504-ceb3-41b9-ffa0-1a45f7156483"
   },
   "outputs": [],
   "source": [
    "!pip install --upgrade datasets"
   ]
  },
  {
   "cell_type": "code",
   "execution_count": null,
   "metadata": {
    "id": "SSaCBnKIgrEK"
   },
   "outputs": [],
   "source": [
    "import torch\n",
    "import datetime\n",
    "import pandas as pd\n",
    "import numpy as np\n",
    "import torch.nn as nn\n",
    "\n",
    "from tqdm import tqdm\n",
    "from datasets import load_dataset\n",
    "from torch.optim import AdamW\n",
    "from transformers import BertTokenizer\n",
    "from transformers import BertForSequenceClassification, BertConfig\n",
    "from torch.utils.data import TensorDataset, DataLoader, RandomSampler, SequentialSampler\n",
    "\n",
    "from tensorflow.keras.preprocessing.sequence import pad_sequences\n",
    "from sklearn.preprocessing import MultiLabelBinarizer\n",
    "from sklearn.metrics import f1_score, roc_auc_score, accuracy_score\n",
    "from sklearn.model_selection import train_test_split"
   ]
  },
  {
   "cell_type": "markdown",
   "metadata": {
    "id": "_JC3Rcnrhr6o"
   },
   "source": [
    "# Load Data"
   ]
  },
  {
   "cell_type": "code",
   "execution_count": null,
   "metadata": {
    "colab": {
     "base_uri": "https://localhost:8080/",
     "height": 638,
     "referenced_widgets": [
      "12b34ee9075048caae6a2701cdfa3868",
      "1a875456dc1846079c5aa4a71e11c34b",
      "6777bd0aa7064bbda05115308d80f98e",
      "a3fe582fafa94776949f397c6ecd7dc1",
      "646fd5d211994608966464bde26daa24",
      "01d5c36112a5465c9fc07e0127ef5996",
      "1918bb1e46704736bf4dd4dcff9941e9",
      "c1d6c6c8a26148eba6703d6bc641749a",
      "fb1a23134b654f5a9612d1dfcfc216cc",
      "ff1500c573b94fcaa6fad1f9faf078ec",
      "1deafa3b96d2436cb48010ef4128a74e",
      "13e99460768040a1ba3665cccaea2c70",
      "9552e75a89664c938774693ca9bda39b",
      "4335a771afd2433e89b43e539f5a3763",
      "3586c13397604347bf03a3d4e3bb7bde",
      "f72c7bd2662a4f91bc4c76e6e0593669",
      "266a8e25c4b64af3bbfb62951146cb11",
      "2a89c9db416d48ce84595622b1defa7b",
      "f43c40def6384e9993970dd2a62ac42f",
      "2e619f2333584bcc80bf7ea6d491a272",
      "4bc117d2b6f640bb80c03c9aa4a37d1e",
      "d5b246d5c18d460988de60fbb1607c9a",
      "22455747c72d4361974883bfdcef6dc2",
      "cd0611c4d9ab4c0180a2cf3484c0949d",
      "caacfe10c271412dae3abc1e16d6eaa5",
      "113b81efeb124375a58bf7b4f4e30689",
      "69994655769c4f2186109d99fa8edea2",
      "7c935462932b42ba9abb384c637c0495",
      "f03d3b3f6d114b41a08fe9777872ac3c",
      "aeac5a404d0242e48e044c2d13f639a0",
      "f4ec9dbba7314a779a39b985d1aaa43e",
      "6365236e2e8b446daa694d1c7f27e754",
      "6c0be090562c4ef1821b54dd24ce8542",
      "b65674ee94114fd482e7bf46e94eb69f",
      "8b3bdef860794cef976d6c98b857a9d3",
      "6e46b55852f54796b8532c05ad51af88",
      "2601b6aa87a84da692625a817a703330",
      "8a3ae4be57d640198a180ce7059d95e3",
      "54709229ff2f4549aa8eec20116bbc24",
      "56219d5f021a4ffcafdaa1be423a5d01",
      "feed8510b11a42de815d884dd04fbe0d",
      "56b87216d77e414fa007f28605ccfbbe",
      "572e33ca58994413a38f4298cbdcce46",
      "6cef8f0d78a34a89a1f1f8ab33ebb06c",
      "b5c0b1f578fa473183914f7829520517",
      "a543d12435fc450994f19874ec979ec1",
      "89a6022d97434e559090e4bb8b36e8a7",
      "1d24e67a039944d9a71793bd687b279b",
      "ee532dd2646548e885e55ca5005e90ed",
      "e461e327fce54140a6e0ce4d8301d444",
      "a43337f4b827458eaea06a15646dda4e",
      "920b87e6e423412191617d26241198a6",
      "3b4777ffbc2f419d81e81a9f84c46d4b",
      "c72f59835a05444c90f54763d0551da3",
      "9099f05d24e14a91984dd37667357804",
      "4ce847ae5dbc40038998257c3bf17fe1",
      "9682cc8944554bab95953950d4775ce7",
      "e80236066d7e4ccdaa7cb29d87aebdaf",
      "d177de193c9a448a8bbe9686dc20846e",
      "1165995fae054d5e804f33da2b36b052",
      "ae8964db2b8a4490910e21cfb0781644",
      "15d49680ba4d435cb89862ad24090596",
      "dc3289fd8bc243e081bd1c2aa7c52b9f",
      "da61950b68714301900876edc7ad2bfb",
      "92dfd4aa159f475b80a3801b24775b3c",
      "4e4b8bea85614c249bbb3996ac16845b",
      "87380e9324524e7b9c72c485569d33f0",
      "1b7eec3ba54d4b7f9ebd40cae2a87593",
      "8ba9e62b16cf4c299a24068d2c19b0e9",
      "fabb7c46e1724e7ca5dc3a071cb0e122",
      "8fc1101dfb4f463d9ee4a76e57e5e64d",
      "5839a3765889419cb591dde06fd04406",
      "720a31e3d0894543ad9471a5a8c33541",
      "2e0706dc6eb348cead381a226cf03421",
      "4c697f73c45b429cbc9edbdaac3ac7b9",
      "0c3d8c9a6c9d415a9569e766a1dae4d2",
      "e1d167ca13584f4ea7bd02b1bfa440e0",
      "7d950fed9c5644b3ad9fe3e814411b78",
      "b3431de3e714462f8d712016af785d3d",
      "f0006d5d51914a499f6eb7a763becafb",
      "216e1eb54ac5474399db2af39c50fd73",
      "9263a432cd3b47dd8d1f977a452d8a52",
      "a33034d0539a4a55a8f4246f9f7d4e04",
      "dc2e981884f442e78336fd287ad5b2d2",
      "f30c9e40e58a4ec8a4788f106ca11612",
      "22cc3c42a43544f1b4d8dea80e48209d",
      "95b067a646e049929baaf30a1efcdbac",
      "65177e51a54049b68e218219c797c31e"
     ]
    },
    "executionInfo": {
     "elapsed": 3807,
     "status": "ok",
     "timestamp": 1751285970633,
     "user": {
      "displayName": "김성한",
      "userId": "01456461380721472549"
     },
     "user_tz": -540
    },
    "id": "ivRHrczCihbN",
    "outputId": "d41d0419-4746-48a2-fc48-87cf2fca6a5e"
   },
   "outputs": [],
   "source": [
    "dataset = load_dataset(\"jeanlee/kmhas_korean_hate_speech\")\n",
    "dataset"
   ]
  },
  {
   "cell_type": "code",
   "execution_count": null,
   "metadata": {
    "id": "akK4f9Z8ip_8"
   },
   "outputs": [],
   "source": [
    "train = dataset['train']\n",
    "validation = dataset['validation']\n",
    "test = dataset['test']"
   ]
  },
  {
   "cell_type": "code",
   "execution_count": null,
   "metadata": {
    "colab": {
     "base_uri": "https://localhost:8080/"
    },
    "executionInfo": {
     "elapsed": 6,
     "status": "ok",
     "timestamp": 1751285970655,
     "user": {
      "displayName": "김성한",
      "userId": "01456461380721472549"
     },
     "user_tz": -540
    },
    "id": "9IBXVQ3GjY-K",
    "outputId": "e1ca650e-c2c3-4d63-b3c6-1bbc9891bbdb"
   },
   "outputs": [],
   "source": [
    "print(train[0])\n",
    "print(validation[0])\n",
    "print(test[0])"
   ]
  },
  {
   "cell_type": "code",
   "execution_count": null,
   "metadata": {
    "id": "FCgU-S49jjHg"
   },
   "outputs": [],
   "source": [
    "train_sentences = list(map(lambda x : '[CLS] ' + str(x) + ' [SEP]', train['text']))\n",
    "valid_sentences = list(map(lambda x : '[CLS] ' + str(x) + ' [SEP]', validation['text']))\n",
    "test_sentences = list(map(lambda x : '[CLS] ' + str(x) + ' [SEP]', test['text']))"
   ]
  },
  {
   "cell_type": "code",
   "execution_count": null,
   "metadata": {
    "colab": {
     "base_uri": "https://localhost:8080/"
    },
    "executionInfo": {
     "elapsed": 7,
     "status": "ok",
     "timestamp": 1751285970929,
     "user": {
      "displayName": "김성한",
      "userId": "01456461380721472549"
     },
     "user_tz": -540
    },
    "id": "U0sZdBqhkCrs",
    "outputId": "c5085264-36bd-4039-eb82-54abf8f3aa87"
   },
   "outputs": [],
   "source": [
    "print(train_sentences[0])"
   ]
  },
  {
   "cell_type": "code",
   "execution_count": null,
   "metadata": {
    "id": "3kL0RvO0kElz"
   },
   "outputs": [],
   "source": [
    "# 정답인 레이블의 위치에는 1, 나머지 위치에는 0 기록\n",
    "\n",
    "enc = MultiLabelBinarizer()\n",
    "\n",
    "def multi_label(examples):\n",
    "  enc_label = enc.fit_transform(examples['label'])\n",
    "  float_arr = np.vstack(enc_label[:]).astype(float)\n",
    "  update_label = float_arr.tolist()\n",
    "  return update_label"
   ]
  },
  {
   "cell_type": "code",
   "execution_count": null,
   "metadata": {
    "id": "G5-aOro4mAgy"
   },
   "outputs": [],
   "source": [
    "train_labels = multi_label(train)\n",
    "valid_labels = multi_label(validation)\n",
    "test_labels = multi_label(test)"
   ]
  },
  {
   "cell_type": "code",
   "execution_count": null,
   "metadata": {
    "colab": {
     "base_uri": "https://localhost:8080/"
    },
    "executionInfo": {
     "elapsed": 7,
     "status": "ok",
     "timestamp": 1751285971773,
     "user": {
      "displayName": "김성한",
      "userId": "01456461380721472549"
     },
     "user_tz": -540
    },
    "id": "61SgxMUFmJm-",
    "outputId": "de7dcf44-90b8-40a1-ce05-21caeaee4c15"
   },
   "outputs": [],
   "source": [
    "train_sentences[:5]"
   ]
  },
  {
   "cell_type": "code",
   "execution_count": null,
   "metadata": {
    "colab": {
     "base_uri": "https://localhost:8080/"
    },
    "executionInfo": {
     "elapsed": 5,
     "status": "ok",
     "timestamp": 1751285971779,
     "user": {
      "displayName": "김성한",
      "userId": "01456461380721472549"
     },
     "user_tz": -540
    },
    "id": "s8VtkeFTmNns",
    "outputId": "0a8cf2f0-ed07-49ff-a0fb-eece21309077"
   },
   "outputs": [],
   "source": [
    "train_labels[:5]"
   ]
  },
  {
   "cell_type": "code",
   "execution_count": null,
   "metadata": {
    "colab": {
     "base_uri": "https://localhost:8080/",
     "height": 177,
     "referenced_widgets": [
      "df41c22e60444cae8ed86fac7c198721",
      "71be9b7eab8647b287de951eaa8340ba",
      "ea1b619c979e456483ea47a1b401cf81",
      "477b4b5532b7448f829ddd57b90f0f6e",
      "abc39dd6478f4de48de5e9ffec7e8519",
      "07db643d21254cde9538bf9a8fb2bfa6",
      "f17e6987744644b39c7947ea4f60f23e",
      "614f20cbf5534f2c85c8571df6aa67de",
      "37587167933a42b8bb2cf190c45b30b3",
      "ac5c57f0ee0040069af3ca1f92ba1e01",
      "1327cc017d484c05bed7908478c943d2",
      "3f85fbe12c95431e966ce1e42386e9f0",
      "224e34e7d0f94db881728f43920292ac",
      "8d3a6b3581794907838e34868c29aee1",
      "3a42ccf6a27f43c88042e0fef8d1a12a",
      "670a6d54adb84f5a8367de2ae99cb77a",
      "1f419b3c966f4725bb3cc8df454c77e3",
      "ae67038e8ced48c08c9b2142f0b35e02",
      "cc2ce03f78e3439093e63b022445bc4c",
      "7646d9a6ffaa4c49b8a3dca8cadca368",
      "75bcd19b3562440d8e3b24e3a924f5cd",
      "e9884b6ee5e84a6f896785f98e67e151",
      "0b263d7fd4cf4bd99d5dc98c082c4803",
      "33b7e74133a44907b055511df19fd2c0",
      "93118e80987a4a088972308b21a03353",
      "b3d19a6f650b49a3897f40995012baa2",
      "0dbb804b80d54c19bb88c2e243816edb",
      "beb8eea8dd414e9fa78b42038b4b0c3e",
      "9c8cca4dc2e445d9b5eb0e6114e643fe",
      "ffcf2e7ec95f4887a8390f2cd6b7e60a",
      "f775dba210f443439ab9fd9804e1265d",
      "806d3275ab8046e89f5a98de7b8d27c6",
      "743038afb3324549b0661d8345eee378",
      "cacc0a7f08ca429e89ded3ca49f57a6c",
      "3c5a2518f1924459b454adbe9cb01ad5",
      "2604353b152e4685a9d2d0a85e3d4c0a",
      "30fdc00860194a93befc88cd810a5097",
      "935f42a1128d424ab4f9b023413aba1a",
      "3c6c7fdb687248dfa11f3524c9f48195",
      "a599174a8e3041b4a80a8871b150f7c5",
      "f2b78c0bdb554416a1f8a8e9761eeacd",
      "c0e5efba24a948b180a458ac7648b4cf",
      "27cb293dc643453bb32cdaaa99db313c",
      "7bd166c1feb543589820412a2c9dc13c",
      "1316dd43bd34466cbaea4fdbd8f3426a",
      "80ea11ee6acc41249147a6c7f4c43d8f",
      "ef462742a3f246098360189ae4a19b60",
      "eed35c5c45214e93916f6667fe931bb7",
      "2bf909aa48f340cdb8e5d354a7aa64a8",
      "5a01d8f2a30e4083823d410752a77e84",
      "a6499031e9f740caa51e49c26f2dc15a",
      "029d472a80b34e33b6b85e6cde5c037b",
      "aab15a1a497e44ed89999e77ae5e4ad4",
      "a2829e55532f45de86471b390c82cbed",
      "63770524db6d415cb832fdeb6c6454c9"
     ]
    },
    "executionInfo": {
     "elapsed": 1066,
     "status": "ok",
     "timestamp": 1751285972846,
     "user": {
      "displayName": "김성한",
      "userId": "01456461380721472549"
     },
     "user_tz": -540
    },
    "id": "G79n9LMemRfG",
    "outputId": "21af92d1-e14f-41dc-94a3-d22b978c14cf"
   },
   "outputs": [],
   "source": [
    "tokenizer = BertTokenizer.from_pretrained('klue/bert-base')"
   ]
  },
  {
   "cell_type": "code",
   "execution_count": null,
   "metadata": {
    "id": "p1vQNJG7mkt0"
   },
   "outputs": [],
   "source": [
    "max_len = 128\n",
    "\n",
    "def data_to_tensor(sentences, labels, max_len):\n",
    "\n",
    "  tokenized_text = [tokenizer.tokenize(sent) for sent in sentences]\n",
    "  input_ids = [tokenizer.convert_tokens_to_ids(x) for x in tokenized_text]\n",
    "  input_ids = pad_sequences(input_ids, maxlen = max_len, dtype = 'long', truncating = 'post', padding = 'post')\n",
    "\n",
    "  attention_masks = []\n",
    "\n",
    "  for seq in input_ids:\n",
    "    seq_mask = [float(i > 0) for i in seq]\n",
    "    attention_masks.append(seq_mask)\n",
    "\n",
    "  tensor_inputs = torch.tensor(input_ids)\n",
    "  tensor_labels = torch.tensor(labels)\n",
    "  tensor_masks = torch.tensor(attention_masks)\n",
    "\n",
    "  return tensor_inputs, tensor_labels, tensor_masks"
   ]
  },
  {
   "cell_type": "code",
   "execution_count": null,
   "metadata": {
    "id": "RjzFENZHn1Em"
   },
   "outputs": [],
   "source": [
    "train_inputs, train_labels, train_masks = data_to_tensor(train_sentences, train_labels, max_len = max_len)\n",
    "valid_inputs, valid_labels, valid_masks = data_to_tensor(valid_sentences, valid_labels, max_len = max_len)\n",
    "test_inputs, test_labels, test_masks = data_to_tensor(test_sentences, test_labels, max_len = max_len)"
   ]
  },
  {
   "cell_type": "code",
   "execution_count": null,
   "metadata": {
    "colab": {
     "base_uri": "https://localhost:8080/"
    },
    "executionInfo": {
     "elapsed": 13,
     "status": "ok",
     "timestamp": 1751286024963,
     "user": {
      "displayName": "김성한",
      "userId": "01456461380721472549"
     },
     "user_tz": -540
    },
    "id": "-wptHmyNoLP4",
    "outputId": "98745687-d6ee-4283-aa00-c59a21feab73"
   },
   "outputs": [],
   "source": [
    "print('정수 인코딩 결과 :', test_inputs[0])\n",
    "print('-' * 100)\n",
    "\n",
    "print('원본 문장 복원 결과 :', tokenizer.decode(test_inputs[0]))\n",
    "print('-' * 100)\n",
    "\n",
    "print('어텐션 마스크 :', test_masks[0])\n",
    "print('-' * 100)\n",
    "\n",
    "print('샘플의 길이 :', len(test_inputs[0]))\n",
    "print('-' * 100)\n",
    "\n",
    "print('레이블 :', test_labels[0])"
   ]
  },
  {
   "cell_type": "code",
   "execution_count": null,
   "metadata": {
    "id": "1NfH9ZN4pCHj"
   },
   "outputs": [],
   "source": [
    "batch_size = 64\n",
    "\n",
    "train_data = TensorDataset(train_inputs, train_masks, train_labels)\n",
    "train_sampler = RandomSampler(train_data)\n",
    "train_loader = DataLoader(train_data, sampler = train_sampler, batch_size = batch_size)\n",
    "\n",
    "valid_data = TensorDataset(valid_inputs, valid_masks, valid_labels)\n",
    "valid_sampler = SequentialSampler(valid_data)\n",
    "valid_loader = DataLoader(valid_data, sampler = valid_sampler, batch_size = batch_size)\n",
    "\n",
    "test_data = TensorDataset(test_inputs, test_masks, test_labels)\n",
    "test_sampler = RandomSampler(test_data)\n",
    "test_loader = DataLoader(test_data, sampler = test_sampler, batch_size = batch_size)"
   ]
  },
  {
   "cell_type": "code",
   "execution_count": null,
   "metadata": {
    "id": "LqRHfQd8p55X"
   },
   "outputs": [],
   "source": [
    "device = torch.device('cuda' if torch.cuda.is_available() else 'cpu')"
   ]
  },
  {
   "cell_type": "code",
   "execution_count": null,
   "metadata": {
    "colab": {
     "base_uri": "https://localhost:8080/",
     "height": 906,
     "referenced_widgets": [
      "80cc931f22d34b85bf3f0d5fbb6402d1",
      "963fbb5a4b6e4e9da1f219453d519275",
      "f210b74f240a495e89951d4ebff9943d",
      "cb522d6eeb0e4070874a4d3f5e50faf6",
      "5fdd6baed77546f0801ae880a3d4b7a9",
      "631f34275d284ed8872e00583ef04fab",
      "dbca92e2eecf456394c2068ced36d8a0",
      "788a43ada5454c5cbfdfa23452f4a8fb",
      "bdc023556664411fbfffdbe1d6fe8d4c",
      "3e2536ada1dc42b0b773e4628c1002ef",
      "85b546c900c946df8f57a0974ceafe6c"
     ]
    },
    "executionInfo": {
     "elapsed": 7000,
     "status": "ok",
     "timestamp": 1751286031964,
     "user": {
      "displayName": "김성한",
      "userId": "01456461380721472549"
     },
     "user_tz": -540
    },
    "id": "K8-E9yBuqGTP",
    "outputId": "a8ea027d-2eba-4b00-af32-14e994f6acee"
   },
   "outputs": [],
   "source": [
    "num_labels = 9\n",
    "\n",
    "model = BertForSequenceClassification.from_pretrained('klue/bert-base', num_labels = num_labels, problem_type = 'multi_label_classification')\n",
    "model.to(device)"
   ]
  },
  {
   "cell_type": "code",
   "execution_count": null,
   "metadata": {
    "id": "h01Vve_ZqWrZ"
   },
   "outputs": [],
   "source": [
    "epochs = 3\n",
    "optimizer = AdamW(model.parameters(), lr = 2e-5)"
   ]
  },
  {
   "cell_type": "code",
   "execution_count": null,
   "metadata": {
    "id": "uzW5NiNVrNIJ"
   },
   "outputs": [],
   "source": [
    "def metrics(pred, labels, threshold = 0.5):\n",
    "\n",
    "  y_pred = (pred >= threshold).astype(int)\n",
    "\n",
    "  accuarcy = accuracy_score(labels, y_pred)\n",
    "\n",
    "  f1_micro = f1_score(labels, y_pred, average = 'micro', zero_division = 0)\n",
    "  f1_macro = f1_score(labels, y_pred, average = 'macro', zero_division = 0)\n",
    "  f1_weight = f1_score(labels, y_pred, average = 'weighted', zero_division = 0)\n",
    "  roc_auc = roc_auc_score(labels, y_pred, average = 'micro')\n",
    "\n",
    "  metrics = {'Accuracy' : accuarcy,\n",
    "             'f1_micro' : f1_micro,\n",
    "             'f1_macro' : f1_macro,\n",
    "             'f1_weight' : f1_weight,\n",
    "             'Roc_auc_score' : roc_auc}\n",
    "\n",
    "  return metrics"
   ]
  },
  {
   "cell_type": "code",
   "execution_count": null,
   "metadata": {
    "id": "Zaz2qtTAsUVk"
   },
   "outputs": [],
   "source": [
    "def train_epoch(model, loader, optimizer, device):\n",
    "\n",
    "  total_loss = 0\n",
    "  model.train()\n",
    "\n",
    "  for step, batch in tqdm(enumerate(loader), desc = 'Training Batch'):\n",
    "    batch = tuple(t.to(device) for t in batch)\n",
    "    b_inputs, b_masks, b_labels = batch\n",
    "\n",
    "    outputs = model(b_inputs, attention_mask = b_masks, labels = b_labels, token_type_ids = None)\n",
    "    loss = outputs.loss\n",
    "\n",
    "    optimizer.zero_grad()\n",
    "    loss.backward()\n",
    "    optimizer.step()\n",
    "\n",
    "    total_loss += loss.item()\n",
    "\n",
    "  return total_loss / len(loader)"
   ]
  },
  {
   "cell_type": "code",
   "execution_count": null,
   "metadata": {
    "id": "tOEuTf-Etahx"
   },
   "outputs": [],
   "source": [
    "def evaluation(model, loader, device):\n",
    "\n",
    "  model.eval()\n",
    "  total_loss = 0\n",
    "  pred = []\n",
    "  true = []\n",
    "\n",
    "  for batch in loader:\n",
    "    batch = tuple(t.to(device) for t in batch)\n",
    "    b_inputs, b_masks, b_labels = batch\n",
    "\n",
    "    with torch.no_grad():\n",
    "      outputs = model(b_inputs, attention_mask = b_masks, labels = b_labels, token_type_ids = None)\n",
    "\n",
    "    loss = outputs.loss\n",
    "    total_loss += loss.item()\n",
    "\n",
    "    logits = outputs.logits.detach().cpu().numpy()\n",
    "    label_ids = b_labels.cpu().numpy()\n",
    "\n",
    "    sigmoid = nn.Sigmoid()\n",
    "    probs = sigmoid(torch.tensor(logits)).numpy()\n",
    "\n",
    "    pred.extend(probs)\n",
    "    true.extend(label_ids)\n",
    "\n",
    "  eval_metrics = metrics(np.array(pred), np.array(true))\n",
    "  avg_loss = total_loss / len(loader)\n",
    "\n",
    "  return avg_loss, eval_metrics"
   ]
  },
  {
   "cell_type": "code",
   "execution_count": null,
   "metadata": {
    "colab": {
     "base_uri": "https://localhost:8080/"
    },
    "executionInfo": {
     "elapsed": 4772689,
     "status": "ok",
     "timestamp": 1751292423883,
     "user": {
      "displayName": "김성한",
      "userId": "01456461380721472549"
     },
     "user_tz": -540
    },
    "id": "3exF5YiVvGrP",
    "outputId": "d82784eb-3b38-4333-8227-db9625656553"
   },
   "outputs": [],
   "source": [
    "min_val_loss = float('inf')\n",
    "\n",
    "for epoch in range(epochs):\n",
    "  print(f'{epoch + 1} | {epochs}')\n",
    "\n",
    "  train_epoch(model, train_loader, optimizer, device)\n",
    "\n",
    "  print('Running Validation...')\n",
    "  avg_loss, eval_metrics = evaluation(model, valid_loader, device)\n",
    "  print(f'Validation Loss : {avg_loss}')\n",
    "  print('Accuracy : {0:.2f}'.format(eval_metrics['Accuracy']))\n",
    "  print('F1_micro : {0:.2f}'.format(eval_metrics['f1_micro']))\n",
    "  print('F1_macro : {0:.2f}'.format(eval_metrics['f1_macro']))\n",
    "  print('F1_weight : {0:.2f}'.format(eval_metrics['f1_weight']))\n",
    "\n",
    "  if avg_loss < min_val_loss:\n",
    "    print(f'Validation loss decreased ({min_val_loss:.2f} --> {avg_loss:.2f}). Saving model...')\n",
    "    torch.save(model.state_dict(), 'best_model.pt')\n",
    "    min_val_loss = avg_loss"
   ]
  },
  {
   "cell_type": "code",
   "execution_count": null,
   "metadata": {
    "colab": {
     "base_uri": "https://localhost:8080/"
    },
    "executionInfo": {
     "elapsed": 370,
     "status": "ok",
     "timestamp": 1751292803387,
     "user": {
      "displayName": "김성한",
      "userId": "01456461380721472549"
     },
     "user_tz": -540
    },
    "id": "uVrHOn5gxfZF",
    "outputId": "4e6f6b1c-8a83-442c-ad4a-43e8eb5639d8"
   },
   "outputs": [],
   "source": [
    "from transformers import pipeline\n",
    "\n",
    "pipe = pipeline('text-classification', model = model.to(device), tokenizer = tokenizer, max_length = 512, device = 0, return_all_scores = True, function_to_apply = 'sigmoid')"
   ]
  },
  {
   "cell_type": "code",
   "execution_count": null,
   "metadata": {
    "id": "LWk2eJ3tECcz"
   },
   "outputs": [],
   "source": [
    "label_dict = {'LABEL_0' : '출신차별', 'LABEL_1' : '외모차별', 'LABEL_2' : '정치성향차별', 'LABEL_3' : '혐오욕설', 'LABEL_4' : '연령차별',\n",
    "              'LABEL_5' : '성차별', 'LABEL_6' : '인종차별', 'LABEL_7' : '종교차별', 'LABEL_8' : '해당사항없음'}\n",
    "\n",
    "def prediction(text):\n",
    "  result = pipe(text)\n",
    "  return [label_dict[res['label']] for res in result[0] if res['score'] > 0.5]"
   ]
  },
  {
   "cell_type": "code",
   "execution_count": null,
   "metadata": {
    "colab": {
     "base_uri": "https://localhost:8080/"
    },
    "executionInfo": {
     "elapsed": 40,
     "status": "ok",
     "timestamp": 1751292819483,
     "user": {
      "displayName": "김성한",
      "userId": "01456461380721472549"
     },
     "user_tz": -540
    },
    "id": "E3sZ26_tL4bb",
    "outputId": "1e754c4f-933b-4afa-9afd-2d685fd0ec91"
   },
   "outputs": [],
   "source": [
    "prediction('틀 니 들은 왜 그렇게 민폐를 끼치냐? 특히 나이 먹은 남자들이 심하다')"
   ]
  },
  {
   "cell_type": "code",
   "execution_count": null,
   "metadata": {
    "id": "ycBqJjZaL7ck"
   },
   "outputs": [],
   "source": []
  }
 ],
 "metadata": {
  "accelerator": "GPU",
  "colab": {
   "authorship_tag": "ABX9TyNXwqpuAEdrk0gAS/No2Ya+",
   "gpuType": "T4",
   "provenance": []
  },
  "kernelspec": {
   "display_name": "Python 3",
   "name": "python3"
  },
  "language_info": {
   "name": "python"
  }
 },
 "nbformat": 4,
 "nbformat_minor": 0
}
